{
 "cells": [
  {
   "cell_type": "markdown",
   "metadata": {
    "slideshow": {
     "slide_type": "slide"
    }
   },
   "source": [
    "# Supervised machine learning in Python with scikit-learn\n",
    "\n",
    "## James Bourbeau\n",
    "### Madison Python Meetup (MadPy)\n",
    "March 8, 2018\n",
    "\n",
    "GitHub: https://github.com/jrbourbeau/madpy-ml-sklearn-2018 <br>\n",
    "Slides: https://jrbourbeau.github.io/madpy-ml-sklearn-2018"
   ]
  },
  {
   "cell_type": "markdown",
   "metadata": {
    "slideshow": {
     "slide_type": "subslide"
    }
   },
   "source": [
    "## `$ whoami`\n",
    "\n",
    "- Physics Ph.D. student at UW-Madison\n",
    "\n",
    "- Originally introduced to programming with C++\n",
    "\n",
    "- Started using Python for work and have been hooked since 👍\n",
    "\n",
    "- Interested in machine learning and data science generally"
   ]
  },
  {
   "cell_type": "markdown",
   "metadata": {
    "slideshow": {
     "slide_type": "subslide"
    }
   },
   "source": [
    "## Supervised machine learning workflow\n",
    "\n",
    "![overview](images/overview.jpg \"overview\")\n",
    "\n",
    "<p style=\"font-size:14px\">\n",
    "Image source: <a href=\"https://sebastianraschka.com/blog/2016/model-evaluation-selection-part3.html\">Model evaluation, model selection, and algorithm selection in machine learning</a> by Sebastian Raschka\n",
    "</p>"
   ]
  },
  {
   "cell_type": "markdown",
   "metadata": {
    "slideshow": {
     "slide_type": "subslide"
    }
   },
   "source": [
    "## Outline\n",
    "\n",
    "- What is machine learning?\n",
    "\n",
    "    - Classical programming vs. machine learning\n",
    "\n",
    "    - Different machine learning tasks \n",
    "    \n",
    "- scikit-learn:\n",
    "\n",
    "    - Data representation\n",
    "    \n",
    "    - Estimator API\n",
    "    \n",
    "- Example model: decision tree classifier\n",
    "\n",
    "- Model validation"
   ]
  },
  {
   "cell_type": "markdown",
   "metadata": {
    "slideshow": {
     "slide_type": "subslide"
    }
   },
   "source": [
    "I've made a Python package, `plotting`, for this talk to simplify some of the code cell content (mostly related to plotting)"
   ]
  },
  {
   "cell_type": "code",
   "execution_count": 1,
   "metadata": {
    "slideshow": {
     "slide_type": "-"
    }
   },
   "outputs": [],
   "source": [
    "import plotting\n",
    "import matplotlib.pyplot as plt\n",
    "%matplotlib inline"
   ]
  },
  {
   "cell_type": "markdown",
   "metadata": {
    "slideshow": {
     "slide_type": "-"
    }
   },
   "source": [
    "Source code for `plotting` Python package can be found on GitHub with the rest of the talk material"
   ]
  },
  {
   "cell_type": "markdown",
   "metadata": {
    "slideshow": {
     "slide_type": "subslide"
    }
   },
   "source": [
    "# Machine learning vs. classical programming"
   ]
  },
  {
   "cell_type": "markdown",
   "metadata": {
    "slideshow": {
     "slide_type": "subslide"
    }
   },
   "source": [
    "## Classical programming\n",
    "\n",
    "- Devise a set of rules (an algorithm) that are used to accomplish a task\n",
    "\n",
    "- For example, labeling e-mails as either \"spam\" or \"not spam\"\n"
   ]
  },
  {
   "cell_type": "code",
   "execution_count": 2,
   "metadata": {
    "slideshow": {
     "slide_type": "fragment"
    }
   },
   "outputs": [],
   "source": [
    "def spam_filter(email):\n",
    "    \"\"\"Function that labels an email as 'spam' or 'not spam'\n",
    "    \"\"\"\n",
    "    if 'Act now!' in email.contents:\n",
    "        label = 'spam'\n",
    "    elif 'hotmail.com' in email.sender:\n",
    "        label = 'spam'\n",
    "    elif email.contents.count('$') > 20:\n",
    "        label = 'spam'\n",
    "    else:\n",
    "        label = 'not spam'\n",
    "\n",
    "    return label"
   ]
  },
  {
   "cell_type": "markdown",
   "metadata": {
    "slideshow": {
     "slide_type": "subslide"
    }
   },
   "source": [
    "## Machine learning\n",
    "\n",
    "- \"Field of study that gives computers the ability to learn without being explicitly programmed\" &mdash; Arthur Samuel (1959)\n",
    "\n",
    "- \"A machine-learning system is trained rather than explicit programmed. Its presented with many examples relevant to a task, and it finds statistical structure in these examples that eventually allows the system to come up with rules for automating the task\" &mdash; Francois Chollet, *Deep Learning with Python*\n",
    "\n",
    "- Machine learning is particularly useful for higher dimensional datasets and for problems such as image recognition where classical programming is hard\n",
    "\n",
    "- The influx of data from our ever increasingly digital world has enabled machine learning to be utilized in many more use cases "
   ]
  },
  {
   "cell_type": "markdown",
   "metadata": {
    "slideshow": {
     "slide_type": "skip"
    }
   },
   "source": [
    "## Classical programming vs. machine learning\n",
    "\n",
    "![Classical programming vs. machine learning. From *Deep Learning with Python* by Francois Chollet.](images/classical-vs-ML.png \"Classical programming vs. machine learning. From *Deep Learning with Python* by Francois Chollet.\")\n",
    "\n",
    "Image source: [_Deep Learning with Python_](https://www.manning.com/books/deep-learning-with-python) by Francois Chollet"
   ]
  },
  {
   "cell_type": "markdown",
   "metadata": {
    "slideshow": {
     "slide_type": "subslide"
    }
   },
   "source": [
    "## Types of machine learning\n",
    "\n",
    "- Supervised learning &mdash; Uses labeled data for training an algorithm. The algorithm learns how to successfully map between input data and the desired output.\n",
    "\n",
    "- Unsupervised learning &mdash; Uses unlabeled data to allow an algorithm to discover a pattern and structure within the data.\n",
    "\n",
    "    - Clustering\n",
    "    \n",
    "    - Dimensionality reduction\n",
    "    \n",
    "- Reinforcement learning"
   ]
  },
  {
   "cell_type": "markdown",
   "metadata": {
    "slideshow": {
     "slide_type": "subslide"
    }
   },
   "source": [
    "## Supervised machine learning\n",
    "\n",
    "- Models are trained using labeled data, hence the \"supervised\" in supervised learning. \n",
    "\n",
    "- Have a model learn from a labeled dataset (often called a training dataset) and make predictions about future, yet unseen, data. \n",
    "\n",
    "- Goal is to have trained model generalize well to future, yet unseen, data.\n",
    "\n",
    "- Model learns a mapping between input data and the desired output label.\n",
    "\n",
    "- Supervised machine learning is further divided into two types of problems:\n",
    "    <!-- - Classification &mdash; specify which of `k` categories some input belongs to. E.g. classify input e-mails as \"spam\" or \"not spam\".-->\n",
    "    \n",
    "    - Classification &mdash; Labels are discrete. E.g. classify input e-mails as \"spam\" or \"not spam\".\n",
    "\n",
    "    - Regression &mdash; Labels are continuous. E.g. home prices. "
   ]
  },
  {
   "cell_type": "markdown",
   "metadata": {
    "slideshow": {
     "slide_type": "subslide"
    }
   },
   "source": [
    "## Unsupervised machine learning\n",
    "\n",
    "- Models are trained using unlabeled data, hence the \"unsupervised\" in unsupervised learning. \n",
    "\n",
    "- Model tries to find underlying structure within dataset.\n",
    "\n",
    "- Examples of unsupervised machine learning tasks:\n",
    "\n",
    "    - Clustering &mdash; Find meaningful subgroups, or clusters, within a dataset. E.g. Marketing programs for different clusters of customers. \n",
    "\n",
    "    - Dimensionality reduction &mdash; Reduce the dimensionality of dataset."
   ]
  },
  {
   "cell_type": "markdown",
   "metadata": {
    "slideshow": {
     "slide_type": "subslide"
    }
   },
   "source": [
    "# Machine learning in Python with scikit-learn"
   ]
  },
  {
   "cell_type": "markdown",
   "metadata": {
    "slideshow": {
     "slide_type": "subslide"
    }
   },
   "source": [
    "## scikit-learn\n",
    "\n",
    "- Designed to be a [well documented](http://scikit-learn.org/stable/), well tested, and fast machine learning library that is approachable for non-specialist. \n",
    "\n",
    "- Only dependencies for installation are NumPy >= 1.8.2 and SciPy >= 0.13.3\n",
    "\n",
    "- scikit-learn can be easily installed with `pip`, `conda`, or built from source\n",
    "\n",
    "    - `pip install scikit-learn`\n",
    "\n",
    "    - `conda install scikit-learn`"
   ]
  },
  {
   "cell_type": "markdown",
   "metadata": {
    "slideshow": {
     "slide_type": "subslide"
    }
   },
   "source": [
    "## Data representation in scikit-learn\n",
    "\n",
    "- Formatted feature matrix of with `n_samples` rows and `n_features` columns \n",
    "\n",
    "- Target (or label) vector with `n_samples` items\n",
    "\n",
    "- Dataset will be NumPy `ndarray` objects for this talk\n",
    "\n",
    "![scikit-learn data representation](https://raw.githubusercontent.com/jakevdp/PythonDataScienceHandbook/599aa0fe3f882c0001670e676e5a8d43b92c35fc/notebooks/figures/05.02-samples-features.png)\n",
    "\n",
    "<p style=\"font-size:14px\">\n",
    "Image source: <a href=\"https://github.com/jakevdp/PythonDataScienceHandbook\">Python Data Science Handbook</a> by Jake Vanderplas\n",
    "</p>"
   ]
  },
  {
   "cell_type": "markdown",
   "metadata": {
    "slideshow": {
     "slide_type": "skip"
    }
   },
   "source": [
    "## NumPy N-dimensional array\n",
    "\n",
    "- NumPy `ndarray` object is the standard data structure.\n",
    "\n",
    "    - Can think of a NumPy array as an efficient Python `list`.\n",
    "    \n",
    "    - Item in array must be of the same type. \n",
    "    \n",
    "    - Size of array must be specified to allocate the appropriate amount of memory. \n",
    "    \n",
    "- NumPy arrays are at the core of nearly the entire Python data science ecosystem. "
   ]
  },
  {
   "cell_type": "markdown",
   "metadata": {
    "slideshow": {
     "slide_type": "subslide"
    }
   },
   "source": [
    "## Iris dataset\n",
    "\n",
    "\n",
    "![Iris dataset](images/iris-nolabel.png)"
   ]
  },
  {
   "cell_type": "markdown",
   "metadata": {
    "slideshow": {
     "slide_type": "subslide"
    }
   },
   "source": [
    "## Example classification problem: flower classification\n",
    "\n",
    "- Dataset consists of 150 samples (individual flowers) that have 4 features: sepal length, sepal width, petal length, and petal width (all in cm)\n",
    "    \n",
    "- Target classes to predict are the iris plant species: Iris Setosa, Iris Versicolour, Iris Virginica\n",
    "    \n",
    "- Classic classification problem example\n",
    "\n",
    "- Iris dataset is freely available from the [UCI Machine Learning Repository](https://archive.ics.uci.edu/ml/datasets/iris)"
   ]
  },
  {
   "cell_type": "markdown",
   "metadata": {
    "slideshow": {
     "slide_type": "subslide"
    }
   },
   "source": [
    "## Loading the iris dataset"
   ]
  },
  {
   "cell_type": "code",
   "execution_count": 3,
   "metadata": {
    "scrolled": false,
    "slideshow": {
     "slide_type": "-"
    }
   },
   "outputs": [
    {
     "name": "stdout",
     "output_type": "stream",
     "text": [
      "First 5 samples of X: \n",
      "[[5.1 3.5 1.4 0.2]\n",
      " [4.9 3.  1.4 0.2]\n",
      " [4.7 3.2 1.3 0.2]\n",
      " [4.6 3.1 1.5 0.2]\n",
      " [5.  3.6 1.4 0.2]]\n",
      "Labels: \n",
      "[0 0 0 0 0 0 0 0 0 0 0 0 0 0 0 0 0 0 0 0 0 0 0 0 0 0 0 0 0 0 0 0 0 0 0 0 0\n",
      " 0 0 0 0 0 0 0 0 0 0 0 0 0 1 1 1 1 1 1 1 1 1 1 1 1 1 1 1 1 1 1 1 1 1 1 1 1\n",
      " 1 1 1 1 1 1 1 1 1 1 1 1 1 1 1 1 1 1 1 1 1 1 1 1 1 1 2 2 2 2 2 2 2 2 2 2 2\n",
      " 2 2 2 2 2 2 2 2 2 2 2 2 2 2 2 2 2 2 2 2 2 2 2 2 2 2 2 2 2 2 2 2 2 2 2 2 2\n",
      " 2 2]\n"
     ]
    }
   ],
   "source": [
    "from sklearn.datasets import load_iris\n",
    "\n",
    "X, y = load_iris(return_X_y=True)\n",
    "print(f'First 5 samples of X: \\n{X[:5]}')\n",
    "print(f'Labels: \\n{y}')"
   ]
  },
  {
   "cell_type": "code",
   "execution_count": 4,
   "metadata": {
    "slideshow": {
     "slide_type": "subslide"
    }
   },
   "outputs": [
    {
     "data": {
      "image/png": "[encoded data removed]",
      "text/plain": [
       "<matplotlib.figure.Figure at 0x11ccff278>"
      ]
     },
     "metadata": {},
     "output_type": "display_data"
    }
   ],
   "source": [
    "plotting.plot_iris_dataset()"
   ]
  },
  {
   "cell_type": "code",
   "execution_count": 5,
   "metadata": {
    "slideshow": {
     "slide_type": "subslide"
    }
   },
   "outputs": [],
   "source": [
    "X = X[:, :2]"
   ]
  },
  {
   "cell_type": "code",
   "execution_count": 6,
   "metadata": {},
   "outputs": [
    {
     "data": {
      "image/png": "[encoded data removed]",
      "text/plain": [
       "<matplotlib.figure.Figure at 0x11f41d0b8>"
      ]
     },
     "metadata": {},
     "output_type": "display_data"
    }
   ],
   "source": [
    "for target, label in zip(range(3), ['setosa', 'versicolor', 'virginica']):\n",
    "    plt.scatter(X[y == target, 0], X[y == target, 1], color=f'C{target}', lw=0)\n",
    "plt.xlabel('Sepal length (cm)')\n",
    "plt.ylabel('Sepal width (cm)')\n",
    "plt.title('Iris dataset features')\n",
    "plt.show()"
   ]
  },
  {
   "cell_type": "markdown",
   "metadata": {
    "slideshow": {
     "slide_type": "subslide"
    }
   },
   "source": [
    "## Estimators in scikit-learn\n",
    "\n",
    "- Algorithms are implemented as classes (known as estimators) in scikit-learn"
   ]
  },
  {
   "cell_type": "code",
   "execution_count": 7,
   "metadata": {
    "slideshow": {
     "slide_type": "-"
    }
   },
   "outputs": [],
   "source": [
    "from sklearn.tree import DecisionTreeClassifier, DecisionTreeRegressor\n",
    "from sklearn.neighbors import KNeighborsClassifier, KNeighborsRegressor\n",
    "from sklearn.ensemble import RandomForestClassifier, GradientBoostingRegressor\n",
    "from sklearn.svm import SVC, SVR\n",
    "from sklearn.linear_model import LinearRegression, LogisticRegression"
   ]
  },
  {
   "cell_type": "markdown",
   "metadata": {
    "slideshow": {
     "slide_type": "-"
    }
   },
   "source": [
    "- A model is an instance of one of these estimator classes"
   ]
  },
  {
   "cell_type": "code",
   "execution_count": 8,
   "metadata": {
    "slideshow": {
     "slide_type": "-"
    }
   },
   "outputs": [],
   "source": [
    "model = DecisionTreeClassifier()"
   ]
  },
  {
   "cell_type": "markdown",
   "metadata": {
    "slideshow": {
     "slide_type": "-"
    }
   },
   "source": [
    "- Each estimator in scikit-learn is extensively documented (see the [DecisionTreeClassifier documentation](http://scikit-learn.org/stable/modules/generated/sklearn.tree.DecisionTreeClassifier.html))\n",
    "\n",
    "    - API documentation\n",
    "    \n",
    "    - User guide\n",
    "    \n",
    "    - Examples"
   ]
  },
  {
   "cell_type": "markdown",
   "metadata": {
    "slideshow": {
     "slide_type": "subslide"
    }
   },
   "source": [
    "## Estimator API\n",
    "\n",
    "<br>\n",
    "\n",
    "```python\n",
    "class Estimator(BaseClass):\n",
    "\n",
    "    def __init__(self, **hyperparameters):\n",
    "        # Setup Estimator here\n",
    "        \n",
    "    def fit(self, X, y):\n",
    "        # Implement algorithm here\n",
    "        \n",
    "        return self\n",
    "       \n",
    "    def predict(self, X):\n",
    "        # Get predictions from fitted model\n",
    "        \n",
    "        return y_pred\n",
    "```"
   ]
  },
  {
   "cell_type": "markdown",
   "metadata": {
    "slideshow": {
     "slide_type": "subslide"
    }
   },
   "source": [
    "## Estimator API"
   ]
  },
  {
   "cell_type": "markdown",
   "metadata": {
    "slideshow": {
     "slide_type": "-"
    }
   },
   "source": [
    "Each type of algorithm, e.g. `DecisionTreeClassifier`, `GradientBoostingRegressor`, etc., have their own hyperparameters "
   ]
  },
  {
   "cell_type": "code",
   "execution_count": 9,
   "metadata": {
    "slideshow": {
     "slide_type": "-"
    }
   },
   "outputs": [],
   "source": [
    "model_1 = DecisionTreeClassifier(max_depth=5)\n",
    "model_2 = DecisionTreeClassifier(max_depth=100)"
   ]
  },
  {
   "cell_type": "code",
   "execution_count": 10,
   "metadata": {
    "slideshow": {
     "slide_type": "-"
    }
   },
   "outputs": [],
   "source": [
    "# Create the model\n",
    "model = DecisionTreeClassifier()\n",
    "\n",
    "# Fit the model\n",
    "model.fit(X, y);"
   ]
  },
  {
   "cell_type": "markdown",
   "metadata": {
    "slideshow": {
     "slide_type": "subslide"
    }
   },
   "source": [
    "## Example algorithm: decision tree classifier\n",
    "\n",
    "- Easy to understand and interpretable model\n",
    "\n",
    "- Requires little data preparation\n",
    "\n",
    "- Building block for more advanced models (i.e. random forests, boosted decision trees)"
   ]
  },
  {
   "cell_type": "markdown",
   "metadata": {
    "slideshow": {
     "slide_type": "subslide"
    }
   },
   "source": [
    "Idea behind the decision tree algorithm is to sequentially partition a training dataset by asking a series of questions. \n",
    "\n",
    "![Decision tree](images/tree.png \"Decision tree\")\n",
    "\n",
    "\n",
    "<p style=\"font-size:14px\">\n",
    "Image source: <a href=\"https://www.amazon.com/Python-Machine-Learning-scikit-learn-TensorFlow/dp/1787125939\">Python Machine Learning</a> by Sebastian Raschka\n",
    "</p>"
   ]
  },
  {
   "cell_type": "markdown",
   "metadata": {
    "slideshow": {
     "slide_type": "subslide"
    }
   },
   "source": [
    "## Decision tree classifier in scikit-learn"
   ]
  },
  {
   "cell_type": "code",
   "execution_count": 11,
   "metadata": {
    "slideshow": {
     "slide_type": "-"
    }
   },
   "outputs": [],
   "source": [
    "from sklearn.tree import DecisionTreeClassifier"
   ]
  },
  {
   "cell_type": "markdown",
   "metadata": {
    "slideshow": {
     "slide_type": "-"
    }
   },
   "source": [
    "Hyperparameters:\n",
    "\n",
    "- `max_depth` : The maximum depth of the tree.\n",
    "\n",
    "- `criterion` : The function to measure the quality of a split. Supported criteria are “gini” for the Gini impurity and “entropy” for the information gain."
   ]
  },
  {
   "cell_type": "markdown",
   "metadata": {
    "slideshow": {
     "slide_type": "subslide"
    }
   },
   "source": [
    "## Decision regions "
   ]
  },
  {
   "cell_type": "code",
   "execution_count": 12,
   "metadata": {
    "slideshow": {
     "slide_type": "-"
    }
   },
   "outputs": [
    {
     "data": {
      "image/png": "[encoded data removed]",
      "text/plain": [
       "<matplotlib.figure.Figure at 0x11fcfb438>"
      ]
     },
     "metadata": {},
     "output_type": "display_data"
    }
   ],
   "source": [
    "from mlxtend.plotting import plot_decision_regions\n",
    "\n",
    "plot_decision_regions(X, y, model, colors='C0,C1,C2', markers='ooo', hide_spines=False)\n",
    "plt.xlabel('Sepal length (cm)')\n",
    "plt.ylabel('Sepal width (cm)')\n",
    "plt.show()"
   ]
  },
  {
   "cell_type": "code",
   "execution_count": 13,
   "metadata": {
    "scrolled": false,
    "slideshow": {
     "slide_type": "subslide"
    }
   },
   "outputs": [
    {
     "data": {
      "image/svg+xml": [
       "<?xml version=\"1.0\" encoding=\"UTF-8\" standalone=\"no\"?>\n",
       "<!DOCTYPE svg PUBLIC \"-//W3C//DTD SVG 1.1//EN\"\n",
       " \"http://www.w3.org/Graphics/SVG/1.1/DTD/svg11.dtd\">\n",
       "<!-- Generated by graphviz version 2.38.0 (20140413.2041)\n",
       " -->\n",
       "<!-- Title: Tree Pages: 1 -->\n",
       "<svg width=\"2346pt\" height=\"1440pt\"\n",
       " viewBox=\"0.00 0.00 2346.48 1440.00\" xmlns=\"http://www.w3.org/2000/svg\" xmlns:xlink=\"http://www.w3.org/1999/xlink\">\n",
       "<g id=\"graph0\" class=\"graph\" transform=\"scale(1 1) rotate(0) translate(4 1436)\">\n",
       "<title>Tree</title>\n",
       "<polygon fill=\"white\" stroke=\"none\" points=\"-4,4 -4,-1436 2342.48,-1436 2342.48,4 -4,4\"/>\n",
       "<!-- 0 -->\n",
       "<g id=\"node1\" class=\"node\"><title>0</title>\n",
       "<path fill=\"none\" stroke=\"black\" d=\"M786.967,-1432C786.967,-1432 644.788,-1432 644.788,-1432 638.788,-1432 632.788,-1426 632.788,-1420 632.788,-1420 632.788,-1366 632.788,-1366 632.788,-1360 638.788,-1354 644.788,-1354 644.788,-1354 786.967,-1354 786.967,-1354 792.967,-1354 798.967,-1360 798.967,-1366 798.967,-1366 798.967,-1420 798.967,-1420 798.967,-1426 792.967,-1432 786.967,-1432\"/>\n",
       "<text text-anchor=\"start\" x=\"640.833\" y=\"-1416.8\" font-family=\"Helvetica,sans-Serif\" font-size=\"14.00\">sepal length (cm) ≤ 5.45</text>\n",
       "<text text-anchor=\"start\" x=\"679.486\" y=\"-1402.8\" font-family=\"Helvetica,sans-Serif\" font-size=\"14.00\">gini = 0.667</text>\n",
       "<text text-anchor=\"start\" x=\"670.155\" y=\"-1388.8\" font-family=\"Helvetica,sans-Serif\" font-size=\"14.00\">samples = 150</text>\n",
       "<text text-anchor=\"start\" x=\"656.138\" y=\"-1374.8\" font-family=\"Helvetica,sans-Serif\" font-size=\"14.00\">value = [50, 50, 50]</text>\n",
       "<text text-anchor=\"start\" x=\"671.328\" y=\"-1360.8\" font-family=\"Helvetica,sans-Serif\" font-size=\"14.00\">class = setosa</text>\n",
       "</g>\n",
       "<!-- 1 -->\n",
       "<g id=\"node2\" class=\"node\"><title>1</title>\n",
       "<path fill=\"#e58139\" fill-opacity=\"0.847059\" stroke=\"black\" d=\"M648.219,-1318C648.219,-1318 519.536,-1318 519.536,-1318 513.536,-1318 507.536,-1312 507.536,-1306 507.536,-1306 507.536,-1252 507.536,-1252 507.536,-1246 513.536,-1240 519.536,-1240 519.536,-1240 648.219,-1240 648.219,-1240 654.219,-1240 660.219,-1246 660.219,-1252 660.219,-1252 660.219,-1306 660.219,-1306 660.219,-1312 654.219,-1318 648.219,-1318\"/>\n",
       "<text text-anchor=\"start\" x=\"515.457\" y=\"-1302.8\" font-family=\"Helvetica,sans-Serif\" font-size=\"14.00\">sepal width (cm) ≤ 2.8</text>\n",
       "<text text-anchor=\"start\" x=\"547.486\" y=\"-1288.8\" font-family=\"Helvetica,sans-Serif\" font-size=\"14.00\">gini = 0.237</text>\n",
       "<text text-anchor=\"start\" x=\"542.048\" y=\"-1274.8\" font-family=\"Helvetica,sans-Serif\" font-size=\"14.00\">samples = 52</text>\n",
       "<text text-anchor=\"start\" x=\"531.924\" y=\"-1260.8\" font-family=\"Helvetica,sans-Serif\" font-size=\"14.00\">value = [45, 6, 1]</text>\n",
       "<text text-anchor=\"start\" x=\"539.328\" y=\"-1246.8\" font-family=\"Helvetica,sans-Serif\" font-size=\"14.00\">class = setosa</text>\n",
       "</g>\n",
       "<!-- 0&#45;&gt;1 -->\n",
       "<g id=\"edge1\" class=\"edge\"><title>0&#45;&gt;1</title>\n",
       "<path fill=\"none\" stroke=\"black\" d=\"M670.82,-1353.77C659.775,-1344.4 647.858,-1334.29 636.494,-1324.64\"/>\n",
       "<polygon fill=\"black\" stroke=\"black\" points=\"638.622,-1321.86 628.732,-1318.06 634.093,-1327.2 638.622,-1321.86\"/>\n",
       "<text text-anchor=\"middle\" x=\"630.774\" y=\"-1338.77\" font-family=\"Helvetica,sans-Serif\" font-size=\"14.00\">True</text>\n",
       "</g>\n",
       "<!-- 14 -->\n",
       "<g id=\"node15\" class=\"node\"><title>14</title>\n",
       "<path fill=\"#8139e5\" fill-opacity=\"0.094118\" stroke=\"black\" d=\"M919.967,-1318C919.967,-1318 777.788,-1318 777.788,-1318 771.788,-1318 765.788,-1312 765.788,-1306 765.788,-1306 765.788,-1252 765.788,-1252 765.788,-1246 771.788,-1240 777.788,-1240 777.788,-1240 919.967,-1240 919.967,-1240 925.967,-1240 931.967,-1246 931.967,-1252 931.967,-1252 931.967,-1306 931.967,-1306 931.967,-1312 925.967,-1318 919.967,-1318\"/>\n",
       "<text text-anchor=\"start\" x=\"773.833\" y=\"-1302.8\" font-family=\"Helvetica,sans-Serif\" font-size=\"14.00\">sepal length (cm) ≤ 6.15</text>\n",
       "<text text-anchor=\"start\" x=\"812.486\" y=\"-1288.8\" font-family=\"Helvetica,sans-Serif\" font-size=\"14.00\">gini = 0.546</text>\n",
       "<text text-anchor=\"start\" x=\"807.048\" y=\"-1274.8\" font-family=\"Helvetica,sans-Serif\" font-size=\"14.00\">samples = 98</text>\n",
       "<text text-anchor=\"start\" x=\"793.031\" y=\"-1260.8\" font-family=\"Helvetica,sans-Serif\" font-size=\"14.00\">value = [5, 44, 49]</text>\n",
       "<text text-anchor=\"start\" x=\"799.276\" y=\"-1246.8\" font-family=\"Helvetica,sans-Serif\" font-size=\"14.00\">class = virginica</text>\n",
       "</g>\n",
       "<!-- 0&#45;&gt;14 -->\n",
       "<g id=\"edge14\" class=\"edge\"><title>0&#45;&gt;14</title>\n",
       "<path fill=\"none\" stroke=\"black\" d=\"M761.277,-1353.77C772.404,-1344.4 784.412,-1334.29 795.862,-1324.64\"/>\n",
       "<polygon fill=\"black\" stroke=\"black\" points=\"798.288,-1327.18 803.683,-1318.06 793.779,-1321.82 798.288,-1327.18\"/>\n",
       "<text text-anchor=\"middle\" x=\"801.548\" y=\"-1338.77\" font-family=\"Helvetica,sans-Serif\" font-size=\"14.00\">False</text>\n",
       "</g>\n",
       "<!-- 2 -->\n",
       "<g id=\"node3\" class=\"node\"><title>2</title>\n",
       "<path fill=\"#39e581\" fill-opacity=\"0.666667\" stroke=\"black\" d=\"M338.181,-1204C338.181,-1204 203.573,-1204 203.573,-1204 197.573,-1204 191.573,-1198 191.573,-1192 191.573,-1192 191.573,-1138 191.573,-1138 191.573,-1132 197.573,-1126 203.573,-1126 203.573,-1126 338.181,-1126 338.181,-1126 344.181,-1126 350.181,-1132 350.181,-1138 350.181,-1138 350.181,-1192 350.181,-1192 350.181,-1198 344.181,-1204 338.181,-1204\"/>\n",
       "<text text-anchor=\"start\" x=\"199.726\" y=\"-1188.8\" font-family=\"Helvetica,sans-Serif\" font-size=\"14.00\">sepal length (cm) ≤ 4.7</text>\n",
       "<text text-anchor=\"start\" x=\"234.486\" y=\"-1174.8\" font-family=\"Helvetica,sans-Serif\" font-size=\"14.00\">gini = 0.449</text>\n",
       "<text text-anchor=\"start\" x=\"232.941\" y=\"-1160.8\" font-family=\"Helvetica,sans-Serif\" font-size=\"14.00\">samples = 7</text>\n",
       "<text text-anchor=\"start\" x=\"222.817\" y=\"-1146.8\" font-family=\"Helvetica,sans-Serif\" font-size=\"14.00\">value = [1, 5, 1]</text>\n",
       "<text text-anchor=\"start\" x=\"217\" y=\"-1132.8\" font-family=\"Helvetica,sans-Serif\" font-size=\"14.00\">class = versicolor</text>\n",
       "</g>\n",
       "<!-- 1&#45;&gt;2 -->\n",
       "<g id=\"edge2\" class=\"edge\"><title>1&#45;&gt;2</title>\n",
       "<path fill=\"none\" stroke=\"black\" d=\"M507.309,-1250.6C462.694,-1234.64 406.231,-1214.43 359.673,-1197.77\"/>\n",
       "<polygon fill=\"black\" stroke=\"black\" points=\"360.793,-1194.46 350.198,-1194.38 358.434,-1201.05 360.793,-1194.46\"/>\n",
       "</g>\n",
       "<!-- 9 -->\n",
       "<g id=\"node10\" class=\"node\"><title>9</title>\n",
       "<path fill=\"#e58139\" fill-opacity=\"0.976471\" stroke=\"black\" d=\"M654.967,-1204C654.967,-1204 512.788,-1204 512.788,-1204 506.788,-1204 500.788,-1198 500.788,-1192 500.788,-1192 500.788,-1138 500.788,-1138 500.788,-1132 506.788,-1126 512.788,-1126 512.788,-1126 654.967,-1126 654.967,-1126 660.967,-1126 666.967,-1132 666.967,-1138 666.967,-1138 666.967,-1192 666.967,-1192 666.967,-1198 660.967,-1204 654.967,-1204\"/>\n",
       "<text text-anchor=\"start\" x=\"508.833\" y=\"-1188.8\" font-family=\"Helvetica,sans-Serif\" font-size=\"14.00\">sepal length (cm) ≤ 5.35</text>\n",
       "<text text-anchor=\"start\" x=\"547.486\" y=\"-1174.8\" font-family=\"Helvetica,sans-Serif\" font-size=\"14.00\">gini = 0.043</text>\n",
       "<text text-anchor=\"start\" x=\"542.048\" y=\"-1160.8\" font-family=\"Helvetica,sans-Serif\" font-size=\"14.00\">samples = 45</text>\n",
       "<text text-anchor=\"start\" x=\"531.924\" y=\"-1146.8\" font-family=\"Helvetica,sans-Serif\" font-size=\"14.00\">value = [44, 1, 0]</text>\n",
       "<text text-anchor=\"start\" x=\"539.328\" y=\"-1132.8\" font-family=\"Helvetica,sans-Serif\" font-size=\"14.00\">class = setosa</text>\n",
       "</g>\n",
       "<!-- 1&#45;&gt;9 -->\n",
       "<g id=\"edge9\" class=\"edge\"><title>1&#45;&gt;9</title>\n",
       "<path fill=\"none\" stroke=\"black\" d=\"M583.877,-1239.77C583.877,-1231.57 583.877,-1222.8 583.877,-1214.28\"/>\n",
       "<polygon fill=\"black\" stroke=\"black\" points=\"587.378,-1214.06 583.877,-1204.06 580.378,-1214.06 587.378,-1214.06\"/>\n",
       "</g>\n",
       "<!-- 3 -->\n",
       "<g id=\"node4\" class=\"node\"><title>3</title>\n",
       "<path fill=\"#e58139\" stroke=\"black\" d=\"M157.998,-1083C157.998,-1083 69.7573,-1083 69.7573,-1083 63.7573,-1083 57.7573,-1077 57.7573,-1071 57.7573,-1071 57.7573,-1031 57.7573,-1031 57.7573,-1025 63.7573,-1019 69.7573,-1019 69.7573,-1019 157.998,-1019 157.998,-1019 163.998,-1019 169.998,-1025 169.998,-1031 169.998,-1031 169.998,-1071 169.998,-1071 169.998,-1077 163.998,-1083 157.998,-1083\"/>\n",
       "<text text-anchor=\"start\" x=\"85.2725\" y=\"-1067.8\" font-family=\"Helvetica,sans-Serif\" font-size=\"14.00\">gini = 0.0</text>\n",
       "<text text-anchor=\"start\" x=\"75.9414\" y=\"-1053.8\" font-family=\"Helvetica,sans-Serif\" font-size=\"14.00\">samples = 1</text>\n",
       "<text text-anchor=\"start\" x=\"65.8174\" y=\"-1039.8\" font-family=\"Helvetica,sans-Serif\" font-size=\"14.00\">value = [1, 0, 0]</text>\n",
       "<text text-anchor=\"start\" x=\"69.3276\" y=\"-1025.8\" font-family=\"Helvetica,sans-Serif\" font-size=\"14.00\">class = setosa</text>\n",
       "</g>\n",
       "<!-- 2&#45;&gt;3 -->\n",
       "<g id=\"edge3\" class=\"edge\"><title>2&#45;&gt;3</title>\n",
       "<path fill=\"none\" stroke=\"black\" d=\"M217.286,-1125.77C200.644,-1113.9 182.336,-1100.84 165.809,-1089.05\"/>\n",
       "<polygon fill=\"black\" stroke=\"black\" points=\"167.52,-1085.97 157.347,-1083.01 163.455,-1091.67 167.52,-1085.97\"/>\n",
       "</g>\n",
       "<!-- 4 -->\n",
       "<g id=\"node5\" class=\"node\"><title>4</title>\n",
       "<path fill=\"#39e581\" fill-opacity=\"0.800000\" stroke=\"black\" d=\"M341.967,-1090C341.967,-1090 199.788,-1090 199.788,-1090 193.788,-1090 187.788,-1084 187.788,-1078 187.788,-1078 187.788,-1024 187.788,-1024 187.788,-1018 193.788,-1012 199.788,-1012 199.788,-1012 341.967,-1012 341.967,-1012 347.967,-1012 353.967,-1018 353.967,-1024 353.967,-1024 353.967,-1078 353.967,-1078 353.967,-1084 347.967,-1090 341.967,-1090\"/>\n",
       "<text text-anchor=\"start\" x=\"195.833\" y=\"-1074.8\" font-family=\"Helvetica,sans-Serif\" font-size=\"14.00\">sepal length (cm) ≤ 4.95</text>\n",
       "<text text-anchor=\"start\" x=\"234.486\" y=\"-1060.8\" font-family=\"Helvetica,sans-Serif\" font-size=\"14.00\">gini = 0.278</text>\n",
       "<text text-anchor=\"start\" x=\"232.941\" y=\"-1046.8\" font-family=\"Helvetica,sans-Serif\" font-size=\"14.00\">samples = 6</text>\n",
       "<text text-anchor=\"start\" x=\"222.817\" y=\"-1032.8\" font-family=\"Helvetica,sans-Serif\" font-size=\"14.00\">value = [0, 5, 1]</text>\n",
       "<text text-anchor=\"start\" x=\"217\" y=\"-1018.8\" font-family=\"Helvetica,sans-Serif\" font-size=\"14.00\">class = versicolor</text>\n",
       "</g>\n",
       "<!-- 2&#45;&gt;4 -->\n",
       "<g id=\"edge4\" class=\"edge\"><title>2&#45;&gt;4</title>\n",
       "<path fill=\"none\" stroke=\"black\" d=\"M270.877,-1125.77C270.877,-1117.57 270.877,-1108.8 270.877,-1100.28\"/>\n",
       "<polygon fill=\"black\" stroke=\"black\" points=\"274.378,-1100.06 270.877,-1090.06 267.378,-1100.06 274.378,-1100.06\"/>\n",
       "</g>\n",
       "<!-- 5 -->\n",
       "<g id=\"node6\" class=\"node\"><title>5</title>\n",
       "<path fill=\"none\" stroke=\"black\" d=\"M198.006,-976C198.006,-976 61.7491,-976 61.7491,-976 55.7491,-976 49.7491,-970 49.7491,-964 49.7491,-964 49.7491,-910 49.7491,-910 49.7491,-904 55.7491,-898 61.7491,-898 61.7491,-898 198.006,-898 198.006,-898 204.006,-898 210.006,-904 210.006,-910 210.006,-910 210.006,-964 210.006,-964 210.006,-970 204.006,-976 198.006,-976\"/>\n",
       "<text text-anchor=\"start\" x=\"57.5635\" y=\"-960.8\" font-family=\"Helvetica,sans-Serif\" font-size=\"14.00\">sepal width (cm) ≤ 2.45</text>\n",
       "<text text-anchor=\"start\" x=\"101.272\" y=\"-946.8\" font-family=\"Helvetica,sans-Serif\" font-size=\"14.00\">gini = 0.5</text>\n",
       "<text text-anchor=\"start\" x=\"91.9414\" y=\"-932.8\" font-family=\"Helvetica,sans-Serif\" font-size=\"14.00\">samples = 2</text>\n",
       "<text text-anchor=\"start\" x=\"81.8174\" y=\"-918.8\" font-family=\"Helvetica,sans-Serif\" font-size=\"14.00\">value = [0, 1, 1]</text>\n",
       "<text text-anchor=\"start\" x=\"76\" y=\"-904.8\" font-family=\"Helvetica,sans-Serif\" font-size=\"14.00\">class = versicolor</text>\n",
       "</g>\n",
       "<!-- 4&#45;&gt;5 -->\n",
       "<g id=\"edge5\" class=\"edge\"><title>4&#45;&gt;5</title>\n",
       "<path fill=\"none\" stroke=\"black\" d=\"M222.748,-1011.77C210.837,-1002.31 197.976,-992.092 185.731,-982.366\"/>\n",
       "<polygon fill=\"black\" stroke=\"black\" points=\"187.798,-979.538 177.79,-976.058 183.444,-985.019 187.798,-979.538\"/>\n",
       "</g>\n",
       "<!-- 8 -->\n",
       "<g id=\"node9\" class=\"node\"><title>8</title>\n",
       "<path fill=\"#39e581\" stroke=\"black\" d=\"M339.633,-969C339.633,-969 240.122,-969 240.122,-969 234.122,-969 228.122,-963 228.122,-957 228.122,-957 228.122,-917 228.122,-917 228.122,-911 234.122,-905 240.122,-905 240.122,-905 339.633,-905 339.633,-905 345.633,-905 351.633,-911 351.633,-917 351.633,-917 351.633,-957 351.633,-957 351.633,-963 345.633,-969 339.633,-969\"/>\n",
       "<text text-anchor=\"start\" x=\"261.272\" y=\"-953.8\" font-family=\"Helvetica,sans-Serif\" font-size=\"14.00\">gini = 0.0</text>\n",
       "<text text-anchor=\"start\" x=\"251.941\" y=\"-939.8\" font-family=\"Helvetica,sans-Serif\" font-size=\"14.00\">samples = 4</text>\n",
       "<text text-anchor=\"start\" x=\"241.817\" y=\"-925.8\" font-family=\"Helvetica,sans-Serif\" font-size=\"14.00\">value = [0, 4, 0]</text>\n",
       "<text text-anchor=\"start\" x=\"236\" y=\"-911.8\" font-family=\"Helvetica,sans-Serif\" font-size=\"14.00\">class = versicolor</text>\n",
       "</g>\n",
       "<!-- 4&#45;&gt;8 -->\n",
       "<g id=\"edge8\" class=\"edge\"><title>4&#45;&gt;8</title>\n",
       "<path fill=\"none\" stroke=\"black\" d=\"M277.363,-1011.77C279.155,-1001.2 281.107,-989.698 282.925,-978.983\"/>\n",
       "<polygon fill=\"black\" stroke=\"black\" points=\"286.395,-979.455 284.617,-969.01 279.493,-978.284 286.395,-979.455\"/>\n",
       "</g>\n",
       "<!-- 6 -->\n",
       "<g id=\"node7\" class=\"node\"><title>6</title>\n",
       "<path fill=\"#39e581\" stroke=\"black\" d=\"M111.633,-855C111.633,-855 12.1223,-855 12.1223,-855 6.12232,-855 0.122316,-849 0.122316,-843 0.122316,-843 0.122316,-803 0.122316,-803 0.122316,-797 6.12232,-791 12.1223,-791 12.1223,-791 111.633,-791 111.633,-791 117.633,-791 123.633,-797 123.633,-803 123.633,-803 123.633,-843 123.633,-843 123.633,-849 117.633,-855 111.633,-855\"/>\n",
       "<text text-anchor=\"start\" x=\"33.2725\" y=\"-839.8\" font-family=\"Helvetica,sans-Serif\" font-size=\"14.00\">gini = 0.0</text>\n",
       "<text text-anchor=\"start\" x=\"23.9414\" y=\"-825.8\" font-family=\"Helvetica,sans-Serif\" font-size=\"14.00\">samples = 1</text>\n",
       "<text text-anchor=\"start\" x=\"13.8174\" y=\"-811.8\" font-family=\"Helvetica,sans-Serif\" font-size=\"14.00\">value = [0, 1, 0]</text>\n",
       "<text text-anchor=\"start\" x=\"8\" y=\"-797.8\" font-family=\"Helvetica,sans-Serif\" font-size=\"14.00\">class = versicolor</text>\n",
       "</g>\n",
       "<!-- 5&#45;&gt;6 -->\n",
       "<g id=\"edge6\" class=\"edge\"><title>5&#45;&gt;6</title>\n",
       "<path fill=\"none\" stroke=\"black\" d=\"M106.666,-897.769C99.9869,-886.769 92.6883,-874.747 85.958,-863.662\"/>\n",
       "<polygon fill=\"black\" stroke=\"black\" points=\"88.8866,-861.741 80.705,-855.01 82.903,-865.374 88.8866,-861.741\"/>\n",
       "</g>\n",
       "<!-- 7 -->\n",
       "<g id=\"node8\" class=\"node\"><title>7</title>\n",
       "<path fill=\"#8139e5\" stroke=\"black\" d=\"M244.581,-855C244.581,-855 153.174,-855 153.174,-855 147.174,-855 141.174,-849 141.174,-843 141.174,-843 141.174,-803 141.174,-803 141.174,-797 147.174,-791 153.174,-791 153.174,-791 244.581,-791 244.581,-791 250.581,-791 256.581,-797 256.581,-803 256.581,-803 256.581,-843 256.581,-843 256.581,-849 250.581,-855 244.581,-855\"/>\n",
       "<text text-anchor=\"start\" x=\"170.272\" y=\"-839.8\" font-family=\"Helvetica,sans-Serif\" font-size=\"14.00\">gini = 0.0</text>\n",
       "<text text-anchor=\"start\" x=\"160.941\" y=\"-825.8\" font-family=\"Helvetica,sans-Serif\" font-size=\"14.00\">samples = 1</text>\n",
       "<text text-anchor=\"start\" x=\"150.817\" y=\"-811.8\" font-family=\"Helvetica,sans-Serif\" font-size=\"14.00\">value = [0, 0, 1]</text>\n",
       "<text text-anchor=\"start\" x=\"149.276\" y=\"-797.8\" font-family=\"Helvetica,sans-Serif\" font-size=\"14.00\">class = virginica</text>\n",
       "</g>\n",
       "<!-- 5&#45;&gt;7 -->\n",
       "<g id=\"edge7\" class=\"edge\"><title>5&#45;&gt;7</title>\n",
       "<path fill=\"none\" stroke=\"black\" d=\"M153.43,-897.769C160.208,-886.769 167.613,-874.747 174.443,-863.662\"/>\n",
       "<polygon fill=\"black\" stroke=\"black\" points=\"177.508,-865.36 179.773,-855.01 171.548,-861.688 177.508,-865.36\"/>\n",
       "</g>\n",
       "<!-- 10 -->\n",
       "<g id=\"node11\" class=\"node\"><title>10</title>\n",
       "<path fill=\"#e58139\" stroke=\"black\" d=\"M479.784,-1083C479.784,-1083 383.971,-1083 383.971,-1083 377.971,-1083 371.971,-1077 371.971,-1071 371.971,-1071 371.971,-1031 371.971,-1031 371.971,-1025 377.971,-1019 383.971,-1019 383.971,-1019 479.784,-1019 479.784,-1019 485.784,-1019 491.784,-1025 491.784,-1031 491.784,-1031 491.784,-1071 491.784,-1071 491.784,-1077 485.784,-1083 479.784,-1083\"/>\n",
       "<text text-anchor=\"start\" x=\"403.272\" y=\"-1067.8\" font-family=\"Helvetica,sans-Serif\" font-size=\"14.00\">gini = 0.0</text>\n",
       "<text text-anchor=\"start\" x=\"390.048\" y=\"-1053.8\" font-family=\"Helvetica,sans-Serif\" font-size=\"14.00\">samples = 39</text>\n",
       "<text text-anchor=\"start\" x=\"379.924\" y=\"-1039.8\" font-family=\"Helvetica,sans-Serif\" font-size=\"14.00\">value = [39, 0, 0]</text>\n",
       "<text text-anchor=\"start\" x=\"387.328\" y=\"-1025.8\" font-family=\"Helvetica,sans-Serif\" font-size=\"14.00\">class = setosa</text>\n",
       "</g>\n",
       "<!-- 9&#45;&gt;10 -->\n",
       "<g id=\"edge10\" class=\"edge\"><title>9&#45;&gt;10</title>\n",
       "<path fill=\"none\" stroke=\"black\" d=\"M531.993,-1125.77C515.881,-1113.9 498.156,-1100.84 482.155,-1089.05\"/>\n",
       "<polygon fill=\"black\" stroke=\"black\" points=\"484.089,-1086.12 473.962,-1083.01 479.937,-1091.76 484.089,-1086.12\"/>\n",
       "</g>\n",
       "<!-- 11 -->\n",
       "<g id=\"node12\" class=\"node\"><title>11</title>\n",
       "<path fill=\"#e58139\" fill-opacity=\"0.800000\" stroke=\"black\" d=\"M650.219,-1090C650.219,-1090 521.536,-1090 521.536,-1090 515.536,-1090 509.536,-1084 509.536,-1078 509.536,-1078 509.536,-1024 509.536,-1024 509.536,-1018 515.536,-1012 521.536,-1012 521.536,-1012 650.219,-1012 650.219,-1012 656.219,-1012 662.219,-1018 662.219,-1024 662.219,-1024 662.219,-1078 662.219,-1078 662.219,-1084 656.219,-1090 650.219,-1090\"/>\n",
       "<text text-anchor=\"start\" x=\"517.457\" y=\"-1074.8\" font-family=\"Helvetica,sans-Serif\" font-size=\"14.00\">sepal width (cm) ≤ 3.2</text>\n",
       "<text text-anchor=\"start\" x=\"549.486\" y=\"-1060.8\" font-family=\"Helvetica,sans-Serif\" font-size=\"14.00\">gini = 0.278</text>\n",
       "<text text-anchor=\"start\" x=\"547.941\" y=\"-1046.8\" font-family=\"Helvetica,sans-Serif\" font-size=\"14.00\">samples = 6</text>\n",
       "<text text-anchor=\"start\" x=\"537.817\" y=\"-1032.8\" font-family=\"Helvetica,sans-Serif\" font-size=\"14.00\">value = [5, 1, 0]</text>\n",
       "<text text-anchor=\"start\" x=\"541.328\" y=\"-1018.8\" font-family=\"Helvetica,sans-Serif\" font-size=\"14.00\">class = setosa</text>\n",
       "</g>\n",
       "<!-- 9&#45;&gt;11 -->\n",
       "<g id=\"edge11\" class=\"edge\"><title>9&#45;&gt;11</title>\n",
       "<path fill=\"none\" stroke=\"black\" d=\"M584.56,-1125.77C584.707,-1117.57 584.863,-1108.8 585.015,-1100.28\"/>\n",
       "<polygon fill=\"black\" stroke=\"black\" points=\"588.519,-1100.12 585.198,-1090.06 581.52,-1099.99 588.519,-1100.12\"/>\n",
       "</g>\n",
       "<!-- 12 -->\n",
       "<g id=\"node13\" class=\"node\"><title>12</title>\n",
       "<path fill=\"#39e581\" stroke=\"black\" d=\"M499.633,-969C499.633,-969 400.122,-969 400.122,-969 394.122,-969 388.122,-963 388.122,-957 388.122,-957 388.122,-917 388.122,-917 388.122,-911 394.122,-905 400.122,-905 400.122,-905 499.633,-905 499.633,-905 505.633,-905 511.633,-911 511.633,-917 511.633,-917 511.633,-957 511.633,-957 511.633,-963 505.633,-969 499.633,-969\"/>\n",
       "<text text-anchor=\"start\" x=\"421.272\" y=\"-953.8\" font-family=\"Helvetica,sans-Serif\" font-size=\"14.00\">gini = 0.0</text>\n",
       "<text text-anchor=\"start\" x=\"411.941\" y=\"-939.8\" font-family=\"Helvetica,sans-Serif\" font-size=\"14.00\">samples = 1</text>\n",
       "<text text-anchor=\"start\" x=\"401.817\" y=\"-925.8\" font-family=\"Helvetica,sans-Serif\" font-size=\"14.00\">value = [0, 1, 0]</text>\n",
       "<text text-anchor=\"start\" x=\"396\" y=\"-911.8\" font-family=\"Helvetica,sans-Serif\" font-size=\"14.00\">class = versicolor</text>\n",
       "</g>\n",
       "<!-- 11&#45;&gt;12 -->\n",
       "<g id=\"edge12\" class=\"edge\"><title>11&#45;&gt;12</title>\n",
       "<path fill=\"none\" stroke=\"black\" d=\"M539.454,-1011.77C525.171,-1000.01 509.47,-987.076 495.257,-975.371\"/>\n",
       "<polygon fill=\"black\" stroke=\"black\" points=\"497.477,-972.665 487.532,-969.01 493.027,-978.069 497.477,-972.665\"/>\n",
       "</g>\n",
       "<!-- 13 -->\n",
       "<g id=\"node14\" class=\"node\"><title>13</title>\n",
       "<path fill=\"#e58139\" stroke=\"black\" d=\"M629.998,-969C629.998,-969 541.757,-969 541.757,-969 535.757,-969 529.757,-963 529.757,-957 529.757,-957 529.757,-917 529.757,-917 529.757,-911 535.757,-905 541.757,-905 541.757,-905 629.998,-905 629.998,-905 635.998,-905 641.998,-911 641.998,-917 641.998,-917 641.998,-957 641.998,-957 641.998,-963 635.998,-969 629.998,-969\"/>\n",
       "<text text-anchor=\"start\" x=\"557.272\" y=\"-953.8\" font-family=\"Helvetica,sans-Serif\" font-size=\"14.00\">gini = 0.0</text>\n",
       "<text text-anchor=\"start\" x=\"547.941\" y=\"-939.8\" font-family=\"Helvetica,sans-Serif\" font-size=\"14.00\">samples = 5</text>\n",
       "<text text-anchor=\"start\" x=\"537.817\" y=\"-925.8\" font-family=\"Helvetica,sans-Serif\" font-size=\"14.00\">value = [5, 0, 0]</text>\n",
       "<text text-anchor=\"start\" x=\"541.328\" y=\"-911.8\" font-family=\"Helvetica,sans-Serif\" font-size=\"14.00\">class = setosa</text>\n",
       "</g>\n",
       "<!-- 11&#45;&gt;13 -->\n",
       "<g id=\"edge13\" class=\"edge\"><title>11&#45;&gt;13</title>\n",
       "<path fill=\"none\" stroke=\"black\" d=\"M585.877,-1011.77C585.877,-1001.31 585.877,-989.935 585.877,-979.315\"/>\n",
       "<polygon fill=\"black\" stroke=\"black\" points=\"589.378,-979.01 585.877,-969.01 582.378,-979.01 589.378,-979.01\"/>\n",
       "</g>\n",
       "<!-- 15 -->\n",
       "<g id=\"node16\" class=\"node\"><title>15</title>\n",
       "<path fill=\"#39e581\" fill-opacity=\"0.545098\" stroke=\"black\" d=\"M917.006,-1204C917.006,-1204 780.749,-1204 780.749,-1204 774.749,-1204 768.749,-1198 768.749,-1192 768.749,-1192 768.749,-1138 768.749,-1138 768.749,-1132 774.749,-1126 780.749,-1126 780.749,-1126 917.006,-1126 917.006,-1126 923.006,-1126 929.006,-1132 929.006,-1138 929.006,-1138 929.006,-1192 929.006,-1192 929.006,-1198 923.006,-1204 917.006,-1204\"/>\n",
       "<text text-anchor=\"start\" x=\"776.563\" y=\"-1188.8\" font-family=\"Helvetica,sans-Serif\" font-size=\"14.00\">sepal width (cm) ≤ 3.45</text>\n",
       "<text text-anchor=\"start\" x=\"812.486\" y=\"-1174.8\" font-family=\"Helvetica,sans-Serif\" font-size=\"14.00\">gini = 0.508</text>\n",
       "<text text-anchor=\"start\" x=\"807.048\" y=\"-1160.8\" font-family=\"Helvetica,sans-Serif\" font-size=\"14.00\">samples = 43</text>\n",
       "<text text-anchor=\"start\" x=\"793.031\" y=\"-1146.8\" font-family=\"Helvetica,sans-Serif\" font-size=\"14.00\">value = [5, 28, 10]</text>\n",
       "<text text-anchor=\"start\" x=\"795\" y=\"-1132.8\" font-family=\"Helvetica,sans-Serif\" font-size=\"14.00\">class = versicolor</text>\n",
       "</g>\n",
       "<!-- 14&#45;&gt;15 -->\n",
       "<g id=\"edge15\" class=\"edge\"><title>14&#45;&gt;15</title>\n",
       "<path fill=\"none\" stroke=\"black\" d=\"M848.877,-1239.77C848.877,-1231.57 848.877,-1222.8 848.877,-1214.28\"/>\n",
       "<polygon fill=\"black\" stroke=\"black\" points=\"852.378,-1214.06 848.877,-1204.06 845.378,-1214.06 852.378,-1214.06\"/>\n",
       "</g>\n",
       "<!-- 52 -->\n",
       "<g id=\"node53\" class=\"node\"><title>52</title>\n",
       "<path fill=\"#8139e5\" fill-opacity=\"0.588235\" stroke=\"black\" d=\"M1403.97,-1204C1403.97,-1204 1261.79,-1204 1261.79,-1204 1255.79,-1204 1249.79,-1198 1249.79,-1192 1249.79,-1192 1249.79,-1138 1249.79,-1138 1249.79,-1132 1255.79,-1126 1261.79,-1126 1261.79,-1126 1403.97,-1126 1403.97,-1126 1409.97,-1126 1415.97,-1132 1415.97,-1138 1415.97,-1138 1415.97,-1192 1415.97,-1192 1415.97,-1198 1409.97,-1204 1403.97,-1204\"/>\n",
       "<text text-anchor=\"start\" x=\"1257.83\" y=\"-1188.8\" font-family=\"Helvetica,sans-Serif\" font-size=\"14.00\">sepal length (cm) ≤ 7.05</text>\n",
       "<text text-anchor=\"start\" x=\"1296.49\" y=\"-1174.8\" font-family=\"Helvetica,sans-Serif\" font-size=\"14.00\">gini = 0.413</text>\n",
       "<text text-anchor=\"start\" x=\"1291.05\" y=\"-1160.8\" font-family=\"Helvetica,sans-Serif\" font-size=\"14.00\">samples = 55</text>\n",
       "<text text-anchor=\"start\" x=\"1277.03\" y=\"-1146.8\" font-family=\"Helvetica,sans-Serif\" font-size=\"14.00\">value = [0, 16, 39]</text>\n",
       "<text text-anchor=\"start\" x=\"1283.28\" y=\"-1132.8\" font-family=\"Helvetica,sans-Serif\" font-size=\"14.00\">class = virginica</text>\n",
       "</g>\n",
       "<!-- 14&#45;&gt;52 -->\n",
       "<g id=\"edge52\" class=\"edge\"><title>14&#45;&gt;52</title>\n",
       "<path fill=\"none\" stroke=\"black\" d=\"M932.08,-1258.75C1017.66,-1238.94 1150.67,-1208.16 1239.72,-1187.56\"/>\n",
       "<polygon fill=\"black\" stroke=\"black\" points=\"1240.59,-1190.95 1249.55,-1185.28 1239.02,-1184.13 1240.59,-1190.95\"/>\n",
       "</g>\n",
       "<!-- 16 -->\n",
       "<g id=\"node17\" class=\"node\"><title>16</title>\n",
       "<path fill=\"#39e581\" fill-opacity=\"0.643137\" stroke=\"black\" d=\"M876.967,-1090C876.967,-1090 734.788,-1090 734.788,-1090 728.788,-1090 722.788,-1084 722.788,-1078 722.788,-1078 722.788,-1024 722.788,-1024 722.788,-1018 728.788,-1012 734.788,-1012 734.788,-1012 876.967,-1012 876.967,-1012 882.967,-1012 888.967,-1018 888.967,-1024 888.967,-1024 888.967,-1078 888.967,-1078 888.967,-1084 882.967,-1090 876.967,-1090\"/>\n",
       "<text text-anchor=\"start\" x=\"730.833\" y=\"-1074.8\" font-family=\"Helvetica,sans-Serif\" font-size=\"14.00\">sepal length (cm) ≤ 5.75</text>\n",
       "<text text-anchor=\"start\" x=\"769.486\" y=\"-1060.8\" font-family=\"Helvetica,sans-Serif\" font-size=\"14.00\">gini = 0.388</text>\n",
       "<text text-anchor=\"start\" x=\"764.048\" y=\"-1046.8\" font-family=\"Helvetica,sans-Serif\" font-size=\"14.00\">samples = 38</text>\n",
       "<text text-anchor=\"start\" x=\"750.031\" y=\"-1032.8\" font-family=\"Helvetica,sans-Serif\" font-size=\"14.00\">value = [0, 28, 10]</text>\n",
       "<text text-anchor=\"start\" x=\"752\" y=\"-1018.8\" font-family=\"Helvetica,sans-Serif\" font-size=\"14.00\">class = versicolor</text>\n",
       "</g>\n",
       "<!-- 15&#45;&gt;16 -->\n",
       "<g id=\"edge16\" class=\"edge\"><title>15&#45;&gt;16</title>\n",
       "<path fill=\"none\" stroke=\"black\" d=\"M834.2,-1125.77C830.948,-1117.3 827.464,-1108.22 824.09,-1099.44\"/>\n",
       "<polygon fill=\"black\" stroke=\"black\" points=\"827.341,-1098.14 820.489,-1090.06 820.806,-1100.65 827.341,-1098.14\"/>\n",
       "</g>\n",
       "<!-- 51 -->\n",
       "<g id=\"node52\" class=\"node\"><title>51</title>\n",
       "<path fill=\"#e58139\" stroke=\"black\" d=\"M1007,-1083C1007,-1083 918.757,-1083 918.757,-1083 912.757,-1083 906.757,-1077 906.757,-1071 906.757,-1071 906.757,-1031 906.757,-1031 906.757,-1025 912.757,-1019 918.757,-1019 918.757,-1019 1007,-1019 1007,-1019 1013,-1019 1019,-1025 1019,-1031 1019,-1031 1019,-1071 1019,-1071 1019,-1077 1013,-1083 1007,-1083\"/>\n",
       "<text text-anchor=\"start\" x=\"934.272\" y=\"-1067.8\" font-family=\"Helvetica,sans-Serif\" font-size=\"14.00\">gini = 0.0</text>\n",
       "<text text-anchor=\"start\" x=\"924.941\" y=\"-1053.8\" font-family=\"Helvetica,sans-Serif\" font-size=\"14.00\">samples = 5</text>\n",
       "<text text-anchor=\"start\" x=\"914.817\" y=\"-1039.8\" font-family=\"Helvetica,sans-Serif\" font-size=\"14.00\">value = [5, 0, 0]</text>\n",
       "<text text-anchor=\"start\" x=\"918.328\" y=\"-1025.8\" font-family=\"Helvetica,sans-Serif\" font-size=\"14.00\">class = setosa</text>\n",
       "</g>\n",
       "<!-- 15&#45;&gt;51 -->\n",
       "<g id=\"edge51\" class=\"edge\"><title>15&#45;&gt;51</title>\n",
       "<path fill=\"none\" stroke=\"black\" d=\"M887.791,-1125.77C899.542,-1114.22 912.438,-1101.55 924.176,-1090.02\"/>\n",
       "<polygon fill=\"black\" stroke=\"black\" points=\"926.633,-1092.51 931.314,-1083.01 921.727,-1087.52 926.633,-1092.51\"/>\n",
       "</g>\n",
       "<!-- 17 -->\n",
       "<g id=\"node18\" class=\"node\"><title>17</title>\n",
       "<path fill=\"#39e581\" fill-opacity=\"0.866667\" stroke=\"black\" d=\"M813.967,-976C813.967,-976 671.788,-976 671.788,-976 665.788,-976 659.788,-970 659.788,-964 659.788,-964 659.788,-910 659.788,-910 659.788,-904 665.788,-898 671.788,-898 671.788,-898 813.967,-898 813.967,-898 819.967,-898 825.967,-904 825.967,-910 825.967,-910 825.967,-964 825.967,-964 825.967,-970 819.967,-976 813.967,-976\"/>\n",
       "<text text-anchor=\"start\" x=\"667.833\" y=\"-960.8\" font-family=\"Helvetica,sans-Serif\" font-size=\"14.00\">sepal length (cm) ≤ 5.55</text>\n",
       "<text text-anchor=\"start\" x=\"706.486\" y=\"-946.8\" font-family=\"Helvetica,sans-Serif\" font-size=\"14.00\">gini = 0.208</text>\n",
       "<text text-anchor=\"start\" x=\"701.048\" y=\"-932.8\" font-family=\"Helvetica,sans-Serif\" font-size=\"14.00\">samples = 17</text>\n",
       "<text text-anchor=\"start\" x=\"690.924\" y=\"-918.8\" font-family=\"Helvetica,sans-Serif\" font-size=\"14.00\">value = [0, 15, 2]</text>\n",
       "<text text-anchor=\"start\" x=\"689\" y=\"-904.8\" font-family=\"Helvetica,sans-Serif\" font-size=\"14.00\">class = versicolor</text>\n",
       "</g>\n",
       "<!-- 16&#45;&gt;17 -->\n",
       "<g id=\"edge17\" class=\"edge\"><title>16&#45;&gt;17</title>\n",
       "<path fill=\"none\" stroke=\"black\" d=\"M784.373,-1011.77C779.507,-1003.12 774.286,-993.838 769.246,-984.877\"/>\n",
       "<polygon fill=\"black\" stroke=\"black\" points=\"772.239,-983.058 764.285,-976.058 766.137,-986.49 772.239,-983.058\"/>\n",
       "</g>\n",
       "<!-- 30 -->\n",
       "<g id=\"node31\" class=\"node\"><title>30</title>\n",
       "<path fill=\"#39e581\" fill-opacity=\"0.384314\" stroke=\"black\" d=\"M998.219,-976C998.219,-976 869.536,-976 869.536,-976 863.536,-976 857.536,-970 857.536,-964 857.536,-964 857.536,-910 857.536,-910 857.536,-904 863.536,-898 869.536,-898 869.536,-898 998.219,-898 998.219,-898 1004.22,-898 1010.22,-904 1010.22,-910 1010.22,-910 1010.22,-964 1010.22,-964 1010.22,-970 1004.22,-976 998.219,-976\"/>\n",
       "<text text-anchor=\"start\" x=\"865.457\" y=\"-960.8\" font-family=\"Helvetica,sans-Serif\" font-size=\"14.00\">sepal width (cm) ≤ 3.1</text>\n",
       "<text text-anchor=\"start\" x=\"897.486\" y=\"-946.8\" font-family=\"Helvetica,sans-Serif\" font-size=\"14.00\">gini = 0.472</text>\n",
       "<text text-anchor=\"start\" x=\"892.048\" y=\"-932.8\" font-family=\"Helvetica,sans-Serif\" font-size=\"14.00\">samples = 21</text>\n",
       "<text text-anchor=\"start\" x=\"881.924\" y=\"-918.8\" font-family=\"Helvetica,sans-Serif\" font-size=\"14.00\">value = [0, 13, 8]</text>\n",
       "<text text-anchor=\"start\" x=\"880\" y=\"-904.8\" font-family=\"Helvetica,sans-Serif\" font-size=\"14.00\">class = versicolor</text>\n",
       "</g>\n",
       "<!-- 16&#45;&gt;30 -->\n",
       "<g id=\"edge30\" class=\"edge\"><title>16&#45;&gt;30</title>\n",
       "<path fill=\"none\" stroke=\"black\" d=\"M849.57,-1011.77C860.279,-1002.4 871.835,-992.287 882.855,-982.644\"/>\n",
       "<polygon fill=\"black\" stroke=\"black\" points=\"885.161,-985.278 890.382,-976.058 880.551,-980.01 885.161,-985.278\"/>\n",
       "</g>\n",
       "<!-- 18 -->\n",
       "<g id=\"node19\" class=\"node\"><title>18</title>\n",
       "<path fill=\"#39e581\" stroke=\"black\" d=\"M618.633,-855C618.633,-855 519.122,-855 519.122,-855 513.122,-855 507.122,-849 507.122,-843 507.122,-843 507.122,-803 507.122,-803 507.122,-797 513.122,-791 519.122,-791 519.122,-791 618.633,-791 618.633,-791 624.633,-791 630.633,-797 630.633,-803 630.633,-803 630.633,-843 630.633,-843 630.633,-849 624.633,-855 618.633,-855\"/>\n",
       "<text text-anchor=\"start\" x=\"540.272\" y=\"-839.8\" font-family=\"Helvetica,sans-Serif\" font-size=\"14.00\">gini = 0.0</text>\n",
       "<text text-anchor=\"start\" x=\"530.941\" y=\"-825.8\" font-family=\"Helvetica,sans-Serif\" font-size=\"14.00\">samples = 5</text>\n",
       "<text text-anchor=\"start\" x=\"520.817\" y=\"-811.8\" font-family=\"Helvetica,sans-Serif\" font-size=\"14.00\">value = [0, 5, 0]</text>\n",
       "<text text-anchor=\"start\" x=\"515\" y=\"-797.8\" font-family=\"Helvetica,sans-Serif\" font-size=\"14.00\">class = versicolor</text>\n",
       "</g>\n",
       "<!-- 17&#45;&gt;18 -->\n",
       "<g id=\"edge18\" class=\"edge\"><title>17&#45;&gt;18</title>\n",
       "<path fill=\"none\" stroke=\"black\" d=\"M683.483,-897.769C664.785,-885.734 644.19,-872.477 625.677,-860.561\"/>\n",
       "<polygon fill=\"black\" stroke=\"black\" points=\"627.357,-857.48 617.054,-855.01 623.568,-863.366 627.357,-857.48\"/>\n",
       "</g>\n",
       "<!-- 19 -->\n",
       "<g id=\"node20\" class=\"node\"><title>19</title>\n",
       "<path fill=\"#39e581\" fill-opacity=\"0.800000\" stroke=\"black\" d=\"M797.006,-862C797.006,-862 660.749,-862 660.749,-862 654.749,-862 648.749,-856 648.749,-850 648.749,-850 648.749,-796 648.749,-796 648.749,-790 654.749,-784 660.749,-784 660.749,-784 797.006,-784 797.006,-784 803.006,-784 809.006,-790 809.006,-796 809.006,-796 809.006,-850 809.006,-850 809.006,-856 803.006,-862 797.006,-862\"/>\n",
       "<text text-anchor=\"start\" x=\"656.563\" y=\"-846.8\" font-family=\"Helvetica,sans-Serif\" font-size=\"14.00\">sepal width (cm) ≤ 2.55</text>\n",
       "<text text-anchor=\"start\" x=\"692.486\" y=\"-832.8\" font-family=\"Helvetica,sans-Serif\" font-size=\"14.00\">gini = 0.278</text>\n",
       "<text text-anchor=\"start\" x=\"687.048\" y=\"-818.8\" font-family=\"Helvetica,sans-Serif\" font-size=\"14.00\">samples = 12</text>\n",
       "<text text-anchor=\"start\" x=\"676.924\" y=\"-804.8\" font-family=\"Helvetica,sans-Serif\" font-size=\"14.00\">value = [0, 10, 2]</text>\n",
       "<text text-anchor=\"start\" x=\"675\" y=\"-790.8\" font-family=\"Helvetica,sans-Serif\" font-size=\"14.00\">class = versicolor</text>\n",
       "</g>\n",
       "<!-- 17&#45;&gt;19 -->\n",
       "<g id=\"edge19\" class=\"edge\"><title>17&#45;&gt;19</title>\n",
       "<path fill=\"none\" stroke=\"black\" d=\"M738.099,-897.769C737.062,-889.48 735.954,-880.61 734.877,-871.999\"/>\n",
       "<polygon fill=\"black\" stroke=\"black\" points=\"738.348,-871.547 733.635,-862.058 731.402,-872.415 738.348,-871.547\"/>\n",
       "</g>\n",
       "<!-- 20 -->\n",
       "<g id=\"node21\" class=\"node\"><title>20</title>\n",
       "<path fill=\"none\" stroke=\"black\" d=\"M458.967,-748C458.967,-748 316.788,-748 316.788,-748 310.788,-748 304.788,-742 304.788,-736 304.788,-736 304.788,-682 304.788,-682 304.788,-676 310.788,-670 316.788,-670 316.788,-670 458.967,-670 458.967,-670 464.967,-670 470.967,-676 470.967,-682 470.967,-682 470.967,-736 470.967,-736 470.967,-742 464.967,-748 458.967,-748\"/>\n",
       "<text text-anchor=\"start\" x=\"312.833\" y=\"-732.8\" font-family=\"Helvetica,sans-Serif\" font-size=\"14.00\">sepal length (cm) ≤ 5.65</text>\n",
       "<text text-anchor=\"start\" x=\"359.272\" y=\"-718.8\" font-family=\"Helvetica,sans-Serif\" font-size=\"14.00\">gini = 0.5</text>\n",
       "<text text-anchor=\"start\" x=\"349.941\" y=\"-704.8\" font-family=\"Helvetica,sans-Serif\" font-size=\"14.00\">samples = 2</text>\n",
       "<text text-anchor=\"start\" x=\"339.817\" y=\"-690.8\" font-family=\"Helvetica,sans-Serif\" font-size=\"14.00\">value = [0, 1, 1]</text>\n",
       "<text text-anchor=\"start\" x=\"334\" y=\"-676.8\" font-family=\"Helvetica,sans-Serif\" font-size=\"14.00\">class = versicolor</text>\n",
       "</g>\n",
       "<!-- 19&#45;&gt;20 -->\n",
       "<g id=\"edge20\" class=\"edge\"><title>19&#45;&gt;20</title>\n",
       "<path fill=\"none\" stroke=\"black\" d=\"M648.516,-787.186C645.61,-786.087 642.724,-785.022 639.877,-784 587.882,-765.339 528.66,-747.767 480.697,-734.433\"/>\n",
       "<polygon fill=\"black\" stroke=\"black\" points=\"481.522,-731.03 470.951,-731.738 479.657,-737.776 481.522,-731.03\"/>\n",
       "</g>\n",
       "<!-- 23 -->\n",
       "<g id=\"node24\" class=\"node\"><title>23</title>\n",
       "<path fill=\"#39e581\" fill-opacity=\"0.890196\" stroke=\"black\" d=\"M774.967,-748C774.967,-748 632.788,-748 632.788,-748 626.788,-748 620.788,-742 620.788,-736 620.788,-736 620.788,-682 620.788,-682 620.788,-676 626.788,-670 632.788,-670 632.788,-670 774.967,-670 774.967,-670 780.967,-670 786.967,-676 786.967,-682 786.967,-682 786.967,-736 786.967,-736 786.967,-742 780.967,-748 774.967,-748\"/>\n",
       "<text text-anchor=\"start\" x=\"628.833\" y=\"-732.8\" font-family=\"Helvetica,sans-Serif\" font-size=\"14.00\">sepal length (cm) ≤ 5.65</text>\n",
       "<text text-anchor=\"start\" x=\"671.379\" y=\"-718.8\" font-family=\"Helvetica,sans-Serif\" font-size=\"14.00\">gini = 0.18</text>\n",
       "<text text-anchor=\"start\" x=\"662.048\" y=\"-704.8\" font-family=\"Helvetica,sans-Serif\" font-size=\"14.00\">samples = 10</text>\n",
       "<text text-anchor=\"start\" x=\"655.817\" y=\"-690.8\" font-family=\"Helvetica,sans-Serif\" font-size=\"14.00\">value = [0, 9, 1]</text>\n",
       "<text text-anchor=\"start\" x=\"650\" y=\"-676.8\" font-family=\"Helvetica,sans-Serif\" font-size=\"14.00\">class = versicolor</text>\n",
       "</g>\n",
       "<!-- 19&#45;&gt;23 -->\n",
       "<g id=\"edge23\" class=\"edge\"><title>19&#45;&gt;23</title>\n",
       "<path fill=\"none\" stroke=\"black\" d=\"M720.344,-783.769C718.493,-775.48 716.514,-766.61 714.592,-757.999\"/>\n",
       "<polygon fill=\"black\" stroke=\"black\" points=\"717.967,-757.056 712.373,-748.058 711.135,-758.581 717.967,-757.056\"/>\n",
       "</g>\n",
       "<!-- 21 -->\n",
       "<g id=\"node22\" class=\"node\"><title>21</title>\n",
       "<path fill=\"#39e581\" stroke=\"black\" d=\"M300.633,-627C300.633,-627 201.122,-627 201.122,-627 195.122,-627 189.122,-621 189.122,-615 189.122,-615 189.122,-575 189.122,-575 189.122,-569 195.122,-563 201.122,-563 201.122,-563 300.633,-563 300.633,-563 306.633,-563 312.633,-569 312.633,-575 312.633,-575 312.633,-615 312.633,-615 312.633,-621 306.633,-627 300.633,-627\"/>\n",
       "<text text-anchor=\"start\" x=\"222.272\" y=\"-611.8\" font-family=\"Helvetica,sans-Serif\" font-size=\"14.00\">gini = 0.0</text>\n",
       "<text text-anchor=\"start\" x=\"212.941\" y=\"-597.8\" font-family=\"Helvetica,sans-Serif\" font-size=\"14.00\">samples = 1</text>\n",
       "<text text-anchor=\"start\" x=\"202.817\" y=\"-583.8\" font-family=\"Helvetica,sans-Serif\" font-size=\"14.00\">value = [0, 1, 0]</text>\n",
       "<text text-anchor=\"start\" x=\"197\" y=\"-569.8\" font-family=\"Helvetica,sans-Serif\" font-size=\"14.00\">class = versicolor</text>\n",
       "</g>\n",
       "<!-- 20&#45;&gt;21 -->\n",
       "<g id=\"edge21\" class=\"edge\"><title>20&#45;&gt;21</title>\n",
       "<path fill=\"none\" stroke=\"black\" d=\"M341.113,-669.769C326.724,-658.006 310.908,-645.076 296.591,-633.371\"/>\n",
       "<polygon fill=\"black\" stroke=\"black\" points=\"298.767,-630.63 288.809,-627.01 294.336,-636.049 298.767,-630.63\"/>\n",
       "</g>\n",
       "<!-- 22 -->\n",
       "<g id=\"node23\" class=\"node\"><title>22</title>\n",
       "<path fill=\"#8139e5\" stroke=\"black\" d=\"M433.581,-627C433.581,-627 342.174,-627 342.174,-627 336.174,-627 330.174,-621 330.174,-615 330.174,-615 330.174,-575 330.174,-575 330.174,-569 336.174,-563 342.174,-563 342.174,-563 433.581,-563 433.581,-563 439.581,-563 445.581,-569 445.581,-575 445.581,-575 445.581,-615 445.581,-615 445.581,-621 439.581,-627 433.581,-627\"/>\n",
       "<text text-anchor=\"start\" x=\"359.272\" y=\"-611.8\" font-family=\"Helvetica,sans-Serif\" font-size=\"14.00\">gini = 0.0</text>\n",
       "<text text-anchor=\"start\" x=\"349.941\" y=\"-597.8\" font-family=\"Helvetica,sans-Serif\" font-size=\"14.00\">samples = 1</text>\n",
       "<text text-anchor=\"start\" x=\"339.817\" y=\"-583.8\" font-family=\"Helvetica,sans-Serif\" font-size=\"14.00\">value = [0, 0, 1]</text>\n",
       "<text text-anchor=\"start\" x=\"338.276\" y=\"-569.8\" font-family=\"Helvetica,sans-Serif\" font-size=\"14.00\">class = virginica</text>\n",
       "</g>\n",
       "<!-- 20&#45;&gt;22 -->\n",
       "<g id=\"edge22\" class=\"edge\"><title>20&#45;&gt;22</title>\n",
       "<path fill=\"none\" stroke=\"black\" d=\"M387.877,-669.769C387.877,-659.313 387.877,-647.935 387.877,-637.315\"/>\n",
       "<polygon fill=\"black\" stroke=\"black\" points=\"391.378,-637.01 387.877,-627.01 384.378,-637.01 391.378,-637.01\"/>\n",
       "</g>\n",
       "<!-- 24 -->\n",
       "<g id=\"node25\" class=\"node\"><title>24</title>\n",
       "<path fill=\"#39e581\" fill-opacity=\"0.749020\" stroke=\"black\" d=\"M612.006,-634C612.006,-634 475.749,-634 475.749,-634 469.749,-634 463.749,-628 463.749,-622 463.749,-622 463.749,-568 463.749,-568 463.749,-562 469.749,-556 475.749,-556 475.749,-556 612.006,-556 612.006,-556 618.006,-556 624.006,-562 624.006,-568 624.006,-568 624.006,-622 624.006,-622 624.006,-628 618.006,-634 612.006,-634\"/>\n",
       "<text text-anchor=\"start\" x=\"471.563\" y=\"-618.8\" font-family=\"Helvetica,sans-Serif\" font-size=\"14.00\">sepal width (cm) ≤ 2.85</text>\n",
       "<text text-anchor=\"start\" x=\"511.379\" y=\"-604.8\" font-family=\"Helvetica,sans-Serif\" font-size=\"14.00\">gini = 0.32</text>\n",
       "<text text-anchor=\"start\" x=\"505.941\" y=\"-590.8\" font-family=\"Helvetica,sans-Serif\" font-size=\"14.00\">samples = 5</text>\n",
       "<text text-anchor=\"start\" x=\"495.817\" y=\"-576.8\" font-family=\"Helvetica,sans-Serif\" font-size=\"14.00\">value = [0, 4, 1]</text>\n",
       "<text text-anchor=\"start\" x=\"490\" y=\"-562.8\" font-family=\"Helvetica,sans-Serif\" font-size=\"14.00\">class = versicolor</text>\n",
       "</g>\n",
       "<!-- 23&#45;&gt;24 -->\n",
       "<g id=\"edge24\" class=\"edge\"><title>23&#45;&gt;24</title>\n",
       "<path fill=\"none\" stroke=\"black\" d=\"M649.262,-669.769C635.489,-660.128 620.596,-649.703 606.465,-639.811\"/>\n",
       "<polygon fill=\"black\" stroke=\"black\" points=\"608.446,-636.926 598.247,-634.058 604.432,-642.66 608.446,-636.926\"/>\n",
       "</g>\n",
       "<!-- 29 -->\n",
       "<g id=\"node30\" class=\"node\"><title>29</title>\n",
       "<path fill=\"#39e581\" stroke=\"black\" d=\"M753.633,-627C753.633,-627 654.122,-627 654.122,-627 648.122,-627 642.122,-621 642.122,-615 642.122,-615 642.122,-575 642.122,-575 642.122,-569 648.122,-563 654.122,-563 654.122,-563 753.633,-563 753.633,-563 759.633,-563 765.633,-569 765.633,-575 765.633,-575 765.633,-615 765.633,-615 765.633,-621 759.633,-627 753.633,-627\"/>\n",
       "<text text-anchor=\"start\" x=\"675.272\" y=\"-611.8\" font-family=\"Helvetica,sans-Serif\" font-size=\"14.00\">gini = 0.0</text>\n",
       "<text text-anchor=\"start\" x=\"665.941\" y=\"-597.8\" font-family=\"Helvetica,sans-Serif\" font-size=\"14.00\">samples = 5</text>\n",
       "<text text-anchor=\"start\" x=\"655.817\" y=\"-583.8\" font-family=\"Helvetica,sans-Serif\" font-size=\"14.00\">value = [0, 5, 0]</text>\n",
       "<text text-anchor=\"start\" x=\"650\" y=\"-569.8\" font-family=\"Helvetica,sans-Serif\" font-size=\"14.00\">class = versicolor</text>\n",
       "</g>\n",
       "<!-- 23&#45;&gt;29 -->\n",
       "<g id=\"edge29\" class=\"edge\"><title>23&#45;&gt;29</title>\n",
       "<path fill=\"none\" stroke=\"black\" d=\"M703.877,-669.769C703.877,-659.313 703.877,-647.935 703.877,-637.315\"/>\n",
       "<polygon fill=\"black\" stroke=\"black\" points=\"707.378,-637.01 703.877,-627.01 700.378,-637.01 707.378,-637.01\"/>\n",
       "</g>\n",
       "<!-- 25 -->\n",
       "<g id=\"node26\" class=\"node\"><title>25</title>\n",
       "<path fill=\"none\" stroke=\"black\" d=\"M455.006,-520C455.006,-520 318.749,-520 318.749,-520 312.749,-520 306.749,-514 306.749,-508 306.749,-508 306.749,-454 306.749,-454 306.749,-448 312.749,-442 318.749,-442 318.749,-442 455.006,-442 455.006,-442 461.006,-442 467.006,-448 467.006,-454 467.006,-454 467.006,-508 467.006,-508 467.006,-514 461.006,-520 455.006,-520\"/>\n",
       "<text text-anchor=\"start\" x=\"314.563\" y=\"-504.8\" font-family=\"Helvetica,sans-Serif\" font-size=\"14.00\">sepal width (cm) ≤ 2.75</text>\n",
       "<text text-anchor=\"start\" x=\"358.272\" y=\"-490.8\" font-family=\"Helvetica,sans-Serif\" font-size=\"14.00\">gini = 0.5</text>\n",
       "<text text-anchor=\"start\" x=\"348.941\" y=\"-476.8\" font-family=\"Helvetica,sans-Serif\" font-size=\"14.00\">samples = 2</text>\n",
       "<text text-anchor=\"start\" x=\"338.817\" y=\"-462.8\" font-family=\"Helvetica,sans-Serif\" font-size=\"14.00\">value = [0, 1, 1]</text>\n",
       "<text text-anchor=\"start\" x=\"333\" y=\"-448.8\" font-family=\"Helvetica,sans-Serif\" font-size=\"14.00\">class = versicolor</text>\n",
       "</g>\n",
       "<!-- 24&#45;&gt;25 -->\n",
       "<g id=\"edge25\" class=\"edge\"><title>24&#45;&gt;25</title>\n",
       "<path fill=\"none\" stroke=\"black\" d=\"M490.286,-555.769C476.897,-546.218 462.43,-535.898 448.68,-526.089\"/>\n",
       "<polygon fill=\"black\" stroke=\"black\" points=\"450.401,-523.017 440.227,-520.058 446.336,-528.715 450.401,-523.017\"/>\n",
       "</g>\n",
       "<!-- 28 -->\n",
       "<g id=\"node29\" class=\"node\"><title>28</title>\n",
       "<path fill=\"#39e581\" stroke=\"black\" d=\"M596.633,-513C596.633,-513 497.122,-513 497.122,-513 491.122,-513 485.122,-507 485.122,-501 485.122,-501 485.122,-461 485.122,-461 485.122,-455 491.122,-449 497.122,-449 497.122,-449 596.633,-449 596.633,-449 602.633,-449 608.633,-455 608.633,-461 608.633,-461 608.633,-501 608.633,-501 608.633,-507 602.633,-513 596.633,-513\"/>\n",
       "<text text-anchor=\"start\" x=\"518.272\" y=\"-497.8\" font-family=\"Helvetica,sans-Serif\" font-size=\"14.00\">gini = 0.0</text>\n",
       "<text text-anchor=\"start\" x=\"508.941\" y=\"-483.8\" font-family=\"Helvetica,sans-Serif\" font-size=\"14.00\">samples = 3</text>\n",
       "<text text-anchor=\"start\" x=\"498.817\" y=\"-469.8\" font-family=\"Helvetica,sans-Serif\" font-size=\"14.00\">value = [0, 3, 0]</text>\n",
       "<text text-anchor=\"start\" x=\"493\" y=\"-455.8\" font-family=\"Helvetica,sans-Serif\" font-size=\"14.00\">class = versicolor</text>\n",
       "</g>\n",
       "<!-- 24&#45;&gt;28 -->\n",
       "<g id=\"edge28\" class=\"edge\"><title>24&#45;&gt;28</title>\n",
       "<path fill=\"none\" stroke=\"black\" d=\"M544.901,-555.769C545.182,-545.313 545.486,-533.935 545.771,-523.315\"/>\n",
       "<polygon fill=\"black\" stroke=\"black\" points=\"549.278,-523.1 546.047,-513.01 542.28,-522.913 549.278,-523.1\"/>\n",
       "</g>\n",
       "<!-- 26 -->\n",
       "<g id=\"node27\" class=\"node\"><title>26</title>\n",
       "<path fill=\"#39e581\" stroke=\"black\" d=\"M303.633,-399C303.633,-399 204.122,-399 204.122,-399 198.122,-399 192.122,-393 192.122,-387 192.122,-387 192.122,-347 192.122,-347 192.122,-341 198.122,-335 204.122,-335 204.122,-335 303.633,-335 303.633,-335 309.633,-335 315.633,-341 315.633,-347 315.633,-347 315.633,-387 315.633,-387 315.633,-393 309.633,-399 303.633,-399\"/>\n",
       "<text text-anchor=\"start\" x=\"225.272\" y=\"-383.8\" font-family=\"Helvetica,sans-Serif\" font-size=\"14.00\">gini = 0.0</text>\n",
       "<text text-anchor=\"start\" x=\"215.941\" y=\"-369.8\" font-family=\"Helvetica,sans-Serif\" font-size=\"14.00\">samples = 1</text>\n",
       "<text text-anchor=\"start\" x=\"205.817\" y=\"-355.8\" font-family=\"Helvetica,sans-Serif\" font-size=\"14.00\">value = [0, 1, 0]</text>\n",
       "<text text-anchor=\"start\" x=\"200\" y=\"-341.8\" font-family=\"Helvetica,sans-Serif\" font-size=\"14.00\">class = versicolor</text>\n",
       "</g>\n",
       "<!-- 25&#45;&gt;26 -->\n",
       "<g id=\"edge26\" class=\"edge\"><title>25&#45;&gt;26</title>\n",
       "<path fill=\"none\" stroke=\"black\" d=\"M341.478,-441.769C327.639,-430.115 312.439,-417.315 298.642,-405.697\"/>\n",
       "<polygon fill=\"black\" stroke=\"black\" points=\"300.605,-402.774 290.702,-399.01 296.097,-408.129 300.605,-402.774\"/>\n",
       "</g>\n",
       "<!-- 27 -->\n",
       "<g id=\"node28\" class=\"node\"><title>27</title>\n",
       "<path fill=\"#8139e5\" stroke=\"black\" d=\"M436.581,-399C436.581,-399 345.174,-399 345.174,-399 339.174,-399 333.174,-393 333.174,-387 333.174,-387 333.174,-347 333.174,-347 333.174,-341 339.174,-335 345.174,-335 345.174,-335 436.581,-335 436.581,-335 442.581,-335 448.581,-341 448.581,-347 448.581,-347 448.581,-387 448.581,-387 448.581,-393 442.581,-399 436.581,-399\"/>\n",
       "<text text-anchor=\"start\" x=\"362.272\" y=\"-383.8\" font-family=\"Helvetica,sans-Serif\" font-size=\"14.00\">gini = 0.0</text>\n",
       "<text text-anchor=\"start\" x=\"352.941\" y=\"-369.8\" font-family=\"Helvetica,sans-Serif\" font-size=\"14.00\">samples = 1</text>\n",
       "<text text-anchor=\"start\" x=\"342.817\" y=\"-355.8\" font-family=\"Helvetica,sans-Serif\" font-size=\"14.00\">value = [0, 0, 1]</text>\n",
       "<text text-anchor=\"start\" x=\"341.276\" y=\"-341.8\" font-family=\"Helvetica,sans-Serif\" font-size=\"14.00\">class = virginica</text>\n",
       "</g>\n",
       "<!-- 25&#45;&gt;27 -->\n",
       "<g id=\"edge27\" class=\"edge\"><title>25&#45;&gt;27</title>\n",
       "<path fill=\"none\" stroke=\"black\" d=\"M388.243,-441.769C388.616,-431.313 389.023,-419.935 389.402,-409.315\"/>\n",
       "<polygon fill=\"black\" stroke=\"black\" points=\"392.911,-409.129 389.77,-399.01 385.915,-408.879 392.911,-409.129\"/>\n",
       "</g>\n",
       "<!-- 31 -->\n",
       "<g id=\"node32\" class=\"node\"><title>31</title>\n",
       "<path fill=\"#39e581\" fill-opacity=\"0.274510\" stroke=\"black\" d=\"M1002.01,-862C1002.01,-862 865.749,-862 865.749,-862 859.749,-862 853.749,-856 853.749,-850 853.749,-850 853.749,-796 853.749,-796 853.749,-790 859.749,-784 865.749,-784 865.749,-784 1002.01,-784 1002.01,-784 1008.01,-784 1014.01,-790 1014.01,-796 1014.01,-796 1014.01,-850 1014.01,-850 1014.01,-856 1008.01,-862 1002.01,-862\"/>\n",
       "<text text-anchor=\"start\" x=\"861.563\" y=\"-846.8\" font-family=\"Helvetica,sans-Serif\" font-size=\"14.00\">sepal width (cm) ≤ 2.95</text>\n",
       "<text text-anchor=\"start\" x=\"897.486\" y=\"-832.8\" font-family=\"Helvetica,sans-Serif\" font-size=\"14.00\">gini = 0.488</text>\n",
       "<text text-anchor=\"start\" x=\"892.048\" y=\"-818.8\" font-family=\"Helvetica,sans-Serif\" font-size=\"14.00\">samples = 19</text>\n",
       "<text text-anchor=\"start\" x=\"882.44\" y=\"-804.8\" font-family=\"Helvetica,sans-Serif\" font-size=\"14.00\">value = [0, 11, 8]</text>\n",
       "<text text-anchor=\"start\" x=\"880\" y=\"-790.8\" font-family=\"Helvetica,sans-Serif\" font-size=\"14.00\">class = versicolor</text>\n",
       "</g>\n",
       "<!-- 30&#45;&gt;31 -->\n",
       "<g id=\"edge31\" class=\"edge\"><title>30&#45;&gt;31</title>\n",
       "<path fill=\"none\" stroke=\"black\" d=\"M933.877,-897.769C933.877,-889.57 933.877,-880.803 933.877,-872.28\"/>\n",
       "<polygon fill=\"black\" stroke=\"black\" points=\"937.378,-872.058 933.877,-862.058 930.378,-872.059 937.378,-872.058\"/>\n",
       "</g>\n",
       "<!-- 50 -->\n",
       "<g id=\"node51\" class=\"node\"><title>50</title>\n",
       "<path fill=\"#39e581\" stroke=\"black\" d=\"M1143.63,-855C1143.63,-855 1044.12,-855 1044.12,-855 1038.12,-855 1032.12,-849 1032.12,-843 1032.12,-843 1032.12,-803 1032.12,-803 1032.12,-797 1038.12,-791 1044.12,-791 1044.12,-791 1143.63,-791 1143.63,-791 1149.63,-791 1155.63,-797 1155.63,-803 1155.63,-803 1155.63,-843 1155.63,-843 1155.63,-849 1149.63,-855 1143.63,-855\"/>\n",
       "<text text-anchor=\"start\" x=\"1065.27\" y=\"-839.8\" font-family=\"Helvetica,sans-Serif\" font-size=\"14.00\">gini = 0.0</text>\n",
       "<text text-anchor=\"start\" x=\"1055.94\" y=\"-825.8\" font-family=\"Helvetica,sans-Serif\" font-size=\"14.00\">samples = 2</text>\n",
       "<text text-anchor=\"start\" x=\"1045.82\" y=\"-811.8\" font-family=\"Helvetica,sans-Serif\" font-size=\"14.00\">value = [0, 2, 0]</text>\n",
       "<text text-anchor=\"start\" x=\"1040\" y=\"-797.8\" font-family=\"Helvetica,sans-Serif\" font-size=\"14.00\">class = versicolor</text>\n",
       "</g>\n",
       "<!-- 30&#45;&gt;50 -->\n",
       "<g id=\"edge50\" class=\"edge\"><title>30&#45;&gt;50</title>\n",
       "<path fill=\"none\" stroke=\"black\" d=\"M988.493,-897.769C1005.45,-885.897 1024.11,-872.837 1040.95,-861.047\"/>\n",
       "<polygon fill=\"black\" stroke=\"black\" points=\"1043.39,-863.612 1049.58,-855.01 1039.38,-857.877 1043.39,-863.612\"/>\n",
       "</g>\n",
       "<!-- 32 -->\n",
       "<g id=\"node33\" class=\"node\"><title>32</title>\n",
       "<path fill=\"#39e581\" fill-opacity=\"0.443137\" stroke=\"black\" d=\"M1002.01,-748C1002.01,-748 865.749,-748 865.749,-748 859.749,-748 853.749,-742 853.749,-736 853.749,-736 853.749,-682 853.749,-682 853.749,-676 859.749,-670 865.749,-670 865.749,-670 1002.01,-670 1002.01,-670 1008.01,-670 1014.01,-676 1014.01,-682 1014.01,-682 1014.01,-736 1014.01,-736 1014.01,-742 1008.01,-748 1002.01,-748\"/>\n",
       "<text text-anchor=\"start\" x=\"861.563\" y=\"-732.8\" font-family=\"Helvetica,sans-Serif\" font-size=\"14.00\">sepal width (cm) ≤ 2.85</text>\n",
       "<text text-anchor=\"start\" x=\"897.486\" y=\"-718.8\" font-family=\"Helvetica,sans-Serif\" font-size=\"14.00\">gini = 0.459</text>\n",
       "<text text-anchor=\"start\" x=\"892.048\" y=\"-704.8\" font-family=\"Helvetica,sans-Serif\" font-size=\"14.00\">samples = 14</text>\n",
       "<text text-anchor=\"start\" x=\"885.817\" y=\"-690.8\" font-family=\"Helvetica,sans-Serif\" font-size=\"14.00\">value = [0, 9, 5]</text>\n",
       "<text text-anchor=\"start\" x=\"880\" y=\"-676.8\" font-family=\"Helvetica,sans-Serif\" font-size=\"14.00\">class = versicolor</text>\n",
       "</g>\n",
       "<!-- 31&#45;&gt;32 -->\n",
       "<g id=\"edge32\" class=\"edge\"><title>31&#45;&gt;32</title>\n",
       "<path fill=\"none\" stroke=\"black\" d=\"M933.877,-783.769C933.877,-775.57 933.877,-766.803 933.877,-758.28\"/>\n",
       "<polygon fill=\"black\" stroke=\"black\" points=\"937.378,-758.058 933.877,-748.058 930.378,-758.059 937.378,-758.058\"/>\n",
       "</g>\n",
       "<!-- 45 -->\n",
       "<g id=\"node46\" class=\"node\"><title>45</title>\n",
       "<path fill=\"#8139e5\" fill-opacity=\"0.333333\" stroke=\"black\" d=\"M1234.97,-748C1234.97,-748 1092.79,-748 1092.79,-748 1086.79,-748 1080.79,-742 1080.79,-736 1080.79,-736 1080.79,-682 1080.79,-682 1080.79,-676 1086.79,-670 1092.79,-670 1092.79,-670 1234.97,-670 1234.97,-670 1240.97,-670 1246.97,-676 1246.97,-682 1246.97,-682 1246.97,-736 1246.97,-736 1246.97,-742 1240.97,-748 1234.97,-748\"/>\n",
       "<text text-anchor=\"start\" x=\"1088.83\" y=\"-732.8\" font-family=\"Helvetica,sans-Serif\" font-size=\"14.00\">sepal length (cm) ≤ 5.95</text>\n",
       "<text text-anchor=\"start\" x=\"1131.38\" y=\"-718.8\" font-family=\"Helvetica,sans-Serif\" font-size=\"14.00\">gini = 0.48</text>\n",
       "<text text-anchor=\"start\" x=\"1125.94\" y=\"-704.8\" font-family=\"Helvetica,sans-Serif\" font-size=\"14.00\">samples = 5</text>\n",
       "<text text-anchor=\"start\" x=\"1115.82\" y=\"-690.8\" font-family=\"Helvetica,sans-Serif\" font-size=\"14.00\">value = [0, 2, 3]</text>\n",
       "<text text-anchor=\"start\" x=\"1114.28\" y=\"-676.8\" font-family=\"Helvetica,sans-Serif\" font-size=\"14.00\">class = virginica</text>\n",
       "</g>\n",
       "<!-- 31&#45;&gt;45 -->\n",
       "<g id=\"edge45\" class=\"edge\"><title>31&#45;&gt;45</title>\n",
       "<path fill=\"none\" stroke=\"black\" d=\"M1012.07,-783.926C1032.8,-773.827 1055.33,-762.858 1076.52,-752.538\"/>\n",
       "<polygon fill=\"black\" stroke=\"black\" points=\"1078.06,-755.684 1085.51,-748.159 1074.99,-749.391 1078.06,-755.684\"/>\n",
       "</g>\n",
       "<!-- 33 -->\n",
       "<g id=\"node34\" class=\"node\"><title>33</title>\n",
       "<path fill=\"#39e581\" fill-opacity=\"0.286275\" stroke=\"black\" d=\"M930.181,-634C930.181,-634 795.573,-634 795.573,-634 789.573,-634 783.573,-628 783.573,-622 783.573,-622 783.573,-568 783.573,-568 783.573,-562 789.573,-556 795.573,-556 795.573,-556 930.181,-556 930.181,-556 936.181,-556 942.181,-562 942.181,-568 942.181,-568 942.181,-622 942.181,-622 942.181,-628 936.181,-634 930.181,-634\"/>\n",
       "<text text-anchor=\"start\" x=\"791.726\" y=\"-618.8\" font-family=\"Helvetica,sans-Serif\" font-size=\"14.00\">sepal length (cm) ≤ 5.9</text>\n",
       "<text text-anchor=\"start\" x=\"826.486\" y=\"-604.8\" font-family=\"Helvetica,sans-Serif\" font-size=\"14.00\">gini = 0.486</text>\n",
       "<text text-anchor=\"start\" x=\"821.048\" y=\"-590.8\" font-family=\"Helvetica,sans-Serif\" font-size=\"14.00\">samples = 12</text>\n",
       "<text text-anchor=\"start\" x=\"814.817\" y=\"-576.8\" font-family=\"Helvetica,sans-Serif\" font-size=\"14.00\">value = [0, 7, 5]</text>\n",
       "<text text-anchor=\"start\" x=\"809\" y=\"-562.8\" font-family=\"Helvetica,sans-Serif\" font-size=\"14.00\">class = versicolor</text>\n",
       "</g>\n",
       "<!-- 32&#45;&gt;33 -->\n",
       "<g id=\"edge33\" class=\"edge\"><title>32&#45;&gt;33</title>\n",
       "<path fill=\"none\" stroke=\"black\" d=\"M909.642,-669.769C904.101,-661.029 898.152,-651.645 892.417,-642.597\"/>\n",
       "<polygon fill=\"black\" stroke=\"black\" points=\"895.314,-640.63 887.004,-634.058 889.402,-644.378 895.314,-640.63\"/>\n",
       "</g>\n",
       "<!-- 44 -->\n",
       "<g id=\"node45\" class=\"node\"><title>44</title>\n",
       "<path fill=\"#39e581\" stroke=\"black\" d=\"M1071.63,-627C1071.63,-627 972.122,-627 972.122,-627 966.122,-627 960.122,-621 960.122,-615 960.122,-615 960.122,-575 960.122,-575 960.122,-569 966.122,-563 972.122,-563 972.122,-563 1071.63,-563 1071.63,-563 1077.63,-563 1083.63,-569 1083.63,-575 1083.63,-575 1083.63,-615 1083.63,-615 1083.63,-621 1077.63,-627 1071.63,-627\"/>\n",
       "<text text-anchor=\"start\" x=\"993.272\" y=\"-611.8\" font-family=\"Helvetica,sans-Serif\" font-size=\"14.00\">gini = 0.0</text>\n",
       "<text text-anchor=\"start\" x=\"983.941\" y=\"-597.8\" font-family=\"Helvetica,sans-Serif\" font-size=\"14.00\">samples = 2</text>\n",
       "<text text-anchor=\"start\" x=\"973.817\" y=\"-583.8\" font-family=\"Helvetica,sans-Serif\" font-size=\"14.00\">value = [0, 2, 0]</text>\n",
       "<text text-anchor=\"start\" x=\"968\" y=\"-569.8\" font-family=\"Helvetica,sans-Serif\" font-size=\"14.00\">class = versicolor</text>\n",
       "</g>\n",
       "<!-- 32&#45;&gt;44 -->\n",
       "<g id=\"edge44\" class=\"edge\"><title>32&#45;&gt;44</title>\n",
       "<path fill=\"none\" stroke=\"black\" d=\"M963.916,-669.769C972.73,-658.551 982.379,-646.271 991.231,-635.005\"/>\n",
       "<polygon fill=\"black\" stroke=\"black\" points=\"994.086,-637.036 997.512,-627.01 988.582,-632.711 994.086,-637.036\"/>\n",
       "</g>\n",
       "<!-- 34 -->\n",
       "<g id=\"node35\" class=\"node\"><title>34</title>\n",
       "<path fill=\"none\" stroke=\"black\" d=\"M793.006,-520C793.006,-520 656.749,-520 656.749,-520 650.749,-520 644.749,-514 644.749,-508 644.749,-508 644.749,-454 644.749,-454 644.749,-448 650.749,-442 656.749,-442 656.749,-442 793.006,-442 793.006,-442 799.006,-442 805.006,-448 805.006,-454 805.006,-454 805.006,-508 805.006,-508 805.006,-514 799.006,-520 793.006,-520\"/>\n",
       "<text text-anchor=\"start\" x=\"652.563\" y=\"-504.8\" font-family=\"Helvetica,sans-Serif\" font-size=\"14.00\">sepal width (cm) ≤ 2.65</text>\n",
       "<text text-anchor=\"start\" x=\"696.272\" y=\"-490.8\" font-family=\"Helvetica,sans-Serif\" font-size=\"14.00\">gini = 0.5</text>\n",
       "<text text-anchor=\"start\" x=\"686.941\" y=\"-476.8\" font-family=\"Helvetica,sans-Serif\" font-size=\"14.00\">samples = 6</text>\n",
       "<text text-anchor=\"start\" x=\"676.817\" y=\"-462.8\" font-family=\"Helvetica,sans-Serif\" font-size=\"14.00\">value = [0, 3, 3]</text>\n",
       "<text text-anchor=\"start\" x=\"671\" y=\"-448.8\" font-family=\"Helvetica,sans-Serif\" font-size=\"14.00\">class = versicolor</text>\n",
       "</g>\n",
       "<!-- 33&#45;&gt;34 -->\n",
       "<g id=\"edge34\" class=\"edge\"><title>33&#45;&gt;34</title>\n",
       "<path fill=\"none\" stroke=\"black\" d=\"M815.772,-555.769C804.114,-546.308 791.527,-536.092 779.543,-526.366\"/>\n",
       "<polygon fill=\"black\" stroke=\"black\" points=\"781.741,-523.643 771.771,-520.058 777.33,-529.078 781.741,-523.643\"/>\n",
       "</g>\n",
       "<!-- 39 -->\n",
       "<g id=\"node40\" class=\"node\"><title>39</title>\n",
       "<path fill=\"#39e581\" fill-opacity=\"0.498039\" stroke=\"black\" d=\"M974.006,-520C974.006,-520 837.749,-520 837.749,-520 831.749,-520 825.749,-514 825.749,-508 825.749,-508 825.749,-454 825.749,-454 825.749,-448 831.749,-442 837.749,-442 837.749,-442 974.006,-442 974.006,-442 980.006,-442 986.006,-448 986.006,-454 986.006,-454 986.006,-508 986.006,-508 986.006,-514 980.006,-520 974.006,-520\"/>\n",
       "<text text-anchor=\"start\" x=\"833.563\" y=\"-504.8\" font-family=\"Helvetica,sans-Serif\" font-size=\"14.00\">sepal width (cm) ≤ 2.65</text>\n",
       "<text text-anchor=\"start\" x=\"869.486\" y=\"-490.8\" font-family=\"Helvetica,sans-Serif\" font-size=\"14.00\">gini = 0.444</text>\n",
       "<text text-anchor=\"start\" x=\"867.941\" y=\"-476.8\" font-family=\"Helvetica,sans-Serif\" font-size=\"14.00\">samples = 6</text>\n",
       "<text text-anchor=\"start\" x=\"857.817\" y=\"-462.8\" font-family=\"Helvetica,sans-Serif\" font-size=\"14.00\">value = [0, 4, 2]</text>\n",
       "<text text-anchor=\"start\" x=\"852\" y=\"-448.8\" font-family=\"Helvetica,sans-Serif\" font-size=\"14.00\">class = versicolor</text>\n",
       "</g>\n",
       "<!-- 33&#45;&gt;39 -->\n",
       "<g id=\"edge39\" class=\"edge\"><title>33&#45;&gt;39</title>\n",
       "<path fill=\"none\" stroke=\"black\" d=\"M877.555,-555.769C880.807,-547.299 884.291,-538.225 887.665,-529.438\"/>\n",
       "<polygon fill=\"black\" stroke=\"black\" points=\"890.949,-530.649 891.266,-520.058 884.414,-528.14 890.949,-530.649\"/>\n",
       "</g>\n",
       "<!-- 35 -->\n",
       "<g id=\"node36\" class=\"node\"><title>35</title>\n",
       "<path fill=\"#39e581\" stroke=\"black\" d=\"M614.633,-399C614.633,-399 515.122,-399 515.122,-399 509.122,-399 503.122,-393 503.122,-387 503.122,-387 503.122,-347 503.122,-347 503.122,-341 509.122,-335 515.122,-335 515.122,-335 614.633,-335 614.633,-335 620.633,-335 626.633,-341 626.633,-347 626.633,-347 626.633,-387 626.633,-387 626.633,-393 620.633,-399 614.633,-399\"/>\n",
       "<text text-anchor=\"start\" x=\"536.272\" y=\"-383.8\" font-family=\"Helvetica,sans-Serif\" font-size=\"14.00\">gini = 0.0</text>\n",
       "<text text-anchor=\"start\" x=\"526.941\" y=\"-369.8\" font-family=\"Helvetica,sans-Serif\" font-size=\"14.00\">samples = 1</text>\n",
       "<text text-anchor=\"start\" x=\"516.817\" y=\"-355.8\" font-family=\"Helvetica,sans-Serif\" font-size=\"14.00\">value = [0, 1, 0]</text>\n",
       "<text text-anchor=\"start\" x=\"511\" y=\"-341.8\" font-family=\"Helvetica,sans-Serif\" font-size=\"14.00\">class = versicolor</text>\n",
       "</g>\n",
       "<!-- 34&#45;&gt;35 -->\n",
       "<g id=\"edge35\" class=\"edge\"><title>34&#45;&gt;35</title>\n",
       "<path fill=\"none\" stroke=\"black\" d=\"M670.262,-441.769C653.302,-429.897 634.644,-416.837 617.801,-405.047\"/>\n",
       "<polygon fill=\"black\" stroke=\"black\" points=\"619.377,-401.877 609.177,-399.01 615.363,-407.612 619.377,-401.877\"/>\n",
       "</g>\n",
       "<!-- 36 -->\n",
       "<g id=\"node37\" class=\"node\"><title>36</title>\n",
       "<path fill=\"#8139e5\" fill-opacity=\"0.333333\" stroke=\"black\" d=\"M793.006,-406C793.006,-406 656.749,-406 656.749,-406 650.749,-406 644.749,-400 644.749,-394 644.749,-394 644.749,-340 644.749,-340 644.749,-334 650.749,-328 656.749,-328 656.749,-328 793.006,-328 793.006,-328 799.006,-328 805.006,-334 805.006,-340 805.006,-340 805.006,-394 805.006,-394 805.006,-400 799.006,-406 793.006,-406\"/>\n",
       "<text text-anchor=\"start\" x=\"652.563\" y=\"-390.8\" font-family=\"Helvetica,sans-Serif\" font-size=\"14.00\">sepal width (cm) ≤ 2.75</text>\n",
       "<text text-anchor=\"start\" x=\"692.379\" y=\"-376.8\" font-family=\"Helvetica,sans-Serif\" font-size=\"14.00\">gini = 0.48</text>\n",
       "<text text-anchor=\"start\" x=\"686.941\" y=\"-362.8\" font-family=\"Helvetica,sans-Serif\" font-size=\"14.00\">samples = 5</text>\n",
       "<text text-anchor=\"start\" x=\"676.817\" y=\"-348.8\" font-family=\"Helvetica,sans-Serif\" font-size=\"14.00\">value = [0, 2, 3]</text>\n",
       "<text text-anchor=\"start\" x=\"675.276\" y=\"-334.8\" font-family=\"Helvetica,sans-Serif\" font-size=\"14.00\">class = virginica</text>\n",
       "</g>\n",
       "<!-- 34&#45;&gt;36 -->\n",
       "<g id=\"edge36\" class=\"edge\"><title>34&#45;&gt;36</title>\n",
       "<path fill=\"none\" stroke=\"black\" d=\"M724.877,-441.769C724.877,-433.57 724.877,-424.803 724.877,-416.28\"/>\n",
       "<polygon fill=\"black\" stroke=\"black\" points=\"728.378,-416.058 724.877,-406.058 721.378,-416.059 728.378,-416.058\"/>\n",
       "</g>\n",
       "<!-- 37 -->\n",
       "<g id=\"node38\" class=\"node\"><title>37</title>\n",
       "<path fill=\"none\" stroke=\"black\" d=\"M643.633,-285C643.633,-285 544.122,-285 544.122,-285 538.122,-285 532.122,-279 532.122,-273 532.122,-273 532.122,-233 532.122,-233 532.122,-227 538.122,-221 544.122,-221 544.122,-221 643.633,-221 643.633,-221 649.633,-221 655.633,-227 655.633,-233 655.633,-233 655.633,-273 655.633,-273 655.633,-279 649.633,-285 643.633,-285\"/>\n",
       "<text text-anchor=\"start\" x=\"565.272\" y=\"-269.8\" font-family=\"Helvetica,sans-Serif\" font-size=\"14.00\">gini = 0.5</text>\n",
       "<text text-anchor=\"start\" x=\"555.941\" y=\"-255.8\" font-family=\"Helvetica,sans-Serif\" font-size=\"14.00\">samples = 4</text>\n",
       "<text text-anchor=\"start\" x=\"545.817\" y=\"-241.8\" font-family=\"Helvetica,sans-Serif\" font-size=\"14.00\">value = [0, 2, 2]</text>\n",
       "<text text-anchor=\"start\" x=\"540\" y=\"-227.8\" font-family=\"Helvetica,sans-Serif\" font-size=\"14.00\">class = versicolor</text>\n",
       "</g>\n",
       "<!-- 36&#45;&gt;37 -->\n",
       "<g id=\"edge37\" class=\"edge\"><title>36&#45;&gt;37</title>\n",
       "<path fill=\"none\" stroke=\"black\" d=\"M680.161,-327.769C666.53,-316.115 651.559,-303.315 637.969,-291.697\"/>\n",
       "<polygon fill=\"black\" stroke=\"black\" points=\"640.023,-288.848 630.148,-285.01 635.474,-294.169 640.023,-288.848\"/>\n",
       "</g>\n",
       "<!-- 38 -->\n",
       "<g id=\"node39\" class=\"node\"><title>38</title>\n",
       "<path fill=\"#8139e5\" stroke=\"black\" d=\"M776.581,-285C776.581,-285 685.174,-285 685.174,-285 679.174,-285 673.174,-279 673.174,-273 673.174,-273 673.174,-233 673.174,-233 673.174,-227 679.174,-221 685.174,-221 685.174,-221 776.581,-221 776.581,-221 782.581,-221 788.581,-227 788.581,-233 788.581,-233 788.581,-273 788.581,-273 788.581,-279 782.581,-285 776.581,-285\"/>\n",
       "<text text-anchor=\"start\" x=\"702.272\" y=\"-269.8\" font-family=\"Helvetica,sans-Serif\" font-size=\"14.00\">gini = 0.0</text>\n",
       "<text text-anchor=\"start\" x=\"692.941\" y=\"-255.8\" font-family=\"Helvetica,sans-Serif\" font-size=\"14.00\">samples = 1</text>\n",
       "<text text-anchor=\"start\" x=\"682.817\" y=\"-241.8\" font-family=\"Helvetica,sans-Serif\" font-size=\"14.00\">value = [0, 0, 1]</text>\n",
       "<text text-anchor=\"start\" x=\"681.276\" y=\"-227.8\" font-family=\"Helvetica,sans-Serif\" font-size=\"14.00\">class = virginica</text>\n",
       "</g>\n",
       "<!-- 36&#45;&gt;38 -->\n",
       "<g id=\"edge38\" class=\"edge\"><title>36&#45;&gt;38</title>\n",
       "<path fill=\"none\" stroke=\"black\" d=\"M726.926,-327.769C727.486,-317.313 728.095,-305.935 728.664,-295.315\"/>\n",
       "<polygon fill=\"black\" stroke=\"black\" points=\"732.176,-295.183 729.216,-285.01 725.186,-294.808 732.176,-295.183\"/>\n",
       "</g>\n",
       "<!-- 40 -->\n",
       "<g id=\"node41\" class=\"node\"><title>40</title>\n",
       "<path fill=\"#8139e5\" fill-opacity=\"0.498039\" stroke=\"black\" d=\"M976.967,-406C976.967,-406 834.788,-406 834.788,-406 828.788,-406 822.788,-400 822.788,-394 822.788,-394 822.788,-340 822.788,-340 822.788,-334 828.788,-328 834.788,-328 834.788,-328 976.967,-328 976.967,-328 982.967,-328 988.967,-334 988.967,-340 988.967,-340 988.967,-394 988.967,-394 988.967,-400 982.967,-406 976.967,-406\"/>\n",
       "<text text-anchor=\"start\" x=\"830.833\" y=\"-390.8\" font-family=\"Helvetica,sans-Serif\" font-size=\"14.00\">sepal length (cm) ≤ 6.05</text>\n",
       "<text text-anchor=\"start\" x=\"869.486\" y=\"-376.8\" font-family=\"Helvetica,sans-Serif\" font-size=\"14.00\">gini = 0.444</text>\n",
       "<text text-anchor=\"start\" x=\"867.941\" y=\"-362.8\" font-family=\"Helvetica,sans-Serif\" font-size=\"14.00\">samples = 3</text>\n",
       "<text text-anchor=\"start\" x=\"857.817\" y=\"-348.8\" font-family=\"Helvetica,sans-Serif\" font-size=\"14.00\">value = [0, 1, 2]</text>\n",
       "<text text-anchor=\"start\" x=\"856.276\" y=\"-334.8\" font-family=\"Helvetica,sans-Serif\" font-size=\"14.00\">class = virginica</text>\n",
       "</g>\n",
       "<!-- 39&#45;&gt;40 -->\n",
       "<g id=\"edge40\" class=\"edge\"><title>39&#45;&gt;40</title>\n",
       "<path fill=\"none\" stroke=\"black\" d=\"M905.877,-441.769C905.877,-433.57 905.877,-424.803 905.877,-416.28\"/>\n",
       "<polygon fill=\"black\" stroke=\"black\" points=\"909.378,-416.058 905.877,-406.058 902.378,-416.059 909.378,-416.058\"/>\n",
       "</g>\n",
       "<!-- 43 -->\n",
       "<g id=\"node44\" class=\"node\"><title>43</title>\n",
       "<path fill=\"#39e581\" stroke=\"black\" d=\"M1118.63,-399C1118.63,-399 1019.12,-399 1019.12,-399 1013.12,-399 1007.12,-393 1007.12,-387 1007.12,-387 1007.12,-347 1007.12,-347 1007.12,-341 1013.12,-335 1019.12,-335 1019.12,-335 1118.63,-335 1118.63,-335 1124.63,-335 1130.63,-341 1130.63,-347 1130.63,-347 1130.63,-387 1130.63,-387 1130.63,-393 1124.63,-399 1118.63,-399\"/>\n",
       "<text text-anchor=\"start\" x=\"1040.27\" y=\"-383.8\" font-family=\"Helvetica,sans-Serif\" font-size=\"14.00\">gini = 0.0</text>\n",
       "<text text-anchor=\"start\" x=\"1030.94\" y=\"-369.8\" font-family=\"Helvetica,sans-Serif\" font-size=\"14.00\">samples = 3</text>\n",
       "<text text-anchor=\"start\" x=\"1020.82\" y=\"-355.8\" font-family=\"Helvetica,sans-Serif\" font-size=\"14.00\">value = [0, 3, 0]</text>\n",
       "<text text-anchor=\"start\" x=\"1015\" y=\"-341.8\" font-family=\"Helvetica,sans-Serif\" font-size=\"14.00\">class = versicolor</text>\n",
       "</g>\n",
       "<!-- 39&#45;&gt;43 -->\n",
       "<g id=\"edge43\" class=\"edge\"><title>39&#45;&gt;43</title>\n",
       "<path fill=\"none\" stroke=\"black\" d=\"M961.517,-441.769C978.953,-429.788 998.152,-416.597 1015.43,-404.722\"/>\n",
       "<polygon fill=\"black\" stroke=\"black\" points=\"1017.49,-407.558 1023.75,-399.01 1013.52,-401.789 1017.49,-407.558\"/>\n",
       "</g>\n",
       "<!-- 41 -->\n",
       "<g id=\"node42\" class=\"node\"><title>41</title>\n",
       "<path fill=\"none\" stroke=\"black\" d=\"M930.633,-285C930.633,-285 831.122,-285 831.122,-285 825.122,-285 819.122,-279 819.122,-273 819.122,-273 819.122,-233 819.122,-233 819.122,-227 825.122,-221 831.122,-221 831.122,-221 930.633,-221 930.633,-221 936.633,-221 942.633,-227 942.633,-233 942.633,-233 942.633,-273 942.633,-273 942.633,-279 936.633,-285 930.633,-285\"/>\n",
       "<text text-anchor=\"start\" x=\"852.272\" y=\"-269.8\" font-family=\"Helvetica,sans-Serif\" font-size=\"14.00\">gini = 0.5</text>\n",
       "<text text-anchor=\"start\" x=\"842.941\" y=\"-255.8\" font-family=\"Helvetica,sans-Serif\" font-size=\"14.00\">samples = 2</text>\n",
       "<text text-anchor=\"start\" x=\"832.817\" y=\"-241.8\" font-family=\"Helvetica,sans-Serif\" font-size=\"14.00\">value = [0, 1, 1]</text>\n",
       "<text text-anchor=\"start\" x=\"827\" y=\"-227.8\" font-family=\"Helvetica,sans-Serif\" font-size=\"14.00\">class = versicolor</text>\n",
       "</g>\n",
       "<!-- 40&#45;&gt;41 -->\n",
       "<g id=\"edge41\" class=\"edge\"><title>40&#45;&gt;41</title>\n",
       "<path fill=\"none\" stroke=\"black\" d=\"M897.344,-327.769C894.986,-317.204 892.417,-305.698 890.026,-294.983\"/>\n",
       "<polygon fill=\"black\" stroke=\"black\" points=\"893.394,-294.007 887.799,-285.01 886.562,-295.532 893.394,-294.007\"/>\n",
       "</g>\n",
       "<!-- 42 -->\n",
       "<g id=\"node43\" class=\"node\"><title>42</title>\n",
       "<path fill=\"#8139e5\" stroke=\"black\" d=\"M1063.58,-285C1063.58,-285 972.174,-285 972.174,-285 966.174,-285 960.174,-279 960.174,-273 960.174,-273 960.174,-233 960.174,-233 960.174,-227 966.174,-221 972.174,-221 972.174,-221 1063.58,-221 1063.58,-221 1069.58,-221 1075.58,-227 1075.58,-233 1075.58,-233 1075.58,-273 1075.58,-273 1075.58,-279 1069.58,-285 1063.58,-285\"/>\n",
       "<text text-anchor=\"start\" x=\"989.272\" y=\"-269.8\" font-family=\"Helvetica,sans-Serif\" font-size=\"14.00\">gini = 0.0</text>\n",
       "<text text-anchor=\"start\" x=\"979.941\" y=\"-255.8\" font-family=\"Helvetica,sans-Serif\" font-size=\"14.00\">samples = 1</text>\n",
       "<text text-anchor=\"start\" x=\"969.817\" y=\"-241.8\" font-family=\"Helvetica,sans-Serif\" font-size=\"14.00\">value = [0, 0, 1]</text>\n",
       "<text text-anchor=\"start\" x=\"968.276\" y=\"-227.8\" font-family=\"Helvetica,sans-Serif\" font-size=\"14.00\">class = virginica</text>\n",
       "</g>\n",
       "<!-- 40&#45;&gt;42 -->\n",
       "<g id=\"edge42\" class=\"edge\"><title>40&#45;&gt;42</title>\n",
       "<path fill=\"none\" stroke=\"black\" d=\"M944.108,-327.769C955.545,-316.333 968.084,-303.794 979.528,-292.35\"/>\n",
       "<polygon fill=\"black\" stroke=\"black\" points=\"982.271,-294.556 986.867,-285.01 977.321,-289.606 982.271,-294.556\"/>\n",
       "</g>\n",
       "<!-- 46 -->\n",
       "<g id=\"node47\" class=\"node\"><title>46</title>\n",
       "<path fill=\"none\" stroke=\"black\" d=\"M1213.63,-627C1213.63,-627 1114.12,-627 1114.12,-627 1108.12,-627 1102.12,-621 1102.12,-615 1102.12,-615 1102.12,-575 1102.12,-575 1102.12,-569 1108.12,-563 1114.12,-563 1114.12,-563 1213.63,-563 1213.63,-563 1219.63,-563 1225.63,-569 1225.63,-575 1225.63,-575 1225.63,-615 1225.63,-615 1225.63,-621 1219.63,-627 1213.63,-627\"/>\n",
       "<text text-anchor=\"start\" x=\"1135.27\" y=\"-611.8\" font-family=\"Helvetica,sans-Serif\" font-size=\"14.00\">gini = 0.5</text>\n",
       "<text text-anchor=\"start\" x=\"1125.94\" y=\"-597.8\" font-family=\"Helvetica,sans-Serif\" font-size=\"14.00\">samples = 2</text>\n",
       "<text text-anchor=\"start\" x=\"1115.82\" y=\"-583.8\" font-family=\"Helvetica,sans-Serif\" font-size=\"14.00\">value = [0, 1, 1]</text>\n",
       "<text text-anchor=\"start\" x=\"1110\" y=\"-569.8\" font-family=\"Helvetica,sans-Serif\" font-size=\"14.00\">class = versicolor</text>\n",
       "</g>\n",
       "<!-- 45&#45;&gt;46 -->\n",
       "<g id=\"edge46\" class=\"edge\"><title>45&#45;&gt;46</title>\n",
       "<path fill=\"none\" stroke=\"black\" d=\"M1163.88,-669.769C1163.88,-659.313 1163.88,-647.935 1163.88,-637.315\"/>\n",
       "<polygon fill=\"black\" stroke=\"black\" points=\"1167.38,-637.01 1163.88,-627.01 1160.38,-637.01 1167.38,-637.01\"/>\n",
       "</g>\n",
       "<!-- 47 -->\n",
       "<g id=\"node48\" class=\"node\"><title>47</title>\n",
       "<path fill=\"#8139e5\" fill-opacity=\"0.498039\" stroke=\"black\" d=\"M1397.97,-634C1397.97,-634 1255.79,-634 1255.79,-634 1249.79,-634 1243.79,-628 1243.79,-622 1243.79,-622 1243.79,-568 1243.79,-568 1243.79,-562 1249.79,-556 1255.79,-556 1255.79,-556 1397.97,-556 1397.97,-556 1403.97,-556 1409.97,-562 1409.97,-568 1409.97,-568 1409.97,-622 1409.97,-622 1409.97,-628 1403.97,-634 1397.97,-634\"/>\n",
       "<text text-anchor=\"start\" x=\"1251.83\" y=\"-618.8\" font-family=\"Helvetica,sans-Serif\" font-size=\"14.00\">sepal length (cm) ≤ 6.05</text>\n",
       "<text text-anchor=\"start\" x=\"1290.49\" y=\"-604.8\" font-family=\"Helvetica,sans-Serif\" font-size=\"14.00\">gini = 0.444</text>\n",
       "<text text-anchor=\"start\" x=\"1288.94\" y=\"-590.8\" font-family=\"Helvetica,sans-Serif\" font-size=\"14.00\">samples = 3</text>\n",
       "<text text-anchor=\"start\" x=\"1278.82\" y=\"-576.8\" font-family=\"Helvetica,sans-Serif\" font-size=\"14.00\">value = [0, 1, 2]</text>\n",
       "<text text-anchor=\"start\" x=\"1277.28\" y=\"-562.8\" font-family=\"Helvetica,sans-Serif\" font-size=\"14.00\">class = virginica</text>\n",
       "</g>\n",
       "<!-- 45&#45;&gt;47 -->\n",
       "<g id=\"edge47\" class=\"edge\"><title>45&#45;&gt;47</title>\n",
       "<path fill=\"none\" stroke=\"black\" d=\"M1219.52,-669.769C1233.55,-660.128 1248.72,-649.703 1263.12,-639.811\"/>\n",
       "<polygon fill=\"black\" stroke=\"black\" points=\"1265.23,-642.606 1271.49,-634.058 1261.26,-636.837 1265.23,-642.606\"/>\n",
       "</g>\n",
       "<!-- 48 -->\n",
       "<g id=\"node49\" class=\"node\"><title>48</title>\n",
       "<path fill=\"#8139e5\" stroke=\"black\" d=\"M1235.58,-513C1235.58,-513 1144.17,-513 1144.17,-513 1138.17,-513 1132.17,-507 1132.17,-501 1132.17,-501 1132.17,-461 1132.17,-461 1132.17,-455 1138.17,-449 1144.17,-449 1144.17,-449 1235.58,-449 1235.58,-449 1241.58,-449 1247.58,-455 1247.58,-461 1247.58,-461 1247.58,-501 1247.58,-501 1247.58,-507 1241.58,-513 1235.58,-513\"/>\n",
       "<text text-anchor=\"start\" x=\"1161.27\" y=\"-497.8\" font-family=\"Helvetica,sans-Serif\" font-size=\"14.00\">gini = 0.0</text>\n",
       "<text text-anchor=\"start\" x=\"1151.94\" y=\"-483.8\" font-family=\"Helvetica,sans-Serif\" font-size=\"14.00\">samples = 1</text>\n",
       "<text text-anchor=\"start\" x=\"1141.82\" y=\"-469.8\" font-family=\"Helvetica,sans-Serif\" font-size=\"14.00\">value = [0, 0, 1]</text>\n",
       "<text text-anchor=\"start\" x=\"1140.28\" y=\"-455.8\" font-family=\"Helvetica,sans-Serif\" font-size=\"14.00\">class = virginica</text>\n",
       "</g>\n",
       "<!-- 47&#45;&gt;48 -->\n",
       "<g id=\"edge48\" class=\"edge\"><title>47&#45;&gt;48</title>\n",
       "<path fill=\"none\" stroke=\"black\" d=\"M1280.11,-555.769C1265.72,-544.006 1249.91,-531.076 1235.59,-519.371\"/>\n",
       "<polygon fill=\"black\" stroke=\"black\" points=\"1237.77,-516.63 1227.81,-513.01 1233.34,-522.049 1237.77,-516.63\"/>\n",
       "</g>\n",
       "<!-- 49 -->\n",
       "<g id=\"node50\" class=\"node\"><title>49</title>\n",
       "<path fill=\"none\" stroke=\"black\" d=\"M1376.63,-513C1376.63,-513 1277.12,-513 1277.12,-513 1271.12,-513 1265.12,-507 1265.12,-501 1265.12,-501 1265.12,-461 1265.12,-461 1265.12,-455 1271.12,-449 1277.12,-449 1277.12,-449 1376.63,-449 1376.63,-449 1382.63,-449 1388.63,-455 1388.63,-461 1388.63,-461 1388.63,-501 1388.63,-501 1388.63,-507 1382.63,-513 1376.63,-513\"/>\n",
       "<text text-anchor=\"start\" x=\"1298.27\" y=\"-497.8\" font-family=\"Helvetica,sans-Serif\" font-size=\"14.00\">gini = 0.5</text>\n",
       "<text text-anchor=\"start\" x=\"1288.94\" y=\"-483.8\" font-family=\"Helvetica,sans-Serif\" font-size=\"14.00\">samples = 2</text>\n",
       "<text text-anchor=\"start\" x=\"1278.82\" y=\"-469.8\" font-family=\"Helvetica,sans-Serif\" font-size=\"14.00\">value = [0, 1, 1]</text>\n",
       "<text text-anchor=\"start\" x=\"1273\" y=\"-455.8\" font-family=\"Helvetica,sans-Serif\" font-size=\"14.00\">class = versicolor</text>\n",
       "</g>\n",
       "<!-- 47&#45;&gt;49 -->\n",
       "<g id=\"edge49\" class=\"edge\"><title>47&#45;&gt;49</title>\n",
       "<path fill=\"none\" stroke=\"black\" d=\"M1326.88,-555.769C1326.88,-545.313 1326.88,-533.935 1326.88,-523.315\"/>\n",
       "<polygon fill=\"black\" stroke=\"black\" points=\"1330.38,-523.01 1326.88,-513.01 1323.38,-523.01 1330.38,-523.01\"/>\n",
       "</g>\n",
       "<!-- 53 -->\n",
       "<g id=\"node54\" class=\"node\"><title>53</title>\n",
       "<path fill=\"#8139e5\" fill-opacity=\"0.407843\" stroke=\"black\" d=\"M1397.22,-1090C1397.22,-1090 1268.54,-1090 1268.54,-1090 1262.54,-1090 1256.54,-1084 1256.54,-1078 1256.54,-1078 1256.54,-1024 1256.54,-1024 1256.54,-1018 1262.54,-1012 1268.54,-1012 1268.54,-1012 1397.22,-1012 1397.22,-1012 1403.22,-1012 1409.22,-1018 1409.22,-1024 1409.22,-1024 1409.22,-1078 1409.22,-1078 1409.22,-1084 1403.22,-1090 1397.22,-1090\"/>\n",
       "<text text-anchor=\"start\" x=\"1264.46\" y=\"-1074.8\" font-family=\"Helvetica,sans-Serif\" font-size=\"14.00\">sepal width (cm) ≤ 2.4</text>\n",
       "<text text-anchor=\"start\" x=\"1296.49\" y=\"-1060.8\" font-family=\"Helvetica,sans-Serif\" font-size=\"14.00\">gini = 0.467</text>\n",
       "<text text-anchor=\"start\" x=\"1291.05\" y=\"-1046.8\" font-family=\"Helvetica,sans-Serif\" font-size=\"14.00\">samples = 43</text>\n",
       "<text text-anchor=\"start\" x=\"1277.03\" y=\"-1032.8\" font-family=\"Helvetica,sans-Serif\" font-size=\"14.00\">value = [0, 16, 27]</text>\n",
       "<text text-anchor=\"start\" x=\"1283.28\" y=\"-1018.8\" font-family=\"Helvetica,sans-Serif\" font-size=\"14.00\">class = virginica</text>\n",
       "</g>\n",
       "<!-- 52&#45;&gt;53 -->\n",
       "<g id=\"edge53\" class=\"edge\"><title>52&#45;&gt;53</title>\n",
       "<path fill=\"none\" stroke=\"black\" d=\"M1332.88,-1125.77C1332.88,-1117.57 1332.88,-1108.8 1332.88,-1100.28\"/>\n",
       "<polygon fill=\"black\" stroke=\"black\" points=\"1336.38,-1100.06 1332.88,-1090.06 1329.38,-1100.06 1336.38,-1100.06\"/>\n",
       "</g>\n",
       "<!-- 92 -->\n",
       "<g id=\"node93\" class=\"node\"><title>92</title>\n",
       "<path fill=\"#8139e5\" stroke=\"black\" d=\"M1534.78,-1083C1534.78,-1083 1438.97,-1083 1438.97,-1083 1432.97,-1083 1426.97,-1077 1426.97,-1071 1426.97,-1071 1426.97,-1031 1426.97,-1031 1426.97,-1025 1432.97,-1019 1438.97,-1019 1438.97,-1019 1534.78,-1019 1534.78,-1019 1540.78,-1019 1546.78,-1025 1546.78,-1031 1546.78,-1031 1546.78,-1071 1546.78,-1071 1546.78,-1077 1540.78,-1083 1534.78,-1083\"/>\n",
       "<text text-anchor=\"start\" x=\"1458.27\" y=\"-1067.8\" font-family=\"Helvetica,sans-Serif\" font-size=\"14.00\">gini = 0.0</text>\n",
       "<text text-anchor=\"start\" x=\"1445.05\" y=\"-1053.8\" font-family=\"Helvetica,sans-Serif\" font-size=\"14.00\">samples = 12</text>\n",
       "<text text-anchor=\"start\" x=\"1434.92\" y=\"-1039.8\" font-family=\"Helvetica,sans-Serif\" font-size=\"14.00\">value = [0, 0, 12]</text>\n",
       "<text text-anchor=\"start\" x=\"1437.28\" y=\"-1025.8\" font-family=\"Helvetica,sans-Serif\" font-size=\"14.00\">class = virginica</text>\n",
       "</g>\n",
       "<!-- 52&#45;&gt;92 -->\n",
       "<g id=\"edge92\" class=\"edge\"><title>52&#45;&gt;92</title>\n",
       "<path fill=\"none\" stroke=\"black\" d=\"M1385.44,-1125.77C1401.77,-1113.9 1419.73,-1100.84 1435.94,-1089.05\"/>\n",
       "<polygon fill=\"black\" stroke=\"black\" points=\"1438.21,-1091.72 1444.24,-1083.01 1434.09,-1086.06 1438.21,-1091.72\"/>\n",
       "</g>\n",
       "<!-- 54 -->\n",
       "<g id=\"node55\" class=\"node\"><title>54</title>\n",
       "<path fill=\"#39e581\" stroke=\"black\" d=\"M1382.63,-969C1382.63,-969 1283.12,-969 1283.12,-969 1277.12,-969 1271.12,-963 1271.12,-957 1271.12,-957 1271.12,-917 1271.12,-917 1271.12,-911 1277.12,-905 1283.12,-905 1283.12,-905 1382.63,-905 1382.63,-905 1388.63,-905 1394.63,-911 1394.63,-917 1394.63,-917 1394.63,-957 1394.63,-957 1394.63,-963 1388.63,-969 1382.63,-969\"/>\n",
       "<text text-anchor=\"start\" x=\"1304.27\" y=\"-953.8\" font-family=\"Helvetica,sans-Serif\" font-size=\"14.00\">gini = 0.0</text>\n",
       "<text text-anchor=\"start\" x=\"1294.94\" y=\"-939.8\" font-family=\"Helvetica,sans-Serif\" font-size=\"14.00\">samples = 2</text>\n",
       "<text text-anchor=\"start\" x=\"1284.82\" y=\"-925.8\" font-family=\"Helvetica,sans-Serif\" font-size=\"14.00\">value = [0, 2, 0]</text>\n",
       "<text text-anchor=\"start\" x=\"1279\" y=\"-911.8\" font-family=\"Helvetica,sans-Serif\" font-size=\"14.00\">class = versicolor</text>\n",
       "</g>\n",
       "<!-- 53&#45;&gt;54 -->\n",
       "<g id=\"edge54\" class=\"edge\"><title>53&#45;&gt;54</title>\n",
       "<path fill=\"none\" stroke=\"black\" d=\"M1332.88,-1011.77C1332.88,-1001.31 1332.88,-989.935 1332.88,-979.315\"/>\n",
       "<polygon fill=\"black\" stroke=\"black\" points=\"1336.38,-979.01 1332.88,-969.01 1329.38,-979.01 1336.38,-979.01\"/>\n",
       "</g>\n",
       "<!-- 55 -->\n",
       "<g id=\"node56\" class=\"node\"><title>55</title>\n",
       "<path fill=\"#8139e5\" fill-opacity=\"0.482353\" stroke=\"black\" d=\"M1788.97,-976C1788.97,-976 1646.79,-976 1646.79,-976 1640.79,-976 1634.79,-970 1634.79,-964 1634.79,-964 1634.79,-910 1634.79,-910 1634.79,-904 1640.79,-898 1646.79,-898 1646.79,-898 1788.97,-898 1788.97,-898 1794.97,-898 1800.97,-904 1800.97,-910 1800.97,-910 1800.97,-964 1800.97,-964 1800.97,-970 1794.97,-976 1788.97,-976\"/>\n",
       "<text text-anchor=\"start\" x=\"1642.83\" y=\"-960.8\" font-family=\"Helvetica,sans-Serif\" font-size=\"14.00\">sepal length (cm) ≤ 6.95</text>\n",
       "<text text-anchor=\"start\" x=\"1685.38\" y=\"-946.8\" font-family=\"Helvetica,sans-Serif\" font-size=\"14.00\">gini = 0.45</text>\n",
       "<text text-anchor=\"start\" x=\"1676.05\" y=\"-932.8\" font-family=\"Helvetica,sans-Serif\" font-size=\"14.00\">samples = 41</text>\n",
       "<text text-anchor=\"start\" x=\"1662.03\" y=\"-918.8\" font-family=\"Helvetica,sans-Serif\" font-size=\"14.00\">value = [0, 14, 27]</text>\n",
       "<text text-anchor=\"start\" x=\"1668.28\" y=\"-904.8\" font-family=\"Helvetica,sans-Serif\" font-size=\"14.00\">class = virginica</text>\n",
       "</g>\n",
       "<!-- 53&#45;&gt;55 -->\n",
       "<g id=\"edge55\" class=\"edge\"><title>53&#45;&gt;55</title>\n",
       "<path fill=\"none\" stroke=\"black\" d=\"M1409.54,-1014.99C1412.34,-1013.95 1415.13,-1012.95 1417.88,-1012 1485.88,-988.624 1564.91,-969.44 1624.78,-956.467\"/>\n",
       "<polygon fill=\"black\" stroke=\"black\" points=\"1625.56,-959.88 1634.6,-954.358 1624.09,-953.036 1625.56,-959.88\"/>\n",
       "</g>\n",
       "<!-- 56 -->\n",
       "<g id=\"node57\" class=\"node\"><title>56</title>\n",
       "<path fill=\"#8139e5\" fill-opacity=\"0.517647\" stroke=\"black\" d=\"M1786.01,-862C1786.01,-862 1649.75,-862 1649.75,-862 1643.75,-862 1637.75,-856 1637.75,-850 1637.75,-850 1637.75,-796 1637.75,-796 1637.75,-790 1643.75,-784 1649.75,-784 1649.75,-784 1786.01,-784 1786.01,-784 1792.01,-784 1798.01,-790 1798.01,-796 1798.01,-796 1798.01,-850 1798.01,-850 1798.01,-856 1792.01,-862 1786.01,-862\"/>\n",
       "<text text-anchor=\"start\" x=\"1645.56\" y=\"-846.8\" font-family=\"Helvetica,sans-Serif\" font-size=\"14.00\">sepal width (cm) ≤ 3.15</text>\n",
       "<text text-anchor=\"start\" x=\"1681.49\" y=\"-832.8\" font-family=\"Helvetica,sans-Serif\" font-size=\"14.00\">gini = 0.439</text>\n",
       "<text text-anchor=\"start\" x=\"1676.05\" y=\"-818.8\" font-family=\"Helvetica,sans-Serif\" font-size=\"14.00\">samples = 40</text>\n",
       "<text text-anchor=\"start\" x=\"1662.03\" y=\"-804.8\" font-family=\"Helvetica,sans-Serif\" font-size=\"14.00\">value = [0, 13, 27]</text>\n",
       "<text text-anchor=\"start\" x=\"1668.28\" y=\"-790.8\" font-family=\"Helvetica,sans-Serif\" font-size=\"14.00\">class = virginica</text>\n",
       "</g>\n",
       "<!-- 55&#45;&gt;56 -->\n",
       "<g id=\"edge56\" class=\"edge\"><title>55&#45;&gt;56</title>\n",
       "<path fill=\"none\" stroke=\"black\" d=\"M1717.88,-897.769C1717.88,-889.57 1717.88,-880.803 1717.88,-872.28\"/>\n",
       "<polygon fill=\"black\" stroke=\"black\" points=\"1721.38,-872.058 1717.88,-862.058 1714.38,-872.059 1721.38,-872.058\"/>\n",
       "</g>\n",
       "<!-- 91 -->\n",
       "<g id=\"node92\" class=\"node\"><title>91</title>\n",
       "<path fill=\"#39e581\" stroke=\"black\" d=\"M1927.63,-855C1927.63,-855 1828.12,-855 1828.12,-855 1822.12,-855 1816.12,-849 1816.12,-843 1816.12,-843 1816.12,-803 1816.12,-803 1816.12,-797 1822.12,-791 1828.12,-791 1828.12,-791 1927.63,-791 1927.63,-791 1933.63,-791 1939.63,-797 1939.63,-803 1939.63,-803 1939.63,-843 1939.63,-843 1939.63,-849 1933.63,-855 1927.63,-855\"/>\n",
       "<text text-anchor=\"start\" x=\"1849.27\" y=\"-839.8\" font-family=\"Helvetica,sans-Serif\" font-size=\"14.00\">gini = 0.0</text>\n",
       "<text text-anchor=\"start\" x=\"1839.94\" y=\"-825.8\" font-family=\"Helvetica,sans-Serif\" font-size=\"14.00\">samples = 1</text>\n",
       "<text text-anchor=\"start\" x=\"1829.82\" y=\"-811.8\" font-family=\"Helvetica,sans-Serif\" font-size=\"14.00\">value = [0, 1, 0]</text>\n",
       "<text text-anchor=\"start\" x=\"1824\" y=\"-797.8\" font-family=\"Helvetica,sans-Serif\" font-size=\"14.00\">class = versicolor</text>\n",
       "</g>\n",
       "<!-- 55&#45;&gt;91 -->\n",
       "<g id=\"edge91\" class=\"edge\"><title>55&#45;&gt;91</title>\n",
       "<path fill=\"none\" stroke=\"black\" d=\"M1772.49,-897.769C1789.45,-885.897 1808.11,-872.837 1824.95,-861.047\"/>\n",
       "<polygon fill=\"black\" stroke=\"black\" points=\"1827.39,-863.612 1833.58,-855.01 1823.38,-857.877 1827.39,-863.612\"/>\n",
       "</g>\n",
       "<!-- 57 -->\n",
       "<g id=\"node58\" class=\"node\"><title>57</title>\n",
       "<path fill=\"#8139e5\" fill-opacity=\"0.388235\" stroke=\"black\" d=\"M1788.97,-748C1788.97,-748 1646.79,-748 1646.79,-748 1640.79,-748 1634.79,-742 1634.79,-736 1634.79,-736 1634.79,-682 1634.79,-682 1634.79,-676 1640.79,-670 1646.79,-670 1646.79,-670 1788.97,-670 1788.97,-670 1794.97,-670 1800.97,-676 1800.97,-682 1800.97,-682 1800.97,-736 1800.97,-736 1800.97,-742 1794.97,-748 1788.97,-748\"/>\n",
       "<text text-anchor=\"start\" x=\"1642.83\" y=\"-732.8\" font-family=\"Helvetica,sans-Serif\" font-size=\"14.00\">sepal length (cm) ≤ 6.55</text>\n",
       "<text text-anchor=\"start\" x=\"1681.49\" y=\"-718.8\" font-family=\"Helvetica,sans-Serif\" font-size=\"14.00\">gini = 0.471</text>\n",
       "<text text-anchor=\"start\" x=\"1676.05\" y=\"-704.8\" font-family=\"Helvetica,sans-Serif\" font-size=\"14.00\">samples = 29</text>\n",
       "<text text-anchor=\"start\" x=\"1662.55\" y=\"-690.8\" font-family=\"Helvetica,sans-Serif\" font-size=\"14.00\">value = [0, 11, 18]</text>\n",
       "<text text-anchor=\"start\" x=\"1668.28\" y=\"-676.8\" font-family=\"Helvetica,sans-Serif\" font-size=\"14.00\">class = virginica</text>\n",
       "</g>\n",
       "<!-- 56&#45;&gt;57 -->\n",
       "<g id=\"edge57\" class=\"edge\"><title>56&#45;&gt;57</title>\n",
       "<path fill=\"none\" stroke=\"black\" d=\"M1717.88,-783.769C1717.88,-775.57 1717.88,-766.803 1717.88,-758.28\"/>\n",
       "<polygon fill=\"black\" stroke=\"black\" points=\"1721.38,-758.058 1717.88,-748.058 1714.38,-758.059 1721.38,-758.058\"/>\n",
       "</g>\n",
       "<!-- 84 -->\n",
       "<g id=\"node85\" class=\"node\"><title>84</title>\n",
       "<path fill=\"#8139e5\" fill-opacity=\"0.776471\" stroke=\"black\" d=\"M2195.97,-748C2195.97,-748 2053.79,-748 2053.79,-748 2047.79,-748 2041.79,-742 2041.79,-736 2041.79,-736 2041.79,-682 2041.79,-682 2041.79,-676 2047.79,-670 2053.79,-670 2053.79,-670 2195.97,-670 2195.97,-670 2201.97,-670 2207.97,-676 2207.97,-682 2207.97,-682 2207.97,-736 2207.97,-736 2207.97,-742 2201.97,-748 2195.97,-748\"/>\n",
       "<text text-anchor=\"start\" x=\"2049.83\" y=\"-732.8\" font-family=\"Helvetica,sans-Serif\" font-size=\"14.00\">sepal length (cm) ≤ 6.45</text>\n",
       "<text text-anchor=\"start\" x=\"2088.49\" y=\"-718.8\" font-family=\"Helvetica,sans-Serif\" font-size=\"14.00\">gini = 0.298</text>\n",
       "<text text-anchor=\"start\" x=\"2083.56\" y=\"-704.8\" font-family=\"Helvetica,sans-Serif\" font-size=\"14.00\">samples = 11</text>\n",
       "<text text-anchor=\"start\" x=\"2076.82\" y=\"-690.8\" font-family=\"Helvetica,sans-Serif\" font-size=\"14.00\">value = [0, 2, 9]</text>\n",
       "<text text-anchor=\"start\" x=\"2075.28\" y=\"-676.8\" font-family=\"Helvetica,sans-Serif\" font-size=\"14.00\">class = virginica</text>\n",
       "</g>\n",
       "<!-- 56&#45;&gt;84 -->\n",
       "<g id=\"edge84\" class=\"edge\"><title>56&#45;&gt;84</title>\n",
       "<path fill=\"none\" stroke=\"black\" d=\"M1798.17,-786.975C1801.09,-785.936 1804,-784.94 1806.88,-784 1881.16,-759.707 1967.67,-740.116 2031.69,-727.21\"/>\n",
       "<polygon fill=\"black\" stroke=\"black\" points=\"2032.64,-730.588 2041.76,-725.196 2031.27,-723.724 2032.64,-730.588\"/>\n",
       "</g>\n",
       "<!-- 58 -->\n",
       "<g id=\"node59\" class=\"node\"><title>58</title>\n",
       "<path fill=\"#8139e5\" fill-opacity=\"0.666667\" stroke=\"black\" d=\"M1695.01,-634C1695.01,-634 1558.75,-634 1558.75,-634 1552.75,-634 1546.75,-628 1546.75,-622 1546.75,-622 1546.75,-568 1546.75,-568 1546.75,-562 1552.75,-556 1558.75,-556 1558.75,-556 1695.01,-556 1695.01,-556 1701.01,-556 1707.01,-562 1707.01,-568 1707.01,-568 1707.01,-622 1707.01,-622 1707.01,-628 1701.01,-634 1695.01,-634\"/>\n",
       "<text text-anchor=\"start\" x=\"1554.56\" y=\"-618.8\" font-family=\"Helvetica,sans-Serif\" font-size=\"14.00\">sepal width (cm) ≤ 2.95</text>\n",
       "<text text-anchor=\"start\" x=\"1590.49\" y=\"-604.8\" font-family=\"Helvetica,sans-Serif\" font-size=\"14.00\">gini = 0.375</text>\n",
       "<text text-anchor=\"start\" x=\"1585.05\" y=\"-590.8\" font-family=\"Helvetica,sans-Serif\" font-size=\"14.00\">samples = 16</text>\n",
       "<text text-anchor=\"start\" x=\"1574.92\" y=\"-576.8\" font-family=\"Helvetica,sans-Serif\" font-size=\"14.00\">value = [0, 4, 12]</text>\n",
       "<text text-anchor=\"start\" x=\"1577.28\" y=\"-562.8\" font-family=\"Helvetica,sans-Serif\" font-size=\"14.00\">class = virginica</text>\n",
       "</g>\n",
       "<!-- 57&#45;&gt;58 -->\n",
       "<g id=\"edge58\" class=\"edge\"><title>57&#45;&gt;58</title>\n",
       "<path fill=\"none\" stroke=\"black\" d=\"M1686.81,-669.769C1679.57,-660.849 1671.77,-651.257 1664.28,-642.038\"/>\n",
       "<polygon fill=\"black\" stroke=\"black\" points=\"1666.82,-639.613 1657.8,-634.058 1661.39,-644.027 1666.82,-639.613\"/>\n",
       "</g>\n",
       "<!-- 71 -->\n",
       "<g id=\"node72\" class=\"node\"><title>71</title>\n",
       "<path fill=\"#39e581\" fill-opacity=\"0.141176\" stroke=\"black\" d=\"M1878.97,-634C1878.97,-634 1736.79,-634 1736.79,-634 1730.79,-634 1724.79,-628 1724.79,-622 1724.79,-622 1724.79,-568 1724.79,-568 1724.79,-562 1730.79,-556 1736.79,-556 1736.79,-556 1878.97,-556 1878.97,-556 1884.97,-556 1890.97,-562 1890.97,-568 1890.97,-568 1890.97,-622 1890.97,-622 1890.97,-628 1884.97,-634 1878.97,-634\"/>\n",
       "<text text-anchor=\"start\" x=\"1732.83\" y=\"-618.8\" font-family=\"Helvetica,sans-Serif\" font-size=\"14.00\">sepal length (cm) ≤ 6.65</text>\n",
       "<text text-anchor=\"start\" x=\"1771.49\" y=\"-604.8\" font-family=\"Helvetica,sans-Serif\" font-size=\"14.00\">gini = 0.497</text>\n",
       "<text text-anchor=\"start\" x=\"1766.05\" y=\"-590.8\" font-family=\"Helvetica,sans-Serif\" font-size=\"14.00\">samples = 13</text>\n",
       "<text text-anchor=\"start\" x=\"1759.82\" y=\"-576.8\" font-family=\"Helvetica,sans-Serif\" font-size=\"14.00\">value = [0, 7, 6]</text>\n",
       "<text text-anchor=\"start\" x=\"1754\" y=\"-562.8\" font-family=\"Helvetica,sans-Serif\" font-size=\"14.00\">class = versicolor</text>\n",
       "</g>\n",
       "<!-- 57&#45;&gt;71 -->\n",
       "<g id=\"edge71\" class=\"edge\"><title>57&#45;&gt;71</title>\n",
       "<path fill=\"none\" stroke=\"black\" d=\"M1748.6,-669.769C1755.77,-660.849 1763.47,-651.257 1770.88,-642.038\"/>\n",
       "<polygon fill=\"black\" stroke=\"black\" points=\"1773.76,-644.046 1777.29,-634.058 1768.3,-639.661 1773.76,-644.046\"/>\n",
       "</g>\n",
       "<!-- 59 -->\n",
       "<g id=\"node60\" class=\"node\"><title>59</title>\n",
       "<path fill=\"#8139e5\" fill-opacity=\"0.498039\" stroke=\"black\" d=\"M1560.97,-520C1560.97,-520 1418.79,-520 1418.79,-520 1412.79,-520 1406.79,-514 1406.79,-508 1406.79,-508 1406.79,-454 1406.79,-454 1406.79,-448 1412.79,-442 1418.79,-442 1418.79,-442 1560.97,-442 1560.97,-442 1566.97,-442 1572.97,-448 1572.97,-454 1572.97,-454 1572.97,-508 1572.97,-508 1572.97,-514 1566.97,-520 1560.97,-520\"/>\n",
       "<text text-anchor=\"start\" x=\"1414.83\" y=\"-504.8\" font-family=\"Helvetica,sans-Serif\" font-size=\"14.00\">sepal length (cm) ≤ 6.45</text>\n",
       "<text text-anchor=\"start\" x=\"1453.49\" y=\"-490.8\" font-family=\"Helvetica,sans-Serif\" font-size=\"14.00\">gini = 0.444</text>\n",
       "<text text-anchor=\"start\" x=\"1448.05\" y=\"-476.8\" font-family=\"Helvetica,sans-Serif\" font-size=\"14.00\">samples = 12</text>\n",
       "<text text-anchor=\"start\" x=\"1441.82\" y=\"-462.8\" font-family=\"Helvetica,sans-Serif\" font-size=\"14.00\">value = [0, 4, 8]</text>\n",
       "<text text-anchor=\"start\" x=\"1440.28\" y=\"-448.8\" font-family=\"Helvetica,sans-Serif\" font-size=\"14.00\">class = virginica</text>\n",
       "</g>\n",
       "<!-- 58&#45;&gt;59 -->\n",
       "<g id=\"edge59\" class=\"edge\"><title>58&#45;&gt;59</title>\n",
       "<path fill=\"none\" stroke=\"black\" d=\"M1580.11,-555.769C1568.65,-546.398 1556.28,-536.287 1544.49,-526.644\"/>\n",
       "<polygon fill=\"black\" stroke=\"black\" points=\"1546.39,-523.678 1536.43,-520.058 1541.96,-529.098 1546.39,-523.678\"/>\n",
       "</g>\n",
       "<!-- 70 -->\n",
       "<g id=\"node71\" class=\"node\"><title>70</title>\n",
       "<path fill=\"#8139e5\" stroke=\"black\" d=\"M1694.58,-513C1694.58,-513 1603.17,-513 1603.17,-513 1597.17,-513 1591.17,-507 1591.17,-501 1591.17,-501 1591.17,-461 1591.17,-461 1591.17,-455 1597.17,-449 1603.17,-449 1603.17,-449 1694.58,-449 1694.58,-449 1700.58,-449 1706.58,-455 1706.58,-461 1706.58,-461 1706.58,-501 1706.58,-501 1706.58,-507 1700.58,-513 1694.58,-513\"/>\n",
       "<text text-anchor=\"start\" x=\"1620.27\" y=\"-497.8\" font-family=\"Helvetica,sans-Serif\" font-size=\"14.00\">gini = 0.0</text>\n",
       "<text text-anchor=\"start\" x=\"1610.94\" y=\"-483.8\" font-family=\"Helvetica,sans-Serif\" font-size=\"14.00\">samples = 4</text>\n",
       "<text text-anchor=\"start\" x=\"1600.82\" y=\"-469.8\" font-family=\"Helvetica,sans-Serif\" font-size=\"14.00\">value = [0, 0, 4]</text>\n",
       "<text text-anchor=\"start\" x=\"1599.28\" y=\"-455.8\" font-family=\"Helvetica,sans-Serif\" font-size=\"14.00\">class = virginica</text>\n",
       "</g>\n",
       "<!-- 58&#45;&gt;70 -->\n",
       "<g id=\"edge70\" class=\"edge\"><title>58&#45;&gt;70</title>\n",
       "<path fill=\"none\" stroke=\"black\" d=\"M1634.39,-555.769C1636.46,-545.204 1638.72,-533.698 1640.83,-522.983\"/>\n",
       "<polygon fill=\"black\" stroke=\"black\" points=\"1644.29,-523.497 1642.79,-513.01 1637.42,-522.148 1644.29,-523.497\"/>\n",
       "</g>\n",
       "<!-- 60 -->\n",
       "<g id=\"node61\" class=\"node\"><title>60</title>\n",
       "<path fill=\"#8139e5\" fill-opacity=\"0.623529\" stroke=\"black\" d=\"M1423.01,-406C1423.01,-406 1286.75,-406 1286.75,-406 1280.75,-406 1274.75,-400 1274.75,-394 1274.75,-394 1274.75,-340 1274.75,-340 1274.75,-334 1280.75,-328 1286.75,-328 1286.75,-328 1423.01,-328 1423.01,-328 1429.01,-328 1435.01,-334 1435.01,-340 1435.01,-340 1435.01,-394 1435.01,-394 1435.01,-400 1429.01,-406 1423.01,-406\"/>\n",
       "<text text-anchor=\"start\" x=\"1282.56\" y=\"-390.8\" font-family=\"Helvetica,sans-Serif\" font-size=\"14.00\">sepal width (cm) ≤ 2.85</text>\n",
       "<text text-anchor=\"start\" x=\"1318.49\" y=\"-376.8\" font-family=\"Helvetica,sans-Serif\" font-size=\"14.00\">gini = 0.397</text>\n",
       "<text text-anchor=\"start\" x=\"1313.56\" y=\"-362.8\" font-family=\"Helvetica,sans-Serif\" font-size=\"14.00\">samples = 11</text>\n",
       "<text text-anchor=\"start\" x=\"1306.82\" y=\"-348.8\" font-family=\"Helvetica,sans-Serif\" font-size=\"14.00\">value = [0, 3, 8]</text>\n",
       "<text text-anchor=\"start\" x=\"1305.28\" y=\"-334.8\" font-family=\"Helvetica,sans-Serif\" font-size=\"14.00\">class = virginica</text>\n",
       "</g>\n",
       "<!-- 59&#45;&gt;60 -->\n",
       "<g id=\"edge60\" class=\"edge\"><title>59&#45;&gt;60</title>\n",
       "<path fill=\"none\" stroke=\"black\" d=\"M1443.8,-441.769C1432.5,-432.398 1420.31,-422.287 1408.69,-412.644\"/>\n",
       "<polygon fill=\"black\" stroke=\"black\" points=\"1410.68,-409.75 1400.75,-406.058 1406.21,-415.137 1410.68,-409.75\"/>\n",
       "</g>\n",
       "<!-- 69 -->\n",
       "<g id=\"node70\" class=\"node\"><title>69</title>\n",
       "<path fill=\"#39e581\" stroke=\"black\" d=\"M1564.63,-399C1564.63,-399 1465.12,-399 1465.12,-399 1459.12,-399 1453.12,-393 1453.12,-387 1453.12,-387 1453.12,-347 1453.12,-347 1453.12,-341 1459.12,-335 1465.12,-335 1465.12,-335 1564.63,-335 1564.63,-335 1570.63,-335 1576.63,-341 1576.63,-347 1576.63,-347 1576.63,-387 1576.63,-387 1576.63,-393 1570.63,-399 1564.63,-399\"/>\n",
       "<text text-anchor=\"start\" x=\"1486.27\" y=\"-383.8\" font-family=\"Helvetica,sans-Serif\" font-size=\"14.00\">gini = 0.0</text>\n",
       "<text text-anchor=\"start\" x=\"1476.94\" y=\"-369.8\" font-family=\"Helvetica,sans-Serif\" font-size=\"14.00\">samples = 1</text>\n",
       "<text text-anchor=\"start\" x=\"1466.82\" y=\"-355.8\" font-family=\"Helvetica,sans-Serif\" font-size=\"14.00\">value = [0, 1, 0]</text>\n",
       "<text text-anchor=\"start\" x=\"1461\" y=\"-341.8\" font-family=\"Helvetica,sans-Serif\" font-size=\"14.00\">class = versicolor</text>\n",
       "</g>\n",
       "<!-- 59&#45;&gt;69 -->\n",
       "<g id=\"edge69\" class=\"edge\"><title>59&#45;&gt;69</title>\n",
       "<path fill=\"none\" stroke=\"black\" d=\"M1498.41,-441.769C1500.77,-431.204 1503.34,-419.698 1505.73,-408.983\"/>\n",
       "<polygon fill=\"black\" stroke=\"black\" points=\"1509.19,-409.532 1507.96,-399.01 1502.36,-408.007 1509.19,-409.532\"/>\n",
       "</g>\n",
       "<!-- 61 -->\n",
       "<g id=\"node62\" class=\"node\"><title>61</title>\n",
       "<path fill=\"#8139e5\" fill-opacity=\"0.858824\" stroke=\"black\" d=\"M1259.22,-292C1259.22,-292 1130.54,-292 1130.54,-292 1124.54,-292 1118.54,-286 1118.54,-280 1118.54,-280 1118.54,-226 1118.54,-226 1118.54,-220 1124.54,-214 1130.54,-214 1130.54,-214 1259.22,-214 1259.22,-214 1265.22,-214 1271.22,-220 1271.22,-226 1271.22,-226 1271.22,-280 1271.22,-280 1271.22,-286 1265.22,-292 1259.22,-292\"/>\n",
       "<text text-anchor=\"start\" x=\"1126.46\" y=\"-276.8\" font-family=\"Helvetica,sans-Serif\" font-size=\"14.00\">sepal width (cm) ≤ 2.6</text>\n",
       "<text text-anchor=\"start\" x=\"1158.49\" y=\"-262.8\" font-family=\"Helvetica,sans-Serif\" font-size=\"14.00\">gini = 0.219</text>\n",
       "<text text-anchor=\"start\" x=\"1156.94\" y=\"-248.8\" font-family=\"Helvetica,sans-Serif\" font-size=\"14.00\">samples = 8</text>\n",
       "<text text-anchor=\"start\" x=\"1146.82\" y=\"-234.8\" font-family=\"Helvetica,sans-Serif\" font-size=\"14.00\">value = [0, 1, 7]</text>\n",
       "<text text-anchor=\"start\" x=\"1145.28\" y=\"-220.8\" font-family=\"Helvetica,sans-Serif\" font-size=\"14.00\">class = virginica</text>\n",
       "</g>\n",
       "<!-- 60&#45;&gt;61 -->\n",
       "<g id=\"edge61\" class=\"edge\"><title>60&#45;&gt;61</title>\n",
       "<path fill=\"none\" stroke=\"black\" d=\"M1300.26,-327.769C1286.49,-318.128 1271.6,-307.703 1257.46,-297.811\"/>\n",
       "<polygon fill=\"black\" stroke=\"black\" points=\"1259.45,-294.926 1249.25,-292.058 1255.43,-300.66 1259.45,-294.926\"/>\n",
       "</g>\n",
       "<!-- 64 -->\n",
       "<g id=\"node65\" class=\"node\"><title>64</title>\n",
       "<path fill=\"#39e581\" fill-opacity=\"0.498039\" stroke=\"black\" d=\"M1442.97,-292C1442.97,-292 1300.79,-292 1300.79,-292 1294.79,-292 1288.79,-286 1288.79,-280 1288.79,-280 1288.79,-226 1288.79,-226 1288.79,-220 1294.79,-214 1300.79,-214 1300.79,-214 1442.97,-214 1442.97,-214 1448.97,-214 1454.97,-220 1454.97,-226 1454.97,-226 1454.97,-280 1454.97,-280 1454.97,-286 1448.97,-292 1442.97,-292\"/>\n",
       "<text text-anchor=\"start\" x=\"1296.83\" y=\"-276.8\" font-family=\"Helvetica,sans-Serif\" font-size=\"14.00\">sepal length (cm) ≤ 6.25</text>\n",
       "<text text-anchor=\"start\" x=\"1335.49\" y=\"-262.8\" font-family=\"Helvetica,sans-Serif\" font-size=\"14.00\">gini = 0.444</text>\n",
       "<text text-anchor=\"start\" x=\"1333.94\" y=\"-248.8\" font-family=\"Helvetica,sans-Serif\" font-size=\"14.00\">samples = 3</text>\n",
       "<text text-anchor=\"start\" x=\"1323.82\" y=\"-234.8\" font-family=\"Helvetica,sans-Serif\" font-size=\"14.00\">value = [0, 2, 1]</text>\n",
       "<text text-anchor=\"start\" x=\"1318\" y=\"-220.8\" font-family=\"Helvetica,sans-Serif\" font-size=\"14.00\">class = versicolor</text>\n",
       "</g>\n",
       "<!-- 60&#45;&gt;64 -->\n",
       "<g id=\"edge64\" class=\"edge\"><title>60&#45;&gt;64</title>\n",
       "<path fill=\"none\" stroke=\"black\" d=\"M1360.68,-327.769C1361.94,-319.48 1363.28,-310.61 1364.59,-301.999\"/>\n",
       "<polygon fill=\"black\" stroke=\"black\" points=\"1368.06,-302.471 1366.1,-292.058 1361.14,-301.42 1368.06,-302.471\"/>\n",
       "</g>\n",
       "<!-- 62 -->\n",
       "<g id=\"node63\" class=\"node\"><title>62</title>\n",
       "<path fill=\"none\" stroke=\"black\" d=\"M1117.63,-171C1117.63,-171 1018.12,-171 1018.12,-171 1012.12,-171 1006.12,-165 1006.12,-159 1006.12,-159 1006.12,-119 1006.12,-119 1006.12,-113 1012.12,-107 1018.12,-107 1018.12,-107 1117.63,-107 1117.63,-107 1123.63,-107 1129.63,-113 1129.63,-119 1129.63,-119 1129.63,-159 1129.63,-159 1129.63,-165 1123.63,-171 1117.63,-171\"/>\n",
       "<text text-anchor=\"start\" x=\"1039.27\" y=\"-155.8\" font-family=\"Helvetica,sans-Serif\" font-size=\"14.00\">gini = 0.5</text>\n",
       "<text text-anchor=\"start\" x=\"1029.94\" y=\"-141.8\" font-family=\"Helvetica,sans-Serif\" font-size=\"14.00\">samples = 2</text>\n",
       "<text text-anchor=\"start\" x=\"1019.82\" y=\"-127.8\" font-family=\"Helvetica,sans-Serif\" font-size=\"14.00\">value = [0, 1, 1]</text>\n",
       "<text text-anchor=\"start\" x=\"1014\" y=\"-113.8\" font-family=\"Helvetica,sans-Serif\" font-size=\"14.00\">class = versicolor</text>\n",
       "</g>\n",
       "<!-- 61&#45;&gt;62 -->\n",
       "<g id=\"edge62\" class=\"edge\"><title>61&#45;&gt;62</title>\n",
       "<path fill=\"none\" stroke=\"black\" d=\"M1151.53,-213.769C1138.31,-202.115 1123.8,-189.315 1110.62,-177.697\"/>\n",
       "<polygon fill=\"black\" stroke=\"black\" points=\"1112.86,-174.999 1103.04,-171.01 1108.23,-180.249 1112.86,-174.999\"/>\n",
       "</g>\n",
       "<!-- 63 -->\n",
       "<g id=\"node64\" class=\"node\"><title>63</title>\n",
       "<path fill=\"#8139e5\" stroke=\"black\" d=\"M1250.58,-171C1250.58,-171 1159.17,-171 1159.17,-171 1153.17,-171 1147.17,-165 1147.17,-159 1147.17,-159 1147.17,-119 1147.17,-119 1147.17,-113 1153.17,-107 1159.17,-107 1159.17,-107 1250.58,-107 1250.58,-107 1256.58,-107 1262.58,-113 1262.58,-119 1262.58,-119 1262.58,-159 1262.58,-159 1262.58,-165 1256.58,-171 1250.58,-171\"/>\n",
       "<text text-anchor=\"start\" x=\"1176.27\" y=\"-155.8\" font-family=\"Helvetica,sans-Serif\" font-size=\"14.00\">gini = 0.0</text>\n",
       "<text text-anchor=\"start\" x=\"1166.94\" y=\"-141.8\" font-family=\"Helvetica,sans-Serif\" font-size=\"14.00\">samples = 6</text>\n",
       "<text text-anchor=\"start\" x=\"1156.82\" y=\"-127.8\" font-family=\"Helvetica,sans-Serif\" font-size=\"14.00\">value = [0, 0, 6]</text>\n",
       "<text text-anchor=\"start\" x=\"1155.28\" y=\"-113.8\" font-family=\"Helvetica,sans-Serif\" font-size=\"14.00\">class = virginica</text>\n",
       "</g>\n",
       "<!-- 61&#45;&gt;63 -->\n",
       "<g id=\"edge63\" class=\"edge\"><title>61&#45;&gt;63</title>\n",
       "<path fill=\"none\" stroke=\"black\" d=\"M1198.29,-213.769C1199.23,-203.204 1200.26,-191.698 1201.22,-180.983\"/>\n",
       "<polygon fill=\"black\" stroke=\"black\" points=\"1204.71,-181.282 1202.11,-171.01 1197.73,-180.659 1204.71,-181.282\"/>\n",
       "</g>\n",
       "<!-- 65 -->\n",
       "<g id=\"node66\" class=\"node\"><title>65</title>\n",
       "<path fill=\"#39e581\" stroke=\"black\" d=\"M1411.63,-171C1411.63,-171 1312.12,-171 1312.12,-171 1306.12,-171 1300.12,-165 1300.12,-159 1300.12,-159 1300.12,-119 1300.12,-119 1300.12,-113 1306.12,-107 1312.12,-107 1312.12,-107 1411.63,-107 1411.63,-107 1417.63,-107 1423.63,-113 1423.63,-119 1423.63,-119 1423.63,-159 1423.63,-159 1423.63,-165 1417.63,-171 1411.63,-171\"/>\n",
       "<text text-anchor=\"start\" x=\"1333.27\" y=\"-155.8\" font-family=\"Helvetica,sans-Serif\" font-size=\"14.00\">gini = 0.0</text>\n",
       "<text text-anchor=\"start\" x=\"1323.94\" y=\"-141.8\" font-family=\"Helvetica,sans-Serif\" font-size=\"14.00\">samples = 1</text>\n",
       "<text text-anchor=\"start\" x=\"1313.82\" y=\"-127.8\" font-family=\"Helvetica,sans-Serif\" font-size=\"14.00\">value = [0, 1, 0]</text>\n",
       "<text text-anchor=\"start\" x=\"1308\" y=\"-113.8\" font-family=\"Helvetica,sans-Serif\" font-size=\"14.00\">class = versicolor</text>\n",
       "</g>\n",
       "<!-- 64&#45;&gt;65 -->\n",
       "<g id=\"edge65\" class=\"edge\"><title>64&#45;&gt;65</title>\n",
       "<path fill=\"none\" stroke=\"black\" d=\"M1368.46,-213.769C1367.52,-203.204 1366.49,-191.698 1365.54,-180.983\"/>\n",
       "<polygon fill=\"black\" stroke=\"black\" points=\"1369.02,-180.659 1364.65,-171.01 1362.05,-181.282 1369.02,-180.659\"/>\n",
       "</g>\n",
       "<!-- 66 -->\n",
       "<g id=\"node67\" class=\"node\"><title>66</title>\n",
       "<path fill=\"none\" stroke=\"black\" d=\"M1595.97,-178C1595.97,-178 1453.79,-178 1453.79,-178 1447.79,-178 1441.79,-172 1441.79,-166 1441.79,-166 1441.79,-112 1441.79,-112 1441.79,-106 1447.79,-100 1453.79,-100 1453.79,-100 1595.97,-100 1595.97,-100 1601.97,-100 1607.97,-106 1607.97,-112 1607.97,-112 1607.97,-166 1607.97,-166 1607.97,-172 1601.97,-178 1595.97,-178\"/>\n",
       "<text text-anchor=\"start\" x=\"1449.83\" y=\"-162.8\" font-family=\"Helvetica,sans-Serif\" font-size=\"14.00\">sepal length (cm) ≤ 6.35</text>\n",
       "<text text-anchor=\"start\" x=\"1496.27\" y=\"-148.8\" font-family=\"Helvetica,sans-Serif\" font-size=\"14.00\">gini = 0.5</text>\n",
       "<text text-anchor=\"start\" x=\"1486.94\" y=\"-134.8\" font-family=\"Helvetica,sans-Serif\" font-size=\"14.00\">samples = 2</text>\n",
       "<text text-anchor=\"start\" x=\"1476.82\" y=\"-120.8\" font-family=\"Helvetica,sans-Serif\" font-size=\"14.00\">value = [0, 1, 1]</text>\n",
       "<text text-anchor=\"start\" x=\"1471\" y=\"-106.8\" font-family=\"Helvetica,sans-Serif\" font-size=\"14.00\">class = versicolor</text>\n",
       "</g>\n",
       "<!-- 64&#45;&gt;66 -->\n",
       "<g id=\"edge66\" class=\"edge\"><title>64&#45;&gt;66</title>\n",
       "<path fill=\"none\" stroke=\"black\" d=\"M1424.1,-213.769C1437.15,-204.218 1451.25,-193.898 1464.65,-184.089\"/>\n",
       "<polygon fill=\"black\" stroke=\"black\" points=\"1466.89,-186.789 1472.89,-178.058 1462.75,-181.141 1466.89,-186.789\"/>\n",
       "</g>\n",
       "<!-- 67 -->\n",
       "<g id=\"node68\" class=\"node\"><title>67</title>\n",
       "<path fill=\"#8139e5\" stroke=\"black\" d=\"M1447.58,-64C1447.58,-64 1356.17,-64 1356.17,-64 1350.17,-64 1344.17,-58 1344.17,-52 1344.17,-52 1344.17,-12 1344.17,-12 1344.17,-6 1350.17,-0 1356.17,-0 1356.17,-0 1447.58,-0 1447.58,-0 1453.58,-0 1459.58,-6 1459.58,-12 1459.58,-12 1459.58,-52 1459.58,-52 1459.58,-58 1453.58,-64 1447.58,-64\"/>\n",
       "<text text-anchor=\"start\" x=\"1373.27\" y=\"-48.8\" font-family=\"Helvetica,sans-Serif\" font-size=\"14.00\">gini = 0.0</text>\n",
       "<text text-anchor=\"start\" x=\"1363.94\" y=\"-34.8\" font-family=\"Helvetica,sans-Serif\" font-size=\"14.00\">samples = 1</text>\n",
       "<text text-anchor=\"start\" x=\"1353.82\" y=\"-20.8\" font-family=\"Helvetica,sans-Serif\" font-size=\"14.00\">value = [0, 0, 1]</text>\n",
       "<text text-anchor=\"start\" x=\"1352.28\" y=\"-6.8\" font-family=\"Helvetica,sans-Serif\" font-size=\"14.00\">class = virginica</text>\n",
       "</g>\n",
       "<!-- 66&#45;&gt;67 -->\n",
       "<g id=\"edge67\" class=\"edge\"><title>66&#45;&gt;67</title>\n",
       "<path fill=\"none\" stroke=\"black\" d=\"M1480.12,-99.7956C1469.07,-90.3587 1457.23,-80.2547 1446.2,-70.8355\"/>\n",
       "<polygon fill=\"black\" stroke=\"black\" points=\"1448.21,-67.9478 1438.33,-64.1172 1443.66,-73.2718 1448.21,-67.9478\"/>\n",
       "</g>\n",
       "<!-- 68 -->\n",
       "<g id=\"node69\" class=\"node\"><title>68</title>\n",
       "<path fill=\"#39e581\" stroke=\"black\" d=\"M1588.63,-64C1588.63,-64 1489.12,-64 1489.12,-64 1483.12,-64 1477.12,-58 1477.12,-52 1477.12,-52 1477.12,-12 1477.12,-12 1477.12,-6 1483.12,-0 1489.12,-0 1489.12,-0 1588.63,-0 1588.63,-0 1594.63,-0 1600.63,-6 1600.63,-12 1600.63,-12 1600.63,-52 1600.63,-52 1600.63,-58 1594.63,-64 1588.63,-64\"/>\n",
       "<text text-anchor=\"start\" x=\"1510.27\" y=\"-48.8\" font-family=\"Helvetica,sans-Serif\" font-size=\"14.00\">gini = 0.0</text>\n",
       "<text text-anchor=\"start\" x=\"1500.94\" y=\"-34.8\" font-family=\"Helvetica,sans-Serif\" font-size=\"14.00\">samples = 1</text>\n",
       "<text text-anchor=\"start\" x=\"1490.82\" y=\"-20.8\" font-family=\"Helvetica,sans-Serif\" font-size=\"14.00\">value = [0, 1, 0]</text>\n",
       "<text text-anchor=\"start\" x=\"1485\" y=\"-6.8\" font-family=\"Helvetica,sans-Serif\" font-size=\"14.00\">class = versicolor</text>\n",
       "</g>\n",
       "<!-- 66&#45;&gt;68 -->\n",
       "<g id=\"edge68\" class=\"edge\"><title>66&#45;&gt;68</title>\n",
       "<path fill=\"none\" stroke=\"black\" d=\"M1529.97,-99.7956C1531.08,-91.4581 1532.26,-82.6 1533.39,-74.1534\"/>\n",
       "<polygon fill=\"black\" stroke=\"black\" points=\"1536.88,-74.4921 1534.73,-64.1172 1529.94,-73.5668 1536.88,-74.4921\"/>\n",
       "</g>\n",
       "<!-- 72 -->\n",
       "<g id=\"node73\" class=\"node\"><title>72</title>\n",
       "<path fill=\"#39e581\" stroke=\"black\" d=\"M1835.63,-513C1835.63,-513 1736.12,-513 1736.12,-513 1730.12,-513 1724.12,-507 1724.12,-501 1724.12,-501 1724.12,-461 1724.12,-461 1724.12,-455 1730.12,-449 1736.12,-449 1736.12,-449 1835.63,-449 1835.63,-449 1841.63,-449 1847.63,-455 1847.63,-461 1847.63,-461 1847.63,-501 1847.63,-501 1847.63,-507 1841.63,-513 1835.63,-513\"/>\n",
       "<text text-anchor=\"start\" x=\"1757.27\" y=\"-497.8\" font-family=\"Helvetica,sans-Serif\" font-size=\"14.00\">gini = 0.0</text>\n",
       "<text text-anchor=\"start\" x=\"1747.94\" y=\"-483.8\" font-family=\"Helvetica,sans-Serif\" font-size=\"14.00\">samples = 2</text>\n",
       "<text text-anchor=\"start\" x=\"1737.82\" y=\"-469.8\" font-family=\"Helvetica,sans-Serif\" font-size=\"14.00\">value = [0, 2, 0]</text>\n",
       "<text text-anchor=\"start\" x=\"1732\" y=\"-455.8\" font-family=\"Helvetica,sans-Serif\" font-size=\"14.00\">class = versicolor</text>\n",
       "</g>\n",
       "<!-- 71&#45;&gt;72 -->\n",
       "<g id=\"edge72\" class=\"edge\"><title>71&#45;&gt;72</title>\n",
       "<path fill=\"none\" stroke=\"black\" d=\"M1800.37,-555.769C1798.29,-545.204 1796.03,-533.698 1793.93,-522.983\"/>\n",
       "<polygon fill=\"black\" stroke=\"black\" points=\"1797.33,-522.148 1791.97,-513.01 1790.46,-523.497 1797.33,-522.148\"/>\n",
       "</g>\n",
       "<!-- 73 -->\n",
       "<g id=\"node74\" class=\"node\"><title>73</title>\n",
       "<path fill=\"#8139e5\" fill-opacity=\"0.164706\" stroke=\"black\" d=\"M2014.01,-520C2014.01,-520 1877.75,-520 1877.75,-520 1871.75,-520 1865.75,-514 1865.75,-508 1865.75,-508 1865.75,-454 1865.75,-454 1865.75,-448 1871.75,-442 1877.75,-442 1877.75,-442 2014.01,-442 2014.01,-442 2020.01,-442 2026.01,-448 2026.01,-454 2026.01,-454 2026.01,-508 2026.01,-508 2026.01,-514 2020.01,-520 2014.01,-520\"/>\n",
       "<text text-anchor=\"start\" x=\"1873.56\" y=\"-504.8\" font-family=\"Helvetica,sans-Serif\" font-size=\"14.00\">sepal width (cm) ≤ 2.65</text>\n",
       "<text text-anchor=\"start\" x=\"1909.49\" y=\"-490.8\" font-family=\"Helvetica,sans-Serif\" font-size=\"14.00\">gini = 0.496</text>\n",
       "<text text-anchor=\"start\" x=\"1904.56\" y=\"-476.8\" font-family=\"Helvetica,sans-Serif\" font-size=\"14.00\">samples = 11</text>\n",
       "<text text-anchor=\"start\" x=\"1897.82\" y=\"-462.8\" font-family=\"Helvetica,sans-Serif\" font-size=\"14.00\">value = [0, 5, 6]</text>\n",
       "<text text-anchor=\"start\" x=\"1896.28\" y=\"-448.8\" font-family=\"Helvetica,sans-Serif\" font-size=\"14.00\">class = virginica</text>\n",
       "</g>\n",
       "<!-- 71&#45;&gt;73 -->\n",
       "<g id=\"edge73\" class=\"edge\"><title>71&#45;&gt;73</title>\n",
       "<path fill=\"none\" stroke=\"black\" d=\"M1854.98,-555.769C1866.64,-546.308 1879.23,-536.092 1891.21,-526.366\"/>\n",
       "<polygon fill=\"black\" stroke=\"black\" points=\"1893.42,-529.078 1898.98,-520.058 1889.01,-523.643 1893.42,-529.078\"/>\n",
       "</g>\n",
       "<!-- 74 -->\n",
       "<g id=\"node75\" class=\"node\"><title>74</title>\n",
       "<path fill=\"#8139e5\" stroke=\"black\" d=\"M1845.58,-399C1845.58,-399 1754.17,-399 1754.17,-399 1748.17,-399 1742.17,-393 1742.17,-387 1742.17,-387 1742.17,-347 1742.17,-347 1742.17,-341 1748.17,-335 1754.17,-335 1754.17,-335 1845.58,-335 1845.58,-335 1851.58,-335 1857.58,-341 1857.58,-347 1857.58,-347 1857.58,-387 1857.58,-387 1857.58,-393 1851.58,-399 1845.58,-399\"/>\n",
       "<text text-anchor=\"start\" x=\"1771.27\" y=\"-383.8\" font-family=\"Helvetica,sans-Serif\" font-size=\"14.00\">gini = 0.0</text>\n",
       "<text text-anchor=\"start\" x=\"1761.94\" y=\"-369.8\" font-family=\"Helvetica,sans-Serif\" font-size=\"14.00\">samples = 1</text>\n",
       "<text text-anchor=\"start\" x=\"1751.82\" y=\"-355.8\" font-family=\"Helvetica,sans-Serif\" font-size=\"14.00\">value = [0, 0, 1]</text>\n",
       "<text text-anchor=\"start\" x=\"1750.28\" y=\"-341.8\" font-family=\"Helvetica,sans-Serif\" font-size=\"14.00\">class = virginica</text>\n",
       "</g>\n",
       "<!-- 73&#45;&gt;74 -->\n",
       "<g id=\"edge74\" class=\"edge\"><title>73&#45;&gt;74</title>\n",
       "<path fill=\"none\" stroke=\"black\" d=\"M1896.04,-441.769C1880.71,-430.006 1863.85,-417.076 1848.59,-405.371\"/>\n",
       "<polygon fill=\"black\" stroke=\"black\" points=\"1850.37,-402.32 1840.3,-399.01 1846.11,-407.874 1850.37,-402.32\"/>\n",
       "</g>\n",
       "<!-- 75 -->\n",
       "<g id=\"node76\" class=\"node\"><title>75</title>\n",
       "<path fill=\"none\" stroke=\"black\" d=\"M2016.22,-406C2016.22,-406 1887.54,-406 1887.54,-406 1881.54,-406 1875.54,-400 1875.54,-394 1875.54,-394 1875.54,-340 1875.54,-340 1875.54,-334 1881.54,-328 1887.54,-328 1887.54,-328 2016.22,-328 2016.22,-328 2022.22,-328 2028.22,-334 2028.22,-340 2028.22,-340 2028.22,-394 2028.22,-394 2028.22,-400 2022.22,-406 2016.22,-406\"/>\n",
       "<text text-anchor=\"start\" x=\"1883.46\" y=\"-390.8\" font-family=\"Helvetica,sans-Serif\" font-size=\"14.00\">sepal width (cm) ≤ 2.9</text>\n",
       "<text text-anchor=\"start\" x=\"1923.27\" y=\"-376.8\" font-family=\"Helvetica,sans-Serif\" font-size=\"14.00\">gini = 0.5</text>\n",
       "<text text-anchor=\"start\" x=\"1910.05\" y=\"-362.8\" font-family=\"Helvetica,sans-Serif\" font-size=\"14.00\">samples = 10</text>\n",
       "<text text-anchor=\"start\" x=\"1903.82\" y=\"-348.8\" font-family=\"Helvetica,sans-Serif\" font-size=\"14.00\">value = [0, 5, 5]</text>\n",
       "<text text-anchor=\"start\" x=\"1898\" y=\"-334.8\" font-family=\"Helvetica,sans-Serif\" font-size=\"14.00\">class = versicolor</text>\n",
       "</g>\n",
       "<!-- 73&#45;&gt;75 -->\n",
       "<g id=\"edge75\" class=\"edge\"><title>73&#45;&gt;75</title>\n",
       "<path fill=\"none\" stroke=\"black\" d=\"M1947.93,-441.769C1948.36,-433.57 1948.83,-424.803 1949.29,-416.28\"/>\n",
       "<polygon fill=\"black\" stroke=\"black\" points=\"1952.8,-416.231 1949.84,-406.058 1945.81,-415.857 1952.8,-416.231\"/>\n",
       "</g>\n",
       "<!-- 76 -->\n",
       "<g id=\"node77\" class=\"node\"><title>76</title>\n",
       "<path fill=\"#39e581\" stroke=\"black\" d=\"M1884.63,-285C1884.63,-285 1785.12,-285 1785.12,-285 1779.12,-285 1773.12,-279 1773.12,-273 1773.12,-273 1773.12,-233 1773.12,-233 1773.12,-227 1779.12,-221 1785.12,-221 1785.12,-221 1884.63,-221 1884.63,-221 1890.63,-221 1896.63,-227 1896.63,-233 1896.63,-233 1896.63,-273 1896.63,-273 1896.63,-279 1890.63,-285 1884.63,-285\"/>\n",
       "<text text-anchor=\"start\" x=\"1806.27\" y=\"-269.8\" font-family=\"Helvetica,sans-Serif\" font-size=\"14.00\">gini = 0.0</text>\n",
       "<text text-anchor=\"start\" x=\"1796.94\" y=\"-255.8\" font-family=\"Helvetica,sans-Serif\" font-size=\"14.00\">samples = 1</text>\n",
       "<text text-anchor=\"start\" x=\"1786.82\" y=\"-241.8\" font-family=\"Helvetica,sans-Serif\" font-size=\"14.00\">value = [0, 1, 0]</text>\n",
       "<text text-anchor=\"start\" x=\"1781\" y=\"-227.8\" font-family=\"Helvetica,sans-Serif\" font-size=\"14.00\">class = versicolor</text>\n",
       "</g>\n",
       "<!-- 75&#45;&gt;76 -->\n",
       "<g id=\"edge76\" class=\"edge\"><title>75&#45;&gt;76</title>\n",
       "<path fill=\"none\" stroke=\"black\" d=\"M1911.94,-327.769C1899.88,-316.224 1886.64,-303.555 1874.6,-292.023\"/>\n",
       "<polygon fill=\"black\" stroke=\"black\" points=\"1876.92,-289.397 1867.27,-285.01 1872.08,-294.453 1876.92,-289.397\"/>\n",
       "</g>\n",
       "<!-- 77 -->\n",
       "<g id=\"node78\" class=\"node\"><title>77</title>\n",
       "<path fill=\"#8139e5\" fill-opacity=\"0.200000\" stroke=\"black\" d=\"M2068.97,-292C2068.97,-292 1926.79,-292 1926.79,-292 1920.79,-292 1914.79,-286 1914.79,-280 1914.79,-280 1914.79,-226 1914.79,-226 1914.79,-220 1920.79,-214 1926.79,-214 1926.79,-214 2068.97,-214 2068.97,-214 2074.97,-214 2080.97,-220 2080.97,-226 2080.97,-226 2080.97,-280 2080.97,-280 2080.97,-286 2074.97,-292 2068.97,-292\"/>\n",
       "<text text-anchor=\"start\" x=\"1922.83\" y=\"-276.8\" font-family=\"Helvetica,sans-Serif\" font-size=\"14.00\">sepal length (cm) ≤ 6.75</text>\n",
       "<text text-anchor=\"start\" x=\"1961.49\" y=\"-262.8\" font-family=\"Helvetica,sans-Serif\" font-size=\"14.00\">gini = 0.494</text>\n",
       "<text text-anchor=\"start\" x=\"1959.94\" y=\"-248.8\" font-family=\"Helvetica,sans-Serif\" font-size=\"14.00\">samples = 9</text>\n",
       "<text text-anchor=\"start\" x=\"1949.82\" y=\"-234.8\" font-family=\"Helvetica,sans-Serif\" font-size=\"14.00\">value = [0, 4, 5]</text>\n",
       "<text text-anchor=\"start\" x=\"1948.28\" y=\"-220.8\" font-family=\"Helvetica,sans-Serif\" font-size=\"14.00\">class = virginica</text>\n",
       "</g>\n",
       "<!-- 75&#45;&gt;77 -->\n",
       "<g id=\"edge77\" class=\"edge\"><title>75&#45;&gt;77</title>\n",
       "<path fill=\"none\" stroke=\"black\" d=\"M1967.58,-327.769C1971.06,-319.299 1974.79,-310.225 1978.39,-301.438\"/>\n",
       "<polygon fill=\"black\" stroke=\"black\" points=\"1981.68,-302.638 1982.25,-292.058 1975.21,-299.979 1981.68,-302.638\"/>\n",
       "</g>\n",
       "<!-- 78 -->\n",
       "<g id=\"node79\" class=\"node\"><title>78</title>\n",
       "<path fill=\"#39e581\" fill-opacity=\"0.333333\" stroke=\"black\" d=\"M1908.01,-178C1908.01,-178 1771.75,-178 1771.75,-178 1765.75,-178 1759.75,-172 1759.75,-166 1759.75,-166 1759.75,-112 1759.75,-112 1759.75,-106 1765.75,-100 1771.75,-100 1771.75,-100 1908.01,-100 1908.01,-100 1914.01,-100 1920.01,-106 1920.01,-112 1920.01,-112 1920.01,-166 1920.01,-166 1920.01,-172 1914.01,-178 1908.01,-178\"/>\n",
       "<text text-anchor=\"start\" x=\"1767.56\" y=\"-162.8\" font-family=\"Helvetica,sans-Serif\" font-size=\"14.00\">sepal width (cm) ≤ 3.05</text>\n",
       "<text text-anchor=\"start\" x=\"1807.38\" y=\"-148.8\" font-family=\"Helvetica,sans-Serif\" font-size=\"14.00\">gini = 0.48</text>\n",
       "<text text-anchor=\"start\" x=\"1801.94\" y=\"-134.8\" font-family=\"Helvetica,sans-Serif\" font-size=\"14.00\">samples = 5</text>\n",
       "<text text-anchor=\"start\" x=\"1791.82\" y=\"-120.8\" font-family=\"Helvetica,sans-Serif\" font-size=\"14.00\">value = [0, 3, 2]</text>\n",
       "<text text-anchor=\"start\" x=\"1786\" y=\"-106.8\" font-family=\"Helvetica,sans-Serif\" font-size=\"14.00\">class = versicolor</text>\n",
       "</g>\n",
       "<!-- 77&#45;&gt;78 -->\n",
       "<g id=\"edge78\" class=\"edge\"><title>77&#45;&gt;78</title>\n",
       "<path fill=\"none\" stroke=\"black\" d=\"M1943.94,-213.769C1930.47,-204.218 1915.91,-193.898 1902.07,-184.089\"/>\n",
       "<polygon fill=\"black\" stroke=\"black\" points=\"1903.75,-180.986 1893.57,-178.058 1899.7,-186.697 1903.75,-180.986\"/>\n",
       "</g>\n",
       "<!-- 81 -->\n",
       "<g id=\"node82\" class=\"node\"><title>81</title>\n",
       "<path fill=\"#8139e5\" fill-opacity=\"0.666667\" stroke=\"black\" d=\"M2091.97,-178C2091.97,-178 1949.79,-178 1949.79,-178 1943.79,-178 1937.79,-172 1937.79,-166 1937.79,-166 1937.79,-112 1937.79,-112 1937.79,-106 1943.79,-100 1949.79,-100 1949.79,-100 2091.97,-100 2091.97,-100 2097.97,-100 2103.97,-106 2103.97,-112 2103.97,-112 2103.97,-166 2103.97,-166 2103.97,-172 2097.97,-178 2091.97,-178\"/>\n",
       "<text text-anchor=\"start\" x=\"1945.83\" y=\"-162.8\" font-family=\"Helvetica,sans-Serif\" font-size=\"14.00\">sepal length (cm) ≤ 6.85</text>\n",
       "<text text-anchor=\"start\" x=\"1984.49\" y=\"-148.8\" font-family=\"Helvetica,sans-Serif\" font-size=\"14.00\">gini = 0.375</text>\n",
       "<text text-anchor=\"start\" x=\"1982.94\" y=\"-134.8\" font-family=\"Helvetica,sans-Serif\" font-size=\"14.00\">samples = 4</text>\n",
       "<text text-anchor=\"start\" x=\"1972.82\" y=\"-120.8\" font-family=\"Helvetica,sans-Serif\" font-size=\"14.00\">value = [0, 1, 3]</text>\n",
       "<text text-anchor=\"start\" x=\"1971.28\" y=\"-106.8\" font-family=\"Helvetica,sans-Serif\" font-size=\"14.00\">class = virginica</text>\n",
       "</g>\n",
       "<!-- 77&#45;&gt;81 -->\n",
       "<g id=\"edge81\" class=\"edge\"><title>77&#45;&gt;81</title>\n",
       "<path fill=\"none\" stroke=\"black\" d=\"M2005.73,-213.769C2007.43,-205.48 2009.25,-196.61 2011.02,-187.999\"/>\n",
       "<polygon fill=\"black\" stroke=\"black\" points=\"2014.48,-188.558 2013.06,-178.058 2007.62,-187.15 2014.48,-188.558\"/>\n",
       "</g>\n",
       "<!-- 79 -->\n",
       "<g id=\"node80\" class=\"node\"><title>79</title>\n",
       "<path fill=\"none\" stroke=\"black\" d=\"M1758.63,-64C1758.63,-64 1659.12,-64 1659.12,-64 1653.12,-64 1647.12,-58 1647.12,-52 1647.12,-52 1647.12,-12 1647.12,-12 1647.12,-6 1653.12,-0 1659.12,-0 1659.12,-0 1758.63,-0 1758.63,-0 1764.63,-0 1770.63,-6 1770.63,-12 1770.63,-12 1770.63,-52 1770.63,-52 1770.63,-58 1764.63,-64 1758.63,-64\"/>\n",
       "<text text-anchor=\"start\" x=\"1680.27\" y=\"-48.8\" font-family=\"Helvetica,sans-Serif\" font-size=\"14.00\">gini = 0.5</text>\n",
       "<text text-anchor=\"start\" x=\"1670.94\" y=\"-34.8\" font-family=\"Helvetica,sans-Serif\" font-size=\"14.00\">samples = 2</text>\n",
       "<text text-anchor=\"start\" x=\"1660.82\" y=\"-20.8\" font-family=\"Helvetica,sans-Serif\" font-size=\"14.00\">value = [0, 1, 1]</text>\n",
       "<text text-anchor=\"start\" x=\"1655\" y=\"-6.8\" font-family=\"Helvetica,sans-Serif\" font-size=\"14.00\">class = versicolor</text>\n",
       "</g>\n",
       "<!-- 78&#45;&gt;79 -->\n",
       "<g id=\"edge79\" class=\"edge\"><title>78&#45;&gt;79</title>\n",
       "<path fill=\"none\" stroke=\"black\" d=\"M1792.21,-99.7956C1780.32,-90.2671 1767.59,-80.0585 1755.74,-70.5614\"/>\n",
       "<polygon fill=\"black\" stroke=\"black\" points=\"1757.69,-67.6404 1747.7,-64.1172 1753.31,-73.1024 1757.69,-67.6404\"/>\n",
       "</g>\n",
       "<!-- 80 -->\n",
       "<g id=\"node81\" class=\"node\"><title>80</title>\n",
       "<path fill=\"#39e581\" fill-opacity=\"0.498039\" stroke=\"black\" d=\"M1900.63,-64C1900.63,-64 1801.12,-64 1801.12,-64 1795.12,-64 1789.12,-58 1789.12,-52 1789.12,-52 1789.12,-12 1789.12,-12 1789.12,-6 1795.12,-0 1801.12,-0 1801.12,-0 1900.63,-0 1900.63,-0 1906.63,-0 1912.63,-6 1912.63,-12 1912.63,-12 1912.63,-52 1912.63,-52 1912.63,-58 1906.63,-64 1900.63,-64\"/>\n",
       "<text text-anchor=\"start\" x=\"1814.49\" y=\"-48.8\" font-family=\"Helvetica,sans-Serif\" font-size=\"14.00\">gini = 0.444</text>\n",
       "<text text-anchor=\"start\" x=\"1812.94\" y=\"-34.8\" font-family=\"Helvetica,sans-Serif\" font-size=\"14.00\">samples = 3</text>\n",
       "<text text-anchor=\"start\" x=\"1802.82\" y=\"-20.8\" font-family=\"Helvetica,sans-Serif\" font-size=\"14.00\">value = [0, 2, 1]</text>\n",
       "<text text-anchor=\"start\" x=\"1797\" y=\"-6.8\" font-family=\"Helvetica,sans-Serif\" font-size=\"14.00\">class = versicolor</text>\n",
       "</g>\n",
       "<!-- 78&#45;&gt;80 -->\n",
       "<g id=\"edge80\" class=\"edge\"><title>78&#45;&gt;80</title>\n",
       "<path fill=\"none\" stroke=\"black\" d=\"M1843.88,-99.7956C1844.75,-91.4581 1845.68,-82.6 1846.57,-74.1534\"/>\n",
       "<polygon fill=\"black\" stroke=\"black\" points=\"1850.06,-74.4274 1847.62,-64.1172 1843.09,-73.698 1850.06,-74.4274\"/>\n",
       "</g>\n",
       "<!-- 82 -->\n",
       "<g id=\"node83\" class=\"node\"><title>82</title>\n",
       "<path fill=\"#8139e5\" stroke=\"black\" d=\"M2055.58,-64C2055.58,-64 1964.17,-64 1964.17,-64 1958.17,-64 1952.17,-58 1952.17,-52 1952.17,-52 1952.17,-12 1952.17,-12 1952.17,-6 1958.17,-0 1964.17,-0 1964.17,-0 2055.58,-0 2055.58,-0 2061.58,-0 2067.58,-6 2067.58,-12 2067.58,-12 2067.58,-52 2067.58,-52 2067.58,-58 2061.58,-64 2055.58,-64\"/>\n",
       "<text text-anchor=\"start\" x=\"1981.27\" y=\"-48.8\" font-family=\"Helvetica,sans-Serif\" font-size=\"14.00\">gini = 0.0</text>\n",
       "<text text-anchor=\"start\" x=\"1971.94\" y=\"-34.8\" font-family=\"Helvetica,sans-Serif\" font-size=\"14.00\">samples = 1</text>\n",
       "<text text-anchor=\"start\" x=\"1961.82\" y=\"-20.8\" font-family=\"Helvetica,sans-Serif\" font-size=\"14.00\">value = [0, 0, 1]</text>\n",
       "<text text-anchor=\"start\" x=\"1960.28\" y=\"-6.8\" font-family=\"Helvetica,sans-Serif\" font-size=\"14.00\">class = virginica</text>\n",
       "</g>\n",
       "<!-- 81&#45;&gt;82 -->\n",
       "<g id=\"edge82\" class=\"edge\"><title>81&#45;&gt;82</title>\n",
       "<path fill=\"none\" stroke=\"black\" d=\"M2016.88,-99.7956C2016,-91.4581 2015.07,-82.6 2014.19,-74.1534\"/>\n",
       "<polygon fill=\"black\" stroke=\"black\" points=\"2017.66,-73.698 2013.14,-64.1172 2010.7,-74.4274 2017.66,-73.698\"/>\n",
       "</g>\n",
       "<!-- 83 -->\n",
       "<g id=\"node84\" class=\"node\"><title>83</title>\n",
       "<path fill=\"#8139e5\" fill-opacity=\"0.498039\" stroke=\"black\" d=\"M2188.58,-64C2188.58,-64 2097.17,-64 2097.17,-64 2091.17,-64 2085.17,-58 2085.17,-52 2085.17,-52 2085.17,-12 2085.17,-12 2085.17,-6 2091.17,-0 2097.17,-0 2097.17,-0 2188.58,-0 2188.58,-0 2194.58,-0 2200.58,-6 2200.58,-12 2200.58,-12 2200.58,-52 2200.58,-52 2200.58,-58 2194.58,-64 2188.58,-64\"/>\n",
       "<text text-anchor=\"start\" x=\"2106.49\" y=\"-48.8\" font-family=\"Helvetica,sans-Serif\" font-size=\"14.00\">gini = 0.444</text>\n",
       "<text text-anchor=\"start\" x=\"2104.94\" y=\"-34.8\" font-family=\"Helvetica,sans-Serif\" font-size=\"14.00\">samples = 3</text>\n",
       "<text text-anchor=\"start\" x=\"2094.82\" y=\"-20.8\" font-family=\"Helvetica,sans-Serif\" font-size=\"14.00\">value = [0, 1, 2]</text>\n",
       "<text text-anchor=\"start\" x=\"2093.28\" y=\"-6.8\" font-family=\"Helvetica,sans-Serif\" font-size=\"14.00\">class = virginica</text>\n",
       "</g>\n",
       "<!-- 81&#45;&gt;83 -->\n",
       "<g id=\"edge83\" class=\"edge\"><title>81&#45;&gt;83</title>\n",
       "<path fill=\"none\" stroke=\"black\" d=\"M2065.27,-99.7956C2076.23,-90.3587 2087.97,-80.2547 2098.92,-70.8355\"/>\n",
       "<polygon fill=\"black\" stroke=\"black\" points=\"2101.43,-73.2933 2106.72,-64.1172 2096.86,-67.9877 2101.43,-73.2933\"/>\n",
       "</g>\n",
       "<!-- 85 -->\n",
       "<g id=\"node86\" class=\"node\"><title>85</title>\n",
       "<path fill=\"#8139e5\" fill-opacity=\"0.498039\" stroke=\"black\" d=\"M2193.01,-634C2193.01,-634 2056.75,-634 2056.75,-634 2050.75,-634 2044.75,-628 2044.75,-622 2044.75,-622 2044.75,-568 2044.75,-568 2044.75,-562 2050.75,-556 2056.75,-556 2056.75,-556 2193.01,-556 2193.01,-556 2199.01,-556 2205.01,-562 2205.01,-568 2205.01,-568 2205.01,-622 2205.01,-622 2205.01,-628 2199.01,-634 2193.01,-634\"/>\n",
       "<text text-anchor=\"start\" x=\"2052.56\" y=\"-618.8\" font-family=\"Helvetica,sans-Serif\" font-size=\"14.00\">sepal width (cm) ≤ 3.35</text>\n",
       "<text text-anchor=\"start\" x=\"2088.49\" y=\"-604.8\" font-family=\"Helvetica,sans-Serif\" font-size=\"14.00\">gini = 0.444</text>\n",
       "<text text-anchor=\"start\" x=\"2086.94\" y=\"-590.8\" font-family=\"Helvetica,sans-Serif\" font-size=\"14.00\">samples = 6</text>\n",
       "<text text-anchor=\"start\" x=\"2076.82\" y=\"-576.8\" font-family=\"Helvetica,sans-Serif\" font-size=\"14.00\">value = [0, 2, 4]</text>\n",
       "<text text-anchor=\"start\" x=\"2075.28\" y=\"-562.8\" font-family=\"Helvetica,sans-Serif\" font-size=\"14.00\">class = virginica</text>\n",
       "</g>\n",
       "<!-- 84&#45;&gt;85 -->\n",
       "<g id=\"edge85\" class=\"edge\"><title>84&#45;&gt;85</title>\n",
       "<path fill=\"none\" stroke=\"black\" d=\"M2124.88,-669.769C2124.88,-661.57 2124.88,-652.803 2124.88,-644.28\"/>\n",
       "<polygon fill=\"black\" stroke=\"black\" points=\"2128.38,-644.058 2124.88,-634.058 2121.38,-644.059 2128.38,-644.058\"/>\n",
       "</g>\n",
       "<!-- 90 -->\n",
       "<g id=\"node91\" class=\"node\"><title>90</title>\n",
       "<path fill=\"#8139e5\" stroke=\"black\" d=\"M2326.58,-627C2326.58,-627 2235.17,-627 2235.17,-627 2229.17,-627 2223.17,-621 2223.17,-615 2223.17,-615 2223.17,-575 2223.17,-575 2223.17,-569 2229.17,-563 2235.17,-563 2235.17,-563 2326.58,-563 2326.58,-563 2332.58,-563 2338.58,-569 2338.58,-575 2338.58,-575 2338.58,-615 2338.58,-615 2338.58,-621 2332.58,-627 2326.58,-627\"/>\n",
       "<text text-anchor=\"start\" x=\"2252.27\" y=\"-611.8\" font-family=\"Helvetica,sans-Serif\" font-size=\"14.00\">gini = 0.0</text>\n",
       "<text text-anchor=\"start\" x=\"2242.94\" y=\"-597.8\" font-family=\"Helvetica,sans-Serif\" font-size=\"14.00\">samples = 5</text>\n",
       "<text text-anchor=\"start\" x=\"2232.82\" y=\"-583.8\" font-family=\"Helvetica,sans-Serif\" font-size=\"14.00\">value = [0, 0, 5]</text>\n",
       "<text text-anchor=\"start\" x=\"2231.28\" y=\"-569.8\" font-family=\"Helvetica,sans-Serif\" font-size=\"14.00\">class = virginica</text>\n",
       "</g>\n",
       "<!-- 84&#45;&gt;90 -->\n",
       "<g id=\"edge90\" class=\"edge\"><title>84&#45;&gt;90</title>\n",
       "<path fill=\"none\" stroke=\"black\" d=\"M2178.13,-669.769C2194.66,-657.897 2212.86,-644.837 2229.28,-633.047\"/>\n",
       "<polygon fill=\"black\" stroke=\"black\" points=\"2231.6,-635.685 2237.68,-627.01 2227.52,-629.999 2231.6,-635.685\"/>\n",
       "</g>\n",
       "<!-- 86 -->\n",
       "<g id=\"node87\" class=\"node\"><title>86</title>\n",
       "<path fill=\"none\" stroke=\"black\" d=\"M2193.01,-520C2193.01,-520 2056.75,-520 2056.75,-520 2050.75,-520 2044.75,-514 2044.75,-508 2044.75,-508 2044.75,-454 2044.75,-454 2044.75,-448 2050.75,-442 2056.75,-442 2056.75,-442 2193.01,-442 2193.01,-442 2199.01,-442 2205.01,-448 2205.01,-454 2205.01,-454 2205.01,-508 2205.01,-508 2205.01,-514 2199.01,-520 2193.01,-520\"/>\n",
       "<text text-anchor=\"start\" x=\"2052.56\" y=\"-504.8\" font-family=\"Helvetica,sans-Serif\" font-size=\"14.00\">sepal width (cm) ≤ 3.25</text>\n",
       "<text text-anchor=\"start\" x=\"2096.27\" y=\"-490.8\" font-family=\"Helvetica,sans-Serif\" font-size=\"14.00\">gini = 0.5</text>\n",
       "<text text-anchor=\"start\" x=\"2086.94\" y=\"-476.8\" font-family=\"Helvetica,sans-Serif\" font-size=\"14.00\">samples = 4</text>\n",
       "<text text-anchor=\"start\" x=\"2076.82\" y=\"-462.8\" font-family=\"Helvetica,sans-Serif\" font-size=\"14.00\">value = [0, 2, 2]</text>\n",
       "<text text-anchor=\"start\" x=\"2071\" y=\"-448.8\" font-family=\"Helvetica,sans-Serif\" font-size=\"14.00\">class = versicolor</text>\n",
       "</g>\n",
       "<!-- 85&#45;&gt;86 -->\n",
       "<g id=\"edge86\" class=\"edge\"><title>85&#45;&gt;86</title>\n",
       "<path fill=\"none\" stroke=\"black\" d=\"M2124.88,-555.769C2124.88,-547.57 2124.88,-538.803 2124.88,-530.28\"/>\n",
       "<polygon fill=\"black\" stroke=\"black\" points=\"2128.38,-530.058 2124.88,-520.058 2121.38,-530.059 2128.38,-530.058\"/>\n",
       "</g>\n",
       "<!-- 89 -->\n",
       "<g id=\"node90\" class=\"node\"><title>89</title>\n",
       "<path fill=\"#8139e5\" stroke=\"black\" d=\"M2326.58,-513C2326.58,-513 2235.17,-513 2235.17,-513 2229.17,-513 2223.17,-507 2223.17,-501 2223.17,-501 2223.17,-461 2223.17,-461 2223.17,-455 2229.17,-449 2235.17,-449 2235.17,-449 2326.58,-449 2326.58,-449 2332.58,-449 2338.58,-455 2338.58,-461 2338.58,-461 2338.58,-501 2338.58,-501 2338.58,-507 2332.58,-513 2326.58,-513\"/>\n",
       "<text text-anchor=\"start\" x=\"2252.27\" y=\"-497.8\" font-family=\"Helvetica,sans-Serif\" font-size=\"14.00\">gini = 0.0</text>\n",
       "<text text-anchor=\"start\" x=\"2242.94\" y=\"-483.8\" font-family=\"Helvetica,sans-Serif\" font-size=\"14.00\">samples = 2</text>\n",
       "<text text-anchor=\"start\" x=\"2232.82\" y=\"-469.8\" font-family=\"Helvetica,sans-Serif\" font-size=\"14.00\">value = [0, 0, 2]</text>\n",
       "<text text-anchor=\"start\" x=\"2231.28\" y=\"-455.8\" font-family=\"Helvetica,sans-Serif\" font-size=\"14.00\">class = virginica</text>\n",
       "</g>\n",
       "<!-- 85&#45;&gt;89 -->\n",
       "<g id=\"edge89\" class=\"edge\"><title>85&#45;&gt;89</title>\n",
       "<path fill=\"none\" stroke=\"black\" d=\"M2178.13,-555.769C2194.66,-543.897 2212.86,-530.837 2229.28,-519.047\"/>\n",
       "<polygon fill=\"black\" stroke=\"black\" points=\"2231.6,-521.685 2237.68,-513.01 2227.52,-515.999 2231.6,-521.685\"/>\n",
       "</g>\n",
       "<!-- 87 -->\n",
       "<g id=\"node88\" class=\"node\"><title>87</title>\n",
       "<path fill=\"none\" stroke=\"black\" d=\"M2168.63,-399C2168.63,-399 2069.12,-399 2069.12,-399 2063.12,-399 2057.12,-393 2057.12,-387 2057.12,-387 2057.12,-347 2057.12,-347 2057.12,-341 2063.12,-335 2069.12,-335 2069.12,-335 2168.63,-335 2168.63,-335 2174.63,-335 2180.63,-341 2180.63,-347 2180.63,-347 2180.63,-387 2180.63,-387 2180.63,-393 2174.63,-399 2168.63,-399\"/>\n",
       "<text text-anchor=\"start\" x=\"2090.27\" y=\"-383.8\" font-family=\"Helvetica,sans-Serif\" font-size=\"14.00\">gini = 0.5</text>\n",
       "<text text-anchor=\"start\" x=\"2080.94\" y=\"-369.8\" font-family=\"Helvetica,sans-Serif\" font-size=\"14.00\">samples = 2</text>\n",
       "<text text-anchor=\"start\" x=\"2070.82\" y=\"-355.8\" font-family=\"Helvetica,sans-Serif\" font-size=\"14.00\">value = [0, 1, 1]</text>\n",
       "<text text-anchor=\"start\" x=\"2065\" y=\"-341.8\" font-family=\"Helvetica,sans-Serif\" font-size=\"14.00\">class = versicolor</text>\n",
       "</g>\n",
       "<!-- 86&#45;&gt;87 -->\n",
       "<g id=\"edge87\" class=\"edge\"><title>86&#45;&gt;87</title>\n",
       "<path fill=\"none\" stroke=\"black\" d=\"M2122.83,-441.769C2122.27,-431.313 2121.66,-419.935 2121.09,-409.315\"/>\n",
       "<polygon fill=\"black\" stroke=\"black\" points=\"2124.57,-408.808 2120.54,-399.01 2117.58,-409.183 2124.57,-408.808\"/>\n",
       "</g>\n",
       "<!-- 88 -->\n",
       "<g id=\"node89\" class=\"node\"><title>88</title>\n",
       "<path fill=\"none\" stroke=\"black\" d=\"M2310.63,-399C2310.63,-399 2211.12,-399 2211.12,-399 2205.12,-399 2199.12,-393 2199.12,-387 2199.12,-387 2199.12,-347 2199.12,-347 2199.12,-341 2205.12,-335 2211.12,-335 2211.12,-335 2310.63,-335 2310.63,-335 2316.63,-335 2322.63,-341 2322.63,-347 2322.63,-347 2322.63,-387 2322.63,-387 2322.63,-393 2316.63,-399 2310.63,-399\"/>\n",
       "<text text-anchor=\"start\" x=\"2232.27\" y=\"-383.8\" font-family=\"Helvetica,sans-Serif\" font-size=\"14.00\">gini = 0.5</text>\n",
       "<text text-anchor=\"start\" x=\"2222.94\" y=\"-369.8\" font-family=\"Helvetica,sans-Serif\" font-size=\"14.00\">samples = 2</text>\n",
       "<text text-anchor=\"start\" x=\"2212.82\" y=\"-355.8\" font-family=\"Helvetica,sans-Serif\" font-size=\"14.00\">value = [0, 1, 1]</text>\n",
       "<text text-anchor=\"start\" x=\"2207\" y=\"-341.8\" font-family=\"Helvetica,sans-Serif\" font-size=\"14.00\">class = versicolor</text>\n",
       "</g>\n",
       "<!-- 86&#45;&gt;88 -->\n",
       "<g id=\"edge88\" class=\"edge\"><title>86&#45;&gt;88</title>\n",
       "<path fill=\"none\" stroke=\"black\" d=\"M2171.3,-441.769C2185.58,-430.006 2201.29,-417.076 2215.5,-405.371\"/>\n",
       "<polygon fill=\"black\" stroke=\"black\" points=\"2217.73,-408.069 2223.22,-399.01 2213.28,-402.665 2217.73,-408.069\"/>\n",
       "</g>\n",
       "</g>\n",
       "</svg>\n"
      ],
      "text/plain": [
       "<graphviz.files.Source at 0x11f36d9e8>"
      ]
     },
     "execution_count": 13,
     "metadata": {},
     "output_type": "execute_result"
    }
   ],
   "source": [
    "plotting.plot_decision_tree(model)"
   ]
  },
  {
   "cell_type": "code",
   "execution_count": 14,
   "metadata": {
    "slideshow": {
     "slide_type": "subslide"
    }
   },
   "outputs": [
    {
     "data": {
      "image/png": "[encoded data removed]",
      "text/plain": [
       "<matplotlib.figure.Figure at 0x11f798cf8>"
      ]
     },
     "metadata": {},
     "output_type": "display_data"
    }
   ],
   "source": [
    "plotting.plot_max_depth_decision_regions()"
   ]
  },
  {
   "cell_type": "markdown",
   "metadata": {
    "slideshow": {
     "slide_type": "subslide"
    }
   },
   "source": [
    "## Model validation"
   ]
  },
  {
   "cell_type": "markdown",
   "metadata": {
    "slideshow": {
     "slide_type": "subslide"
    }
   },
   "source": [
    "## Testing & training sets\n",
    "\n",
    "- A trained model will generally perform better on data that was used to train it\n",
    "\n",
    "- scikit-learn has a convenient `train_test_split` function that randomly splits a dataset into a testing and training set"
   ]
  },
  {
   "cell_type": "code",
   "execution_count": 15,
   "metadata": {
    "slideshow": {
     "slide_type": "-"
    }
   },
   "outputs": [
    {
     "name": "stdout",
     "output_type": "stream",
     "text": [
      "X.shape = (150, 2)\n",
      "X_test.shape = (30, 2)\n",
      "X_train.shape = (120, 2)\n"
     ]
    }
   ],
   "source": [
    "from sklearn.model_selection import train_test_split\n",
    "\n",
    "X_train, X_test, y_train, y_test = train_test_split(X, y, test_size=0.2, random_state=2)\n",
    "\n",
    "print(f'X.shape = {X.shape}')\n",
    "print(f'X_test.shape = {X_test.shape}')\n",
    "print(f'X_train.shape = {X_train.shape}')"
   ]
  },
  {
   "cell_type": "markdown",
   "metadata": {
    "slideshow": {
     "slide_type": "subslide"
    }
   },
   "source": [
    "## Model performance metrics\n",
    "\n",
    "- There are many different performance metrics for classification and regression problems. Which metric you should use depends on the particular problem you are working on\n",
    "\n",
    "- Many commonly used performance metrics are built into the `metrics` module in scikit-learn \n",
    "\n",
    "- However, a user-defined scoring function can be created using the `sklearn.metrics.make_scorer` function"
   ]
  },
  {
   "cell_type": "code",
   "execution_count": 16,
   "metadata": {
    "slideshow": {
     "slide_type": "-"
    }
   },
   "outputs": [],
   "source": [
    "# Classification metrics\n",
    "from sklearn.metrics import (accuracy_score, precision_score, \n",
    "                             recall_score, f1_score, log_loss)"
   ]
  },
  {
   "cell_type": "code",
   "execution_count": 17,
   "metadata": {
    "slideshow": {
     "slide_type": "-"
    }
   },
   "outputs": [],
   "source": [
    "# Regression metrics\n",
    "from sklearn.metrics import mean_squared_error, mean_absolute_error, r2_score"
   ]
  },
  {
   "cell_type": "code",
   "execution_count": 18,
   "metadata": {},
   "outputs": [
    {
     "data": {
      "text/plain": [
       "0.6"
      ]
     },
     "execution_count": 18,
     "metadata": {},
     "output_type": "execute_result"
    }
   ],
   "source": [
    "y_pred = [0, 2, 1, 3, 1]\n",
    "y_true = [0, 1, 1, 3, 2]\n",
    "accuracy_score(y_true, y_pred)"
   ]
  },
  {
   "cell_type": "markdown",
   "metadata": {
    "slideshow": {
     "slide_type": "subslide"
    }
   },
   "source": [
    "## Cross-validation\n",
    "\n",
    "- Goal is to have a model generalize well to new, unseen data that wasn't used to train the model\n",
    "\n",
    "- It's standard practice to leave a portion of data set aside (i.e. not used in model training) as a validation, or testing set "
   ]
  },
  {
   "cell_type": "markdown",
   "metadata": {
    "slideshow": {
     "slide_type": "subslide"
    }
   },
   "source": [
    "### $k$-fold cross validation \n",
    "\n",
    "- The simplest cross-validation method, $k$-fold cross validation, consists of:\n",
    "    \n",
    "    - Partioning a dataset into $k$ different folds\n",
    "    \n",
    "    - Use $k-1$ of the folds to train a model, and one fold to evaluate the model performance\n",
    "    \n",
    "    - Repeat $k$ times\n",
    "    \n",
    "- Can calculate the average and standard deviation of the model performance on the different folds\n",
    "\n",
    "- Quantifies how well the model generalizes to new data"
   ]
  },
  {
   "cell_type": "markdown",
   "metadata": {
    "slideshow": {
     "slide_type": "subslide"
    }
   },
   "source": [
    "### $k$-fold cross validation diagram\n",
    "\n",
    "![Classical programming vs. machine learning. From *Deep Learning with Python* by Francois Chollet.](images/cv.png \"Classical programming vs. machine learning. From *Deep Learning with Python* by Francois Chollet.\")\n",
    "\n",
    "\n",
    "<p style=\"font-size:14px\">\n",
    "Image source: <a href=\"https://www.amazon.com/Python-Machine-Learning-scikit-learn-TensorFlow/dp/1787125939\">Python Machine Learning</a> by Sebastian Raschka\n",
    "</p>"
   ]
  },
  {
   "cell_type": "markdown",
   "metadata": {
    "slideshow": {
     "slide_type": "subslide"
    }
   },
   "source": [
    "## Cross validation in scikit-learn\n",
    "\n",
    "\n",
    "Many different cross validation techniques are implemented in the `sklearn.model_selection` module\n",
    "- `sklearn.model_selection.KFold`&mdash;$k$-fold cross validation\n",
    "\n",
    "- `sklearn.model_selection.StratifiedKFold`&mdash;$k$-fold cross validation variant where the splits preserve the percentage of samples for each class\n",
    "\n",
    "- `sklearn.model_selection.LeaveOneOut`&mdash;Each sample is used once as a test set\n",
    "\n",
    "- Etc. "
   ]
  },
  {
   "cell_type": "markdown",
   "metadata": {
    "slideshow": {
     "slide_type": "subslide"
    }
   },
   "source": [
    "Cross-validator objects have a `split` method that returns an generator of indices to split a dataset into training and testing sets"
   ]
  },
  {
   "cell_type": "code",
   "execution_count": 19,
   "metadata": {
    "slideshow": {
     "slide_type": "fragment"
    }
   },
   "outputs": [
    {
     "name": "stdout",
     "output_type": "stream",
     "text": [
      "train_index = [  1   4   7   8   9  10  15  17  19  22  26  31  32  33  34  37  38  39\n",
      "  40  43  46  47  49  50  51  52  56  57  58  60  61  62  63  66  67  68\n",
      "  69  70  72  73  75  76  79  80  82  83  86  88  90  95 100 102 103 104\n",
      " 107 109 110 111 112 116 118 120 121 122 124 130 133 137 138 139 142 145\n",
      " 146 147 149]\n",
      "test_index = [  0   2   3   5   6  11  12  13  14  16  18  20  21  23  24  25  27  28\n",
      "  29  30  35  36  41  42  44  45  48  53  54  55  59  64  65  71  74  77\n",
      "  78  81  84  85  87  89  91  92  93  94  96  97  98  99 101 105 106 108\n",
      " 113 114 115 117 119 123 125 126 127 128 129 131 132 134 135 136 140 141\n",
      " 143 144 148]\n"
     ]
    }
   ],
   "source": [
    "from sklearn.model_selection import KFold\n",
    "\n",
    "kf = KFold(n_splits=2, shuffle=True, random_state=2)\n",
    "folds = kf.split(X)\n",
    "train_index, test_index = next(folds)\n",
    "print(f'train_index = {train_index}')\n",
    "print(f'test_index = {test_index}')"
   ]
  },
  {
   "cell_type": "code",
   "execution_count": 20,
   "metadata": {
    "slideshow": {
     "slide_type": "subslide"
    }
   },
   "outputs": [],
   "source": [
    "from sklearn.model_selection import KFold\n",
    "\n",
    "kf = KFold(n_splits=2, random_state=2)\n",
    "for train_index, test_index in kf.split(X):\n",
    "    X_train, X_test = X[train_index], X[test_index]\n",
    "    y_train, y_test = y[train_index], y[test_index]"
   ]
  },
  {
   "cell_type": "markdown",
   "metadata": {
    "slideshow": {
     "slide_type": "subslide"
    }
   },
   "source": [
    "## Cross validation in action&mdash;tuning hyperparameters\n",
    "\n",
    "- It's standard practice to choose the value of a models hyperparameters by \n",
    "\n",
    "- \"Validation curves\""
   ]
  },
  {
   "cell_type": "markdown",
   "metadata": {
    "slideshow": {
     "slide_type": "subslide"
    }
   },
   "source": [
    "## Supervised machine learning workflow\n",
    "\n",
    "![overview](images/overview.jpg \"overview\")\n",
    "\n",
    "<p style=\"font-size:14px\">\n",
    "Image source: <a href=\"https://sebastianraschka.com/blog/2016/model-evaluation-selection-part3.html\">Model evaluation, model selection, and algorithm selection in machine learning</a> by Sebastian Raschka\n",
    "</p>"
   ]
  },
  {
   "cell_type": "code",
   "execution_count": 21,
   "metadata": {
    "slideshow": {
     "slide_type": "subslide"
    }
   },
   "outputs": [
    {
     "name": "stdout",
     "output_type": "stream",
     "text": [
      "gridsearch.best_params_ = {'criterion': 'gini', 'max_depth': 3}\n",
      "test_acc = 0.7666666666666667\n"
     ]
    }
   ],
   "source": [
    "from sklearn.model_selection import train_test_split, GridSearchCV\n",
    "from sklearn.tree import DecisionTreeClassifier\n",
    "from sklearn.metrics import accuracy_score\n",
    "\n",
    "# Get training and testing datasets\n",
    "X_train, X_test, y_train, y_test = train_test_split(X, y, test_size=0.2,\n",
    "                                                    random_state=2)\n",
    "\n",
    "# Use GridSearchCV to find optimal hyperparameter values\n",
    "clf = DecisionTreeClassifier(random_state=2)\n",
    "parameters = {'max_depth': range(1, 20),\n",
    "              'criterion': ['gini', 'entropy']}\n",
    "gridsearch = GridSearchCV(clf, parameters, scoring='accuracy', cv=10)\n",
    "gridsearch.fit(X_train, y_train)\n",
    "print(f'gridsearch.best_params_ = {gridsearch.best_params_}')\n",
    "best_clf = gridsearch.best_estimator_\n",
    "\n",
    "# Get tuned model performance from testing set\n",
    "y_pred = best_clf.predict(X_test)\n",
    "test_acc = accuracy_score(y_test, y_pred)\n",
    "print(f'test_acc = {test_acc}')\n",
    "\n",
    "# Train final model on full dataset\n",
    "final_model = DecisionTreeClassifier(random_state=2, **gridsearch.best_params_)\n",
    "final_model.fit(X, y);"
   ]
  },
  {
   "cell_type": "markdown",
   "metadata": {
    "slideshow": {
     "slide_type": "subslide"
    }
   },
   "source": [
    "## Additional Resources\n",
    "\n",
    "### Books\n",
    "- _Python Machine Learning_ by Sebastian Raschka [[Amazon](https://www.amazon.com/Python-Machine-Learning-scikit-learn-TensorFlow/dp/1787125939)][[GitHub](https://github.com/rasbt/python-machine-learning-book-2nd-edition)]\n",
    "\n",
    "- _Deep Learning_ by Ian Goodfellow, Yoshua Bengio, and Aaron Courville [[Amazon](https://www.amazon.com/Deep-Learning-Adaptive-Computation-Machine/dp/0262035618)]\n",
    "\n",
    "### Videos\n",
    "\n",
    "- Machine Learning with scikit learn by Andreas Mueller & Alexandre Gram (SciPy 2017) [[YouTube-part 1](https://www.youtube.com/watch?v=2kT6QOVSgSg)][[YouTube-part 2](https://www.youtube.com/watch?v=WLYzSas511I)]\n",
    "\n",
    "\n",
    "### Software \n",
    "\n",
    "- mlxtend &mdash; A library of extension and helper modules for Python's data analysis and machine learning libraries [[GitHub](https://github.com/rasbt/mlxtend)]\n",
    "\n",
    "- xgboost &mdash; Scalable, portable, and distributed gradient boosting library [[GitHub](https://github.com/dmlc/xgboost)]"
   ]
  },
  {
   "cell_type": "markdown",
   "metadata": {
    "slideshow": {
     "slide_type": "subslide"
    }
   },
   "source": [
    "# Thank you\n",
    "\n",
    "## Any questions?"
   ]
  },
  {
   "cell_type": "code",
   "execution_count": null,
   "metadata": {},
   "outputs": [],
   "source": []
  }
 ],
 "metadata": {
  "celltoolbar": "Slideshow",
  "kernelspec": {
   "display_name": "Python 3",
   "language": "python",
   "name": "python3"
  },
  "language_info": {
   "codemirror_mode": {
    "name": "ipython",
    "version": 3
   },
   "file_extension": ".py",
   "mimetype": "text/x-python",
   "name": "python",
   "nbconvert_exporter": "python",
   "pygments_lexer": "ipython3",
   "version": "3.6.4"
  }
 },
 "nbformat": 4,
 "nbformat_minor": 2
}
